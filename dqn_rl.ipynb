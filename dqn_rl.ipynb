{
  "nbformat": 4,
  "nbformat_minor": 0,
  "metadata": {
    "kernelspec": {
      "display_name": "Python 3",
      "language": "python",
      "name": "python3"
    },
    "language_info": {
      "codemirror_mode": {
        "name": "ipython",
        "version": 3
      },
      "file_extension": ".py",
      "mimetype": "text/x-python",
      "name": "python",
      "nbconvert_exporter": "python",
      "pygments_lexer": "ipython3",
      "version": "3.6.8"
    },
    "colab": {
      "name": "dqn_rami.ipynb",
      "provenance": [],
      "collapsed_sections": [],
      "toc_visible": true
    }
  },
  "cells": [
    {
      "cell_type": "markdown",
      "metadata": {
        "id": "6zNsLCVunARL",
        "colab_type": "text"
      },
      "source": [
        "**You may need to install [OpenCV](https://pypi.python.org/pypi/opencv-python) and [scikit-video](http://www.scikit-video.org/stable/).**"
      ]
    },
    {
      "cell_type": "code",
      "metadata": {
        "id": "_I2g85olnP6R",
        "colab_type": "code",
        "outputId": "baae96ac-12a0-4f76-a558-c748f60db04b",
        "colab": {
          "base_uri": "https://localhost:8080/",
          "height": 153
        }
      },
      "source": [
        "! sudo pip install scikit-video"
      ],
      "execution_count": 0,
      "outputs": [
        {
          "output_type": "stream",
          "text": [
            "Collecting scikit-video\n",
            "\u001b[?25l  Downloading https://files.pythonhosted.org/packages/b1/a6/c69cad508139a342810ae46e946ebb3256aa6e42f690d901bb68f50582e3/scikit_video-1.1.11-py2.py3-none-any.whl (2.3MB)\n",
            "\u001b[K     |████████████████████████████████| 2.3MB 2.9MB/s \n",
            "\u001b[?25hRequirement already satisfied: scipy in /usr/local/lib/python3.6/dist-packages (from scikit-video) (1.4.1)\n",
            "Requirement already satisfied: numpy in /usr/local/lib/python3.6/dist-packages (from scikit-video) (1.17.5)\n",
            "Requirement already satisfied: pillow in /usr/local/lib/python3.6/dist-packages (from scikit-video) (6.2.2)\n",
            "Installing collected packages: scikit-video\n",
            "Successfully installed scikit-video-1.1.11\n"
          ],
          "name": "stdout"
        }
      ]
    },
    {
      "cell_type": "code",
      "metadata": {
        "id": "9jtuiFg-nARO",
        "colab_type": "code",
        "colab": {}
      },
      "source": [
        "import keras\n",
        "import numpy as np\n",
        "import io\n",
        "import base64\n",
        "from IPython.display import HTML\n",
        "import skvideo.io\n",
        "import cv2\n",
        "import json\n",
        "from keras.models import Sequential,model_from_json\n",
        "from keras.layers.core import Dense, Dropout\n",
        "from keras.optimizers import sgd\n",
        "from keras.layers import Conv2D, MaxPooling2D, Activation, AveragePooling2D,Reshape,BatchNormalization"
      ],
      "execution_count": 0,
      "outputs": []
    },
    {
      "cell_type": "markdown",
      "metadata": {
        "id": "734oxlNjnART",
        "colab_type": "text"
      },
      "source": [
        "# MiniProject on Deep Reinforcement Learning"
      ]
    },
    {
      "cell_type": "markdown",
      "metadata": {
        "id": "6tQjPZHFnARU",
        "colab_type": "text"
      },
      "source": [
        "__Notations__: $E_p$ is the expectation under probability $p$. Please justify each of your answer and widely comment your code."
      ]
    },
    {
      "cell_type": "markdown",
      "metadata": {
        "id": "-tD029c9nARV",
        "colab_type": "text"
      },
      "source": [
        "# Context"
      ]
    },
    {
      "cell_type": "markdown",
      "metadata": {
        "id": "aQGk3QgMnARW",
        "colab_type": "text"
      },
      "source": [
        "In a reinforcement learning algorithm, we modelize each step $t$ as an action $a_t$ obtained from a state $s_t$, i.e. $\\{(a_{t},s_{t})_{t\\leq T}\\}$ having the Markov property. We consider a discount factor $\\gamma \\in [0,1]$ that ensures convergence. The goal is to find among all the policies $\\pi$, one that maximizes the expected reward:\n",
        "\n",
        "$$\n",
        "R(\\pi)=\\sum_{t\\leq T}E_{p^{\\pi}}[\\gamma^t r(s_{t},a_{t})] \\> ,\n",
        "$$\n",
        "\n",
        "where: \n",
        "$$p^{\\pi}(a_{0},a_{1},s_{1},...,a_{T},s_{T})=p(a_{0})\\prod_{t=1}^{T}\\pi(a_{t}|s_{t})p(s_{t+1}|s_{t},a_{t}) \\> .\n",
        "$$\n",
        "\n",
        "We note the $Q$-function:\n",
        "\n",
        "$$Q^\\pi(s,a)=E_{p^{\\pi}}[\\sum_{t\\leq T}\\gamma^{t}r(s_{t},a_{t})|s_{0}=s,a_{0}=a] \\> .\n",
        "$$\n",
        "\n",
        "Thus, the optimal Q function is:\n",
        "$$\n",
        "Q^*(s,a)=\\max_{\\pi}Q^\\pi(s,a) \\> .\n",
        "$$\n",
        "\n",
        "In this project, we will apply the deep reinforcement learning techniques to a simple game: an agent will have to learn from scratch a policy that will permit it maximizing a reward."
      ]
    },
    {
      "cell_type": "markdown",
      "metadata": {
        "id": "4K3O784LnARX",
        "colab_type": "text"
      },
      "source": [
        "## The environment, the agent and the game"
      ]
    },
    {
      "cell_type": "markdown",
      "metadata": {
        "id": "byFf3bTDnARY",
        "colab_type": "text"
      },
      "source": [
        "### The environment"
      ]
    },
    {
      "cell_type": "markdown",
      "metadata": {
        "id": "a_Uk6aIdnARZ",
        "colab_type": "text"
      },
      "source": [
        "```Environment``` is an abstract class that represents the states, rewards, and actions to obtain the new state."
      ]
    },
    {
      "cell_type": "code",
      "metadata": {
        "id": "JMWJvLCCnARa",
        "colab_type": "code",
        "colab": {}
      },
      "source": [
        "class Environment(object):\n",
        "    def __init__(self):\n",
        "        pass\n",
        "\n",
        "    def act(self, act):\n",
        "        \"\"\"\n",
        "        One can act on the environment and obtain its reaction:\n",
        "        - the new state\n",
        "        - the reward of the new state\n",
        "        - should we continue the game?\n",
        "\n",
        "        :return: state, reward, game_over\n",
        "        \"\"\"\n",
        "        pass\n",
        "\n",
        "\n",
        "    def reset(self):\n",
        "        \"\"\"\n",
        "        Reinitialize the environment to a random state and returns\n",
        "        the original state\n",
        "\n",
        "        :return: state\n",
        "        \"\"\"\n",
        "        pass\n",
        "    \n",
        "    def draw(self):\n",
        "        \"\"\"\n",
        "        Visualize in the console or graphically the current state\n",
        "        \"\"\"\n",
        "        pass"
      ],
      "execution_count": 0,
      "outputs": []
    },
    {
      "cell_type": "markdown",
      "metadata": {
        "id": "OtY-qgDanARd",
        "colab_type": "text"
      },
      "source": [
        "The method ```act``` allows to act on the environment at a given state $s_t$ (stored internally), via action $a_t$. The method will return the new state $s_{t+1}$, the reward $r(s_{t},a_{t})$ and determines if $t\\leq T$ (*game_over*).\n",
        "\n",
        "The method ```reset``` simply reinitializes the environment to a random state $s_0$.\n",
        "\n",
        "The method ```draw``` displays the current state $s_t$ (this is useful to check the behavior of the Agent).\n",
        "\n",
        "We modelize $s_t$ as a tensor, while $a_t$ is an integer."
      ]
    },
    {
      "cell_type": "markdown",
      "metadata": {
        "id": "BIZosvv0nARe",
        "colab_type": "text"
      },
      "source": [
        "### The Agent"
      ]
    },
    {
      "cell_type": "markdown",
      "metadata": {
        "id": "sq2paqEEnARf",
        "colab_type": "text"
      },
      "source": [
        "The goal of the ```Agent``` is to interact with the ```Environment``` by proposing actions $a_t$ obtained from a given state $s_t$ to attempt to maximize its __reward__ $r(s_t,a_t)$. We propose the following abstract class:"
      ]
    },
    {
      "cell_type": "code",
      "metadata": {
        "id": "jcDwaphhnARg",
        "colab_type": "code",
        "colab": {}
      },
      "source": [
        "class Agent(object):\n",
        "    def __init__(self, epsilon=0.1, n_action=4):\n",
        "        self.epsilon = epsilon\n",
        "        self.n_action = n_action\n",
        "    \n",
        "    def set_epsilon(self,e):\n",
        "        self.epsilon = e\n",
        "\n",
        "    def act(self,s,train=True):\n",
        "        \"\"\" This function should return the next action to do:\n",
        "        an integer between 0 and 4 (not included) with a random exploration of epsilon\"\"\"\n",
        "        if train:\n",
        "            if np.random.rand() <= self.epsilon:\n",
        "                a = np.random.randint(0, self.n_action, size=1)[0]\n",
        "            else:\n",
        "                a = self.learned_act(s)\n",
        "        else: # in some cases, this can improve the performance.. remove it if poor performances\n",
        "            a = self.learned_act(s)\n",
        "\n",
        "        return a\n",
        "\n",
        "    def learned_act(self,s):\n",
        "        \"\"\" Act via the policy of the agent, from a given state s\n",
        "        it proposes an action a\"\"\"\n",
        "        pass\n",
        "\n",
        "    def reinforce(self, s, n_s, a, r, game_over_):\n",
        "        \"\"\" This function is the core of the learning algorithm. \n",
        "        It takes as an input the current state s_, the next state n_s_\n",
        "        the action a_ used to move from s_ to n_s_ and the reward r_.\n",
        "        \n",
        "        Its goal is to learn a policy.\n",
        "        \"\"\"\n",
        "        pass\n",
        "\n",
        "    def save(self):\n",
        "        \"\"\" This function returns basic stats if applicable: the\n",
        "        loss and/or the model\"\"\"\n",
        "        pass\n",
        "\n",
        "    def load(self):\n",
        "        \"\"\" This function allows to restore a model\"\"\"\n",
        "        pass"
      ],
      "execution_count": 0,
      "outputs": []
    },
    {
      "cell_type": "markdown",
      "metadata": {
        "id": "OQD9Q8_EnARm",
        "colab_type": "text"
      },
      "source": [
        "***\n",
        "__Question 1__:\n",
        "Explain the function act. Why is ```epsilon``` essential?"
      ]
    },
    {
      "cell_type": "markdown",
      "metadata": {
        "id": "Q9WCWA5InARo",
        "colab_type": "text"
      },
      "source": [
        "The function '''act''' takes as input the current state s and a boolean variable Train.\n",
        "If Train is set to True. Then the Agent will choose at this current state either a random action or the best action it has learned previously with the following probabilities.\n",
        "\n",
        "1.   Probability of Exploration : $100*\\epsilon \\% $\n",
        "2.   Probability of Exploitation: $100*(1-\\epsilon) \\%$\n",
        "\n",
        "The '''epsilon''' is esseantial because it handles the trade-off \"Exploration\" \"Exploitation\". In other words, our agent should on one hand explore the space of actions in order to learn about them. On the other hand, our agent should be able to apply what it has learned previously to pich the action that will maximize the future reward.\n",
        "\n"
      ]
    },
    {
      "cell_type": "markdown",
      "metadata": {
        "id": "SrKMQisHnARp",
        "colab_type": "text"
      },
      "source": [
        "***\n",
        "### The Game"
      ]
    },
    {
      "cell_type": "markdown",
      "metadata": {
        "id": "EbEx45JHnARq",
        "colab_type": "text"
      },
      "source": [
        "The ```Agent``` and the ```Environment``` work in an interlaced way as in the following (take some time to understand this code as it is the core of the project)\n",
        "\n",
        "```python\n",
        "\n",
        "epoch = 300\n",
        "env = Environment()\n",
        "agent = Agent()\n",
        "\n",
        "\n",
        "# Number of won games\n",
        "score = 0\n",
        "loss = 0\n",
        "\n",
        "\n",
        "for e in range(epoch):\n",
        "    # At each epoch, we restart to a fresh game and get the initial state\n",
        "    state = env.reset()\n",
        "    # This assumes that the games will end\n",
        "    game_over = False\n",
        "\n",
        "    win = 0\n",
        "    lose = 0\n",
        "    \n",
        "    while not game_over:\n",
        "        # The agent performs an action\n",
        "        action = agent.act(state)\n",
        "\n",
        "        # Apply an action to the environment, get the next state, the reward\n",
        "        # and if the games end\n",
        "        prev_state = state\n",
        "        state, reward, game_over = env.act(action)\n",
        "\n",
        "        # Update the counters\n",
        "        if reward > 0:\n",
        "            win = win + reward\n",
        "        if reward < 0:\n",
        "            lose = lose -reward\n",
        "\n",
        "        # Apply the reinforcement strategy\n",
        "        loss = agent.reinforce(prev_state, state,  action, reward, game_over)\n",
        "\n",
        "    # Save as a mp4\n",
        "    if e % 10 == 0:\n",
        "        env.draw(e)\n",
        "\n",
        "    # Update stats\n",
        "    score += win-lose\n",
        "\n",
        "    print(\"Epoch {:03d}/{:03d} | Loss {:.4f} | Win/lose count {}/{} ({})\"\n",
        "          .format(e, epoch, loss, win, lose, win-lose))\n",
        "    agent.save()\n",
        "```"
      ]
    },
    {
      "cell_type": "markdown",
      "metadata": {
        "id": "6rHto9V3nARr",
        "colab_type": "text"
      },
      "source": [
        "# The game, *eat cheese*"
      ]
    },
    {
      "cell_type": "markdown",
      "metadata": {
        "id": "T9trYg3HnARs",
        "colab_type": "text"
      },
      "source": [
        "A rat runs on an island and tries to eat as much as possible. The island is subdivided into $N\\times N$ cells, in which there are cheese (+0.5) and poisonous cells (-1). The rat has a visibility of 2 cells (thus it can see $5^2$ cells). The rat is given a time $T$ to accumulate as much food as possible. It can perform 4 actions: going up, down, left, right. \n",
        "\n",
        "The goal is to code an agent to solve this task that will learn by trial and error. We propose the following environment:"
      ]
    },
    {
      "cell_type": "code",
      "metadata": {
        "id": "J6rc9hWDnARt",
        "colab_type": "code",
        "colab": {}
      },
      "source": [
        "class Environment(object):\n",
        "    def __init__(self, grid_size=10, max_time=500, temperature=0.1):\n",
        "        grid_size = grid_size+4\n",
        "        self.grid_size = grid_size\n",
        "        self.max_time = max_time\n",
        "        self.temperature = temperature\n",
        "\n",
        "        #board on which one plays\n",
        "        self.board = np.zeros((grid_size,grid_size))\n",
        "        self.position = np.zeros((grid_size,grid_size))\n",
        "\n",
        "        # coordinate of the cat\n",
        "        self.x = 0\n",
        "        self.y = 1\n",
        "\n",
        "        # self time\n",
        "        self.t = 0\n",
        "\n",
        "        self.scale=16\n",
        "\n",
        "        self.to_draw = np.zeros((max_time+2, grid_size*self.scale, grid_size*self.scale, 3))\n",
        "\n",
        "\n",
        "    def draw(self,e):\n",
        "        skvideo.io.vwrite(str(e) + '.mp4', self.to_draw)\n",
        "\n",
        "    def get_frame(self,t):\n",
        "        b = np.zeros((self.grid_size,self.grid_size,3))+128\n",
        "        b[self.board>0,0] = 256\n",
        "        b[self.board < 0, 2] = 256\n",
        "        b[self.x,self.y,:]=256\n",
        "        b[-2:,:,:]=0\n",
        "        b[:,-2:,:]=0\n",
        "        b[:2,:,:]=0\n",
        "        b[:,:2,:]=0\n",
        "        \n",
        "        b =  cv2.resize(b, None, fx=self.scale, fy=self.scale, interpolation=cv2.INTER_NEAREST)\n",
        "\n",
        "        self.to_draw[t,:,:,:]=b\n",
        "\n",
        "\n",
        "    def act(self, action):\n",
        "        \"\"\"This function returns the new state, reward and decides if the\n",
        "        game ends.\"\"\"\n",
        "\n",
        "        self.get_frame(int(self.t))\n",
        "\n",
        "        self.position = np.zeros((self.grid_size, self.grid_size))\n",
        "\n",
        "        self.position[0:2,:]= -1\n",
        "        self.position[:,0:2] = -1\n",
        "        self.position[-2:, :] = -1\n",
        "        self.position[-2:, :] = -1\n",
        "\n",
        "        self.position[self.x, self.y] = 1\n",
        "        if action == 0:\n",
        "            if self.x == self.grid_size-3:\n",
        "                self.x = self.x-1\n",
        "            else:\n",
        "                self.x = self.x + 1\n",
        "        elif action == 1:\n",
        "            if self.x == 2:\n",
        "                self.x = self.x+1\n",
        "            else:\n",
        "                self.x = self.x-1\n",
        "        elif action == 2:\n",
        "            if self.y == self.grid_size - 3:\n",
        "                self.y = self.y - 1\n",
        "            else:\n",
        "                self.y = self.y + 1\n",
        "        elif action == 3:\n",
        "            if self.y == 2:\n",
        "                self.y = self.y + 1\n",
        "            else:\n",
        "                self.y = self.y - 1\n",
        "        else:\n",
        "            RuntimeError('Error: action not recognized')\n",
        "\n",
        "        self.t = self.t + 1\n",
        "        reward = self.board[self.x, self.y]\n",
        "        self.board[self.x, self.y] = 0\n",
        "        game_over = self.t > self.max_time\n",
        "        state = np.concatenate((self.board.reshape(self.grid_size, self.grid_size,1),\n",
        "                        self.position.reshape(self.grid_size, self.grid_size,1)),axis=2)\n",
        "        state = state[self.x-2:self.x+3,self.y-2:self.y+3,:]\n",
        "\n",
        "        return state, reward, game_over\n",
        "\n",
        "    def reset(self):\n",
        "        \"\"\"This function resets the game and returns the initial state\"\"\"\n",
        "\n",
        "        self.x = np.random.randint(3, self.grid_size-3, size=1)[0]\n",
        "        self.y = np.random.randint(3, self.grid_size-3, size=1)[0]\n",
        "\n",
        "\n",
        "        bonus = 0.5*np.random.binomial(1,self.temperature,size=self.grid_size**2)\n",
        "        bonus = bonus.reshape(self.grid_size,self.grid_size)\n",
        "\n",
        "        malus = -1.0*np.random.binomial(1,self.temperature,size=self.grid_size**2)\n",
        "        malus = malus.reshape(self.grid_size, self.grid_size)\n",
        "\n",
        "        self.to_draw = np.zeros((self.max_time+2, self.grid_size*self.scale, self.grid_size*self.scale, 3))\n",
        "\n",
        "\n",
        "        malus[bonus>0]=0\n",
        "\n",
        "        self.board = bonus + malus\n",
        "\n",
        "        self.position = np.zeros((self.grid_size, self.grid_size))\n",
        "        self.position[0:2,:]= -1\n",
        "        self.position[:,0:2] = -1\n",
        "        self.position[-2:, :] = -1\n",
        "        self.position[-2:, :] = -1\n",
        "        self.board[self.x,self.y] = 0\n",
        "        self.t = 0\n",
        "\n",
        "        state = np.concatenate((\n",
        "                               self.board.reshape(self.grid_size, self.grid_size,1),\n",
        "                        self.position.reshape(self.grid_size, self.grid_size,1)),axis=2)\n",
        "\n",
        "        state = state[self.x - 2:self.x + 3, self.y - 2:self.y + 3, :]\n",
        "        return state"
      ],
      "execution_count": 0,
      "outputs": []
    },
    {
      "cell_type": "markdown",
      "metadata": {
        "id": "9dp7GrzHnARw",
        "colab_type": "text"
      },
      "source": [
        "The following elements are important because they correspond to the hyper parameters for this project:"
      ]
    },
    {
      "cell_type": "code",
      "metadata": {
        "id": "Wu4ztVucnARy",
        "colab_type": "code",
        "colab": {}
      },
      "source": [
        "# parameters\n",
        "size = 13\n",
        "T=200\n",
        "temperature=0.3\n",
        "epochs_train=100 # set small when debugging\n",
        "epochs_test=20 # set small when debugging\n",
        "\n",
        "# display videos\n",
        "def display_videos(name):\n",
        "    video = io.open(name, 'r+b').read()\n",
        "    encoded = base64.b64encode(video)\n",
        "    return '''<video alt=\"test\" controls>\n",
        "                <source src=\"data:video/mp4;base64,{0}\" type=\"video/mp4\" />\n",
        "             </video>'''.format(encoded.decode('ascii'))"
      ],
      "execution_count": 0,
      "outputs": []
    },
    {
      "cell_type": "markdown",
      "metadata": {
        "id": "8-0Ub8zAnAR4",
        "colab_type": "text"
      },
      "source": [
        "__Question 2__ Explain the use of the arrays ```position``` and ```board```."
      ]
    },
    {
      "cell_type": "markdown",
      "metadata": {
        "id": "60JdSsWvnAR5",
        "colab_type": "text"
      },
      "source": [
        "```position``` : is an array that represents the possible cells where the rat can go. It contains zeros everywhere, except for the boundaries, where the rat can't go, that has -1 as a value and also the position of the rat where the zero is replaced by one.\n",
        "\n",
        "```board``` : is an array that represent the reward of each cell (0.5 if the cell contains cheese, -1 if poison). If the rat goes through a cell, the value change to zero."
      ]
    },
    {
      "cell_type": "markdown",
      "metadata": {
        "id": "836onh1lnAR6",
        "colab_type": "text"
      },
      "source": [
        "## Random Agent"
      ]
    },
    {
      "cell_type": "markdown",
      "metadata": {
        "id": "BAZWbgTcnAR7",
        "colab_type": "text"
      },
      "source": [
        "***\n",
        "__Question 3__ Implement a random Agent (only ```learned_act``` needs to be implemented):"
      ]
    },
    {
      "cell_type": "code",
      "metadata": {
        "id": "TpVZ1-NdnAR7",
        "colab_type": "code",
        "colab": {}
      },
      "source": [
        "class RandomAgent(Agent):\n",
        "    def __init__(self):\n",
        "        super(RandomAgent, self).__init__()\n",
        "        pass\n",
        "\n",
        "    def learned_act(self, s):\n",
        "        return np.random.randint(0,self.n_action,size=1)[0]"
      ],
      "execution_count": 0,
      "outputs": []
    },
    {
      "cell_type": "markdown",
      "metadata": {
        "id": "GicmK8JYnAR-",
        "colab_type": "text"
      },
      "source": [
        "***\n",
        "***\n",
        "__Question 4__ Visualize the game moves. You need to fill in the following function for the evaluation:"
      ]
    },
    {
      "cell_type": "code",
      "metadata": {
        "id": "MfXZFpndnAR_",
        "colab_type": "code",
        "colab": {}
      },
      "source": [
        "def test(agent,env,epochs,prefix=''):\n",
        "    # Number of won games\n",
        "    score = 0\n",
        "        \n",
        "    for e in range(epochs):\n",
        "        \n",
        "        # At each epoch, we restart to a fresh game and get the initial state\n",
        "        state = env.reset()\n",
        "        \n",
        "        # This assumes that the games will end\n",
        "        game_over = False\n",
        "\n",
        "        win = 0\n",
        "        lose = 0\n",
        "    \n",
        "        while not game_over:\n",
        "            # The agent performs an action\n",
        "            action = agent.act(state)\n",
        "\n",
        "            # Apply an action to the environment, get the next state, the reward\n",
        "            # and if the games end\n",
        "            prev_state = state\n",
        "            state, reward, game_over = env.act(action)\n",
        "\n",
        "            # Update the counters\n",
        "            if reward > 0:\n",
        "                win = win + reward\n",
        "            if reward < 0:\n",
        "                lose = lose -reward\n",
        "        \n",
        "        # Save as a mp4\n",
        "        env.draw(prefix+str(e))\n",
        "\n",
        "        # Update stats\n",
        "        score = score + win-lose\n",
        "\n",
        "        print(\"Win/lose count {}/{}. Average score ({})\"\n",
        "              .format(win, lose, score/(1+e)))\n",
        "    print('Final score: '+str(score/epochs))"
      ],
      "execution_count": 0,
      "outputs": []
    },
    {
      "cell_type": "code",
      "metadata": {
        "id": "TNZZPFfInASD",
        "colab_type": "code",
        "outputId": "edb88fc0-9a86-49d8-9741-f8799592537a",
        "colab": {
          "base_uri": "https://localhost:8080/",
          "height": 735
        }
      },
      "source": [
        "# Initialize the game\n",
        "env = Environment(grid_size=size, max_time=T,temperature=temperature)\n",
        "\n",
        "# Initialize the agent!\n",
        "agent = RandomAgent()\n",
        "\n",
        "test(agent,env,epochs_test,prefix='random')\n",
        "HTML(display_videos('random0.mp4'))"
      ],
      "execution_count": 0,
      "outputs": [
        {
          "output_type": "stream",
          "text": [
            "Win/lose count 7.5/16.0. Average score (-8.5)\n",
            "Win/lose count 7.5/11.0. Average score (-6.0)\n",
            "Win/lose count 7.5/17.0. Average score (-7.166666666666667)\n",
            "Win/lose count 6.5/10.0. Average score (-6.25)\n",
            "Win/lose count 13.0/16.0. Average score (-5.6)\n",
            "Win/lose count 6.5/16.0. Average score (-6.25)\n",
            "Win/lose count 8.5/18.0. Average score (-6.714285714285714)\n",
            "Win/lose count 9.5/15.0. Average score (-6.5625)\n",
            "Win/lose count 11.0/14.0. Average score (-6.166666666666667)\n",
            "Win/lose count 10.0/13.0. Average score (-5.85)\n",
            "Win/lose count 10.5/15.0. Average score (-5.7272727272727275)\n",
            "Win/lose count 8.5/8.0. Average score (-5.208333333333333)\n",
            "Win/lose count 12.5/13.0. Average score (-4.846153846153846)\n",
            "Win/lose count 8.0/14.0. Average score (-4.928571428571429)\n",
            "Win/lose count 14.0/19.0. Average score (-4.933333333333334)\n",
            "Win/lose count 11.0/14.0. Average score (-4.8125)\n",
            "Win/lose count 13.5/7.0. Average score (-4.147058823529412)\n",
            "Win/lose count 8.5/17.0. Average score (-4.388888888888889)\n",
            "Win/lose count 12.5/14.0. Average score (-4.2368421052631575)\n",
            "Win/lose count 6.5/15.0. Average score (-4.45)\n",
            "Win/lose count 14.0/19.0. Average score (-4.476190476190476)\n",
            "Win/lose count 12.0/9.0. Average score (-4.136363636363637)\n",
            "Win/lose count 8.0/17.0. Average score (-4.3478260869565215)\n",
            "Win/lose count 10.0/13.0. Average score (-4.291666666666667)\n",
            "Win/lose count 7.0/14.0. Average score (-4.4)\n",
            "Final score: -4.4\n"
          ],
          "name": "stdout"
        },
        {
          "output_type": "execute_result",
          "data": {
            "text/html": [
              "<video alt=\"test\" controls>\n",
              "                <source src=\"data:video/mp4;base64,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\" type=\"video/mp4\" />\n",
              "             </video>"
            ],
            "text/plain": [
              "<IPython.core.display.HTML object>"
            ]
          },
          "metadata": {
            "tags": []
          },
          "execution_count": 12
        }
      ]
    },
    {
      "cell_type": "markdown",
      "metadata": {
        "id": "DsreIP1CnASH",
        "colab_type": "text"
      },
      "source": [
        "***\n",
        "## DQN"
      ]
    },
    {
      "cell_type": "markdown",
      "metadata": {
        "id": "jegzR5EdnASI",
        "colab_type": "text"
      },
      "source": [
        "Let us assume here that $T=\\infty$.\n",
        "\n",
        "***\n",
        "__Question 5__ Let $\\pi$ be a policy, show that:\n",
        "\n",
        "$$\n",
        "Q^{\\pi}(s,a)=E_{(s',a')\\sim p(.|s,a)}[r(s,a)+\\gamma Q^{\\pi}(s',a')]\n",
        "$$\n",
        "\n",
        "Then, show that for the optimal policy $\\pi^*$ (we assume its existence), the following holds: \n",
        "\n",
        "$$\n",
        "Q^{*}(s,a)=E_{s'\\sim \\pi^*(.|s,a)}[r(s,a)+\\gamma\\max_{a'}Q^{*}(s',a')].\n",
        "$$\n",
        "Finally, deduce that a plausible objective is:\n",
        "\n",
        "$$\n",
        "\\mathcal{L}(\\theta)=E_{s' \\sim \\pi^*(.|s,a)}\\Vert r+\\gamma\\max\\max_{a'}Q(s',a',\\theta)-Q(s,a,\\theta)\\Vert^{2}.\n",
        "$$\n",
        "\n",
        "\n",
        "\n",
        "\n",
        "*   Let $\\pi$ be a policy:\n",
        "\n",
        "We Have $$Q^\\pi(s,a)=E_{p^{\\pi}}[\\sum_{t\\leq T}\\gamma^{t}r(s_{t},a_{t})|s_{0}=s,a_{0}=a] \\> .\n",
        "$$\n",
        "That can be written as follow,\n",
        "$$\n",
        "Q^\\pi(s,a)=E_{p^{\\pi}}[r(s,a) + \\sum_{0<t\\leq T}\\gamma^{t}r(s_{t},a_{t})|s_{0}=s,a_{0}=a] \\> .\n",
        "$$\n",
        "$$\n",
        "Q^\\pi(s,a)=E_{p^{\\pi}}[r(s,a)|s_{0}=s,a_{0}=a] \\>  + E_{p^{\\pi}}[\\sum_{0<t\\leq T}\\gamma^{t}r(s_{t},a_{t})|s_{0}=s,a_{0}=a] \\> .\n",
        "$$\n",
        "$$\n",
        "Q^\\pi(s,a)=r(s,a)  + \\gamma*E_{p^{\\pi}}[\\sum_{t\\leq T}\\gamma^{t}r(s_{t},a_{t})|s_{0}=s,a_{0}=a] \\> .\n",
        "$$\n",
        "$$\n",
        "Q^\\pi(s,a)=r(s,a)  +\\gamma* E_{(s',a')\\sim p(.|s,a)}[ Q^{\\pi}(s',a')]\n",
        "$$\n",
        "Finally we get,\n",
        "$$\n",
        "Q^{\\pi}(s,a)=E_{(s',a')\\sim p(.|s,a)}[r(s,a)+\\gamma Q^{\\pi}(s',a')]\n",
        "$$\n",
        "\n",
        "\n",
        "\\\\\n",
        "\\\\\n",
        "\n",
        "\n",
        "*      We have:\n",
        "\n",
        "$$ Q^{*}(s,a) = \\max_{\\pi} E_{(s',a')\\sim p(.|s,a)}[r(s,a)+\\gamma Q^{\\pi}(s',a')] $$\n",
        "\n",
        "$$ Q^{*}(s,a) = \\max_{\\pi} r(s, a) + \\gamma \\sum p(s_{t+1}=s' |s_t = s, a_t = a )Q^{\\pi}(s',a') $$\n",
        "\n",
        "$$ Q^{*}(s,a) = r(s,a) + \\gamma \\max_{\\pi} \\sum p(s_{t+1}=s' |s_t = s, a_t = a )Q^{\\pi'}(s',a') \\qquad \\text{with } \\pi=(a',\\pi') $$\n",
        "\n",
        "We can exchange the maximum and the sum with the following inequality :\n",
        "\n",
        "$$ \\max_{\\pi} \\sum_{s'} p(s_{t+1}=s' |s_t = s, a_t = a )Q^{\\pi'}(s',a') \\leq \\sum_{(s',a')} p(s_{t+1}=s' |s_t = s, a_t = a ) \\max_{\\pi}Q^{\\pi'}(s',a') $$\n",
        "\n",
        "Then we have : (considering $\\hat{\\pi}(s',a') = \\arg\\max_{\\pi'} Q^{\\pi'}(s',a')$)\n",
        "\n",
        "$$\n",
        "\\begin{align*}\n",
        " \\sum_{s'} p(s_{t+1}=s'|s_t = s, a_t = a ) \\max_{\\pi'}Q^{\\pi'}(s',a') &= \\sum_{s'} p(s_{t+1}=s' |s_t = s, a_t = a ) Q^{\\hat{\\pi}(s',a')}(s',a') \\\\\n",
        " &\\leq \\max_{\\pi'} \\sum_{s'} p(s_{t+1}=s' |s_t = s, a_t = a )Q^{\\pi'}(s',a') \n",
        "\\end{align*}\n",
        "$$\n",
        "\n",
        "So :\n",
        "\n",
        "$$ Q^{*}(s,a) = r(s,a) + \\gamma  \\sum(p(s_{t+1}=s' |s_t = s, a_t = a )\\max_{a'}\\max_{\\pi'}Q^{\\pi'}(s',a') $$\n",
        "\n",
        "\n",
        "$$ Q^{*}(s,a) = r(s,a) + \\gamma \\sum(p(s_{t+1}=s' |s_t = s, a_t = a )\\max_{a'} Q^{*}(s',a') $$\n",
        "\n",
        "Finally:$$ Q^{*}(s, a) = E_{s' \\sim \\pi^{*}(\\cdot|s,a)} \\left[ r(s, a) + \\underset{a'}{\\max} \\gamma Q^{*}(s', a') \\right]$$\n",
        "\n",
        "*   Let $Q^{\\theta}(s, a) = Q(s, a, \\theta)$ be our $Q$ function (approx. by a neural network). We want $Q^{\\theta} \\approx Q^{*}$. In other terms, $Q^{\\theta}$ should verify :\n",
        "\n",
        "$$ Q^{\\theta}(s, a) = E_{s'\\sim \\pi^*(.|s,a)} \\left[ r(s,a)+\\gamma\\max_{a'}Q^{\\theta}(s',a') \\right] $$\n",
        "\n",
        "$$ E_{s'\\sim \\pi^*(.|s,a)} \\left[ r(s,a)+\\gamma\\max_{a'}Q^{\\theta}(s',a') - Q^{\\theta}(s, a) \\right] = 0 $$\n",
        "\n",
        "$$ \\left|\\left| E_{s'\\sim \\pi^*(.|s,a)} \\left[ r(s,a)+\\gamma\\max_{a'}Q^{\\theta}(s',a') - Q^{\\theta}(s, a) \\right] \\right|\\right|^2 = 0 $$\n",
        "\n",
        "Hence :\n",
        "\n",
        "$$ E_{s'\\sim \\pi^*(.|s,a)} \\left|\\left| r(s,a)+\\gamma\\max_{a'}Q^{\\theta}(s',a') - Q^{\\theta}(s, a) \\right|\\right|^2 = 0 $$\n",
        "\n",
        "An objective function can be then defined as:\n",
        "\n",
        "$$ \\mathcal{L}(\\theta) = E_{s'\\sim \\pi^*(.|s,a)} \\left|\\left| r + \\gamma\\max_{a'}Q(s', a', \\theta) - Q(s, a, \\theta) \\right|\\right|^2 $$\n",
        "\n",
        "that has to be minimized.\n",
        "\n"
      ]
    },
    {
      "cell_type": "markdown",
      "metadata": {
        "id": "QwJcCE7bnASJ",
        "colab_type": "text"
      },
      "source": [
        "***\n",
        "The DQN-learning algorithm relies on these derivations to train the parameters $\\theta$ of a Deep Neural Network:\n",
        "\n",
        "1. At the state $s_t$, select the action $a_t$ with best reward using $Q_t$ and store the results;\n",
        "\n",
        "2. Obtain the new state $s_{t+1}$ from the environment $p$;\n",
        "\n",
        "3. Store $(s_t,a_t,s_{t+1})$;\n",
        "\n",
        "4. Obtain $Q_{t+1}$ by minimizing  $\\mathcal{L}$ from a recovered batch from the previously stored results.\n",
        "\n",
        "***\n",
        "__Question 6__ Implement the class ```Memory``` that stores moves (in a replay buffer) via ```remember``` and provides a ```random_access``` to these. Specify a maximum memory size to avoid side effects. You can for example use a ```list()``` and set by default ```max_memory=100```."
      ]
    },
    {
      "cell_type": "code",
      "metadata": {
        "id": "-oMo84uCnASK",
        "colab_type": "code",
        "colab": {}
      },
      "source": [
        "class Memory(object):\n",
        "    def __init__(self, max_memory=100):\n",
        "        self.max_memory = max_memory\n",
        "        self.memory = list()\n",
        "\n",
        "    def remember(self, m):\n",
        "        self.memory.append(m)\n",
        "        if len(self.memory)>self.max_memory:\n",
        "          self.memory=self.memory[1:]\n",
        "        \n",
        "\n",
        "    def random_access(self):\n",
        "        return self.memory[np.random.randint(0,len(self.memory))]"
      ],
      "execution_count": 0,
      "outputs": []
    },
    {
      "cell_type": "markdown",
      "metadata": {
        "id": "6dEAv2qwnASM",
        "colab_type": "text"
      },
      "source": [
        "***\n",
        "The pipeline we will use for training is given below:"
      ]
    },
    {
      "cell_type": "code",
      "metadata": {
        "id": "OL7rEtg_nASN",
        "colab_type": "code",
        "colab": {}
      },
      "source": [
        "def train(agent,env,epoch,prefix=''):\n",
        "    # Number of won games\n",
        "    score = 0\n",
        "    loss = 0\n",
        "\n",
        "    for e in range(epoch):\n",
        "        # At each epoch, we restart to a fresh game and get the initial state\n",
        "        state = env.reset()\n",
        "        # This assumes that the games will terminate\n",
        "        game_over = False\n",
        "\n",
        "        win = 0\n",
        "        lose = 0\n",
        "\n",
        "        while not game_over:\n",
        "            # The agent performs an action\n",
        "            action = agent.act(state)\n",
        "\n",
        "            # Apply an action to the environment, get the next state, the reward\n",
        "            # and if the games end\n",
        "            prev_state = state\n",
        "            state, reward, game_over = env.act(action)\n",
        "\n",
        "            # Update the counters\n",
        "            if reward > 0:\n",
        "                win = win + reward\n",
        "            if reward < 0:\n",
        "                lose = lose -reward\n",
        "\n",
        "            # Apply the reinforcement strategy\n",
        "            loss = agent.reinforce(prev_state, state,  action, reward, game_over)\n",
        "\n",
        "        # Save as a mp4\n",
        "        if e % 10 == 0:\n",
        "            env.draw(prefix+str(e))\n",
        "\n",
        "        # Update stats\n",
        "        score += win-lose\n",
        "\n",
        "        print(\"Epoch {:03d}/{:03d} | Loss {:.4f} | Win/lose count {}/{} ({})\"\n",
        "              .format(e, epoch, loss, win, lose, win-lose))\n",
        "        agent.save(name_weights=prefix+'model.h5',name_model=prefix+'model.json')"
      ],
      "execution_count": 0,
      "outputs": []
    },
    {
      "cell_type": "markdown",
      "metadata": {
        "id": "x_8I9uRxnASP",
        "colab_type": "text"
      },
      "source": [
        "***\n",
        "__Question 7__ Implement the DQN training algorithm using a cascade of fully connected layers. You can use different learning rate, batch size or memory size parameters. In particular, the loss might oscillate while the player will start to win the games. You have to find a good criterium."
      ]
    },
    {
      "cell_type": "code",
      "metadata": {
        "id": "GSW1Woh0nASQ",
        "colab_type": "code",
        "colab": {}
      },
      "source": [
        "class DQN(Agent):\n",
        "    def __init__(self, grid_size,  epsilon = 0.1, memory_size=100, batch_size = 16,n_state=2):\n",
        "        super(DQN, self).__init__(epsilon = epsilon)\n",
        "\n",
        "        # Discount for Q learning\n",
        "        self.discount = 0.99\n",
        "        \n",
        "        self.grid_size = grid_size\n",
        "        \n",
        "        # number of state\n",
        "        self.n_state = n_state\n",
        "\n",
        "        # Memory\n",
        "        self.memory = Memory(memory_size)\n",
        "        \n",
        "        # Batch size when learning\n",
        "        self.batch_size = batch_size\n",
        "\n",
        "    def learned_act(self, s):\n",
        "        return np.argmax(self.model.predict(np.array([s]))[0])\n",
        "\n",
        "    def reinforce(self, s_, n_s_, a_, r_, game_over_):\n",
        "        # Two steps: first memorize the states, second learn from the pool\n",
        "\n",
        "        self.memory.remember([s_, n_s_, a_, r_, game_over_])\n",
        "        \n",
        "        input_states = np.zeros((self.batch_size, 5,5,self.n_state))\n",
        "        target_q = np.zeros((self.batch_size, 4))\n",
        "        \n",
        "        for i in range(self.batch_size):\n",
        "            ######## FILL IN\n",
        "            s_, n_s_, a_, r_, game_over_ = self.memory.random_access()\n",
        "            input_states[i]=s_\n",
        "            target_q[i]=self.model.predict(np.array([s_]))\n",
        "            if game_over_:\n",
        "                target_q[i,a_]=r_\n",
        "            else:\n",
        "                target_q[i,a_]=r_+self.discount*np.max(self.model.predict(np.array([n_s_])))\n",
        "                ######## FILL IN\n",
        "        ######## FILL IN\n",
        "        # HINT: Clip the target to avoid exploiding gradients.. -- clipping is a bit tighter\n",
        "        target_q = np.clip(target_q, -3, 3)\n",
        "        l = self.model.train_on_batch(input_states, target_q)\n",
        "\n",
        "\n",
        "        return l\n",
        "\n",
        "    def save(self,name_weights='model.h5',name_model='model.json'):\n",
        "        self.model.save_weights(name_weights, overwrite=True)\n",
        "        with open(name_model, \"w\") as outfile:\n",
        "            json.dump(self.model.to_json(), outfile)\n",
        "            \n",
        "    def load(self,name_weights='model.h5',name_model='model.json'):\n",
        "        with open(name_model, \"r\") as jfile:\n",
        "            model = model_from_json(json.load(jfile))\n",
        "        model.load_weights(name_weights)\n",
        "        model.compile(\"sgd\", \"mse\")\n",
        "        self.model = model\n",
        "\n",
        "class DQN_FC(DQN):\n",
        "    def __init__(self, lr=0.1, *args, **kwargs):\n",
        "        super(DQN_FC, self).__init__(*args, **kwargs)\n",
        "        \n",
        "        # NN Model\n",
        "\n",
        "        input_model = keras.layers.Input(shape=(5, 5, self.n_state), name=\"input\")\n",
        "        flatten = keras.layers.Flatten(name=\"flatten\")(input_model)\n",
        "        fc1 = Dense(100, name=\"fc1\", activation=\"relu\")(flatten)\n",
        "        fc2 = Dense(100, name=\"fc2\", activation=\"relu\")(fc1)\n",
        "        fc3 = Dense(100, name=\"fc3\", activation=\"relu\")(fc2)\n",
        "        output_model = Dense(4, name=\"output\")(fc3)\n",
        "        model = keras.models.Model(input_model, output_model)\n",
        "        \n",
        "        model.compile(sgd(lr=lr, decay=1e-4, momentum=0.0), \"mse\")\n",
        "        self.model = model            \n",
        "# class DQN_FC(DQN):\n",
        "#     def __init__(self, *args, lr=0.1,**kwargs):\n",
        "#         super(DQN_FC, self).__init__( *args,**kwargs)\n",
        "        \n",
        "#         # NN Model\n",
        "        \n",
        "#         ####### FILL IN\n",
        "        \n",
        "#         model.compile(sgd(lr=lr, decay=1e-4, momentum=0.0), \"mse\")\n",
        "#         self.model = model\n",
        "        "
      ],
      "execution_count": 0,
      "outputs": []
    },
    {
      "cell_type": "code",
      "metadata": {
        "id": "qKa32QHpnASU",
        "colab_type": "code",
        "outputId": "68b83ee8-371e-4453-b52c-0ce08198833d",
        "colab": {
          "base_uri": "https://localhost:8080/",
          "height": 1000
        }
      },
      "source": [
        "env = Environment(grid_size=size, max_time=T, temperature=0.3)\n",
        "agent = DQN_FC(lr=.1, grid_size=size, epsilon=0.1, memory_size=2000, batch_size=32)\n",
        "train(agent, env, epochs_train, prefix='fc_train')\n",
        "HTML(display_videos('fc_train10.mp4'))\n"
      ],
      "execution_count": 0,
      "outputs": [
        {
          "output_type": "stream",
          "text": [
            "Epoch 000/100 | Loss 0.0113 | Win/lose count 10.5/16.0 (-5.5)\n",
            "Epoch 001/100 | Loss 0.0050 | Win/lose count 5.0/2.0 (3.0)\n",
            "Epoch 002/100 | Loss 0.0028 | Win/lose count 2.5/0 (2.5)\n",
            "Epoch 003/100 | Loss 0.0080 | Win/lose count 1.5/3.0 (-1.5)\n",
            "Epoch 004/100 | Loss 0.0033 | Win/lose count 6.5/4.0 (2.5)\n",
            "Epoch 005/100 | Loss 0.0095 | Win/lose count 3.5/4.0 (-0.5)\n",
            "Epoch 006/100 | Loss 0.1012 | Win/lose count 13.0/6.0 (7.0)\n",
            "Epoch 007/100 | Loss 0.0045 | Win/lose count 9.0/2.0 (7.0)\n",
            "Epoch 008/100 | Loss 0.0063 | Win/lose count 5.0/2.0 (3.0)\n",
            "Epoch 009/100 | Loss 0.0612 | Win/lose count 3.5/5.0 (-1.5)\n",
            "Epoch 010/100 | Loss 0.0189 | Win/lose count 10.0/5.0 (5.0)\n",
            "Epoch 011/100 | Loss 0.0034 | Win/lose count 8.0/5.0 (3.0)\n",
            "Epoch 012/100 | Loss 0.0077 | Win/lose count 1.5/1.0 (0.5)\n",
            "Epoch 013/100 | Loss 0.0043 | Win/lose count 5.0/2.0 (3.0)\n",
            "Epoch 014/100 | Loss 0.0100 | Win/lose count 5.5/4.0 (1.5)\n",
            "Epoch 015/100 | Loss 0.0022 | Win/lose count 3.0/1.0 (2.0)\n",
            "Epoch 016/100 | Loss 0.0112 | Win/lose count 10.5/2.0 (8.5)\n",
            "Epoch 017/100 | Loss 0.0042 | Win/lose count 10.0/5.0 (5.0)\n",
            "Epoch 018/100 | Loss 0.0049 | Win/lose count 5.0/3.0 (2.0)\n",
            "Epoch 019/100 | Loss 0.0601 | Win/lose count 5.0/1.0 (4.0)\n",
            "Epoch 020/100 | Loss 0.0046 | Win/lose count 2.5/2.0 (0.5)\n",
            "Epoch 021/100 | Loss 0.0604 | Win/lose count 5.5/2.0 (3.5)\n",
            "Epoch 022/100 | Loss 0.0025 | Win/lose count 10.5/0 (10.5)\n",
            "Epoch 023/100 | Loss 0.0052 | Win/lose count 9.0/7.0 (2.0)\n",
            "Epoch 024/100 | Loss 0.0037 | Win/lose count 14.0/1.0 (13.0)\n",
            "Epoch 025/100 | Loss 0.0022 | Win/lose count 10.5/1.0 (9.5)\n",
            "Epoch 026/100 | Loss 0.0022 | Win/lose count 13.0/9.0 (4.0)\n",
            "Epoch 027/100 | Loss 0.0554 | Win/lose count 17.0/3.0 (14.0)\n",
            "Epoch 028/100 | Loss 0.0420 | Win/lose count 12.5/2.0 (10.5)\n",
            "Epoch 029/100 | Loss 0.0019 | Win/lose count 6.5/1.0 (5.5)\n",
            "Epoch 030/100 | Loss 0.0043 | Win/lose count 12.5/3.0 (9.5)\n",
            "Epoch 031/100 | Loss 0.0032 | Win/lose count 5.5/1.0 (4.5)\n",
            "Epoch 032/100 | Loss 0.0055 | Win/lose count 15.0/2.0 (13.0)\n",
            "Epoch 033/100 | Loss 0.0029 | Win/lose count 13.5/2.0 (11.5)\n",
            "Epoch 034/100 | Loss 0.0059 | Win/lose count 12.0/3.0 (9.0)\n",
            "Epoch 035/100 | Loss 0.0023 | Win/lose count 5.5/1.0 (4.5)\n",
            "Epoch 036/100 | Loss 0.0031 | Win/lose count 6.5/1.0 (5.5)\n",
            "Epoch 037/100 | Loss 0.0545 | Win/lose count 8.0/3.0 (5.0)\n",
            "Epoch 038/100 | Loss 0.0040 | Win/lose count 10.5/2.0 (8.5)\n",
            "Epoch 039/100 | Loss 0.0030 | Win/lose count 7.5/5.0 (2.5)\n",
            "Epoch 040/100 | Loss 0.0033 | Win/lose count 3.0/0 (3.0)\n",
            "Epoch 041/100 | Loss 0.0028 | Win/lose count 13.0/2.0 (11.0)\n",
            "Epoch 042/100 | Loss 0.0602 | Win/lose count 15.5/1.0 (14.5)\n",
            "Epoch 043/100 | Loss 0.0040 | Win/lose count 12.0/7.0 (5.0)\n",
            "Epoch 044/100 | Loss 0.0033 | Win/lose count 7.5/4.0 (3.5)\n",
            "Epoch 045/100 | Loss 0.0050 | Win/lose count 7.5/1.0 (6.5)\n",
            "Epoch 046/100 | Loss 0.0042 | Win/lose count 16.0/3.0 (13.0)\n",
            "Epoch 047/100 | Loss 0.0016 | Win/lose count 10.0/7.0 (3.0)\n",
            "Epoch 048/100 | Loss 0.0470 | Win/lose count 4.5/2.0 (2.5)\n",
            "Epoch 049/100 | Loss 0.0030 | Win/lose count 8.0/2.0 (6.0)\n",
            "Epoch 050/100 | Loss 0.0352 | Win/lose count 6.0/3.0 (3.0)\n",
            "Epoch 051/100 | Loss 0.0008 | Win/lose count 7.0/3.0 (4.0)\n",
            "Epoch 052/100 | Loss 0.0017 | Win/lose count 8.5/2.0 (6.5)\n",
            "Epoch 053/100 | Loss 0.0028 | Win/lose count 13.5/10.0 (3.5)\n",
            "Epoch 054/100 | Loss 0.0050 | Win/lose count 9.5/2.0 (7.5)\n",
            "Epoch 055/100 | Loss 0.0036 | Win/lose count 20.5/1.0 (19.5)\n",
            "Epoch 056/100 | Loss 0.0040 | Win/lose count 7.0/2.0 (5.0)\n",
            "Epoch 057/100 | Loss 0.0030 | Win/lose count 11.5/2.0 (9.5)\n",
            "Epoch 058/100 | Loss 0.0122 | Win/lose count 12.0/1.0 (11.0)\n",
            "Epoch 059/100 | Loss 0.0041 | Win/lose count 21.5/0 (21.5)\n",
            "Epoch 060/100 | Loss 0.0048 | Win/lose count 9.0/2.0 (7.0)\n",
            "Epoch 061/100 | Loss 0.0043 | Win/lose count 17.0/5.0 (12.0)\n",
            "Epoch 062/100 | Loss 0.0048 | Win/lose count 14.0/4.0 (10.0)\n",
            "Epoch 063/100 | Loss 0.0017 | Win/lose count 6.5/3.0 (3.5)\n",
            "Epoch 064/100 | Loss 0.0057 | Win/lose count 10.5/3.0 (7.5)\n",
            "Epoch 065/100 | Loss 0.0023 | Win/lose count 12.0/3.0 (9.0)\n",
            "Epoch 066/100 | Loss 0.0026 | Win/lose count 11.0/2.0 (9.0)\n",
            "Epoch 067/100 | Loss 0.0023 | Win/lose count 16.0/3.0 (13.0)\n",
            "Epoch 068/100 | Loss 0.0049 | Win/lose count 18.0/3.0 (15.0)\n",
            "Epoch 069/100 | Loss 0.0011 | Win/lose count 8.5/2.0 (6.5)\n",
            "Epoch 070/100 | Loss 0.0013 | Win/lose count 4.0/1.0 (3.0)\n",
            "Epoch 071/100 | Loss 0.0027 | Win/lose count 15.0/1.0 (14.0)\n",
            "Epoch 072/100 | Loss 0.0052 | Win/lose count 9.5/1.0 (8.5)\n",
            "Epoch 073/100 | Loss 0.0410 | Win/lose count 5.0/2.0 (3.0)\n",
            "Epoch 074/100 | Loss 0.0023 | Win/lose count 13.0/2.0 (11.0)\n",
            "Epoch 075/100 | Loss 0.0029 | Win/lose count 12.0/1.0 (11.0)\n",
            "Epoch 076/100 | Loss 0.0020 | Win/lose count 7.5/2.0 (5.5)\n",
            "Epoch 077/100 | Loss 0.0046 | Win/lose count 3.5/2.0 (1.5)\n",
            "Epoch 078/100 | Loss 0.0018 | Win/lose count 13.0/4.0 (9.0)\n",
            "Epoch 079/100 | Loss 0.0436 | Win/lose count 18.0/2.0 (16.0)\n",
            "Epoch 080/100 | Loss 0.0048 | Win/lose count 13.0/1.0 (12.0)\n",
            "Epoch 081/100 | Loss 0.0048 | Win/lose count 4.5/1.0 (3.5)\n",
            "Epoch 082/100 | Loss 0.0031 | Win/lose count 14.0/3.0 (11.0)\n",
            "Epoch 083/100 | Loss 0.0038 | Win/lose count 7.5/3.0 (4.5)\n",
            "Epoch 084/100 | Loss 0.0032 | Win/lose count 10.5/0 (10.5)\n",
            "Epoch 085/100 | Loss 0.0035 | Win/lose count 10.0/2.0 (8.0)\n",
            "Epoch 086/100 | Loss 0.0041 | Win/lose count 6.0/1.0 (5.0)\n",
            "Epoch 087/100 | Loss 0.0418 | Win/lose count 8.0/2.0 (6.0)\n",
            "Epoch 088/100 | Loss 0.0038 | Win/lose count 6.0/4.0 (2.0)\n",
            "Epoch 089/100 | Loss 0.0459 | Win/lose count 8.0/2.0 (6.0)\n",
            "Epoch 090/100 | Loss 0.0023 | Win/lose count 7.5/3.0 (4.5)\n",
            "Epoch 091/100 | Loss 0.0046 | Win/lose count 13.0/3.0 (10.0)\n",
            "Epoch 092/100 | Loss 0.0052 | Win/lose count 16.5/3.0 (13.5)\n",
            "Epoch 093/100 | Loss 0.0021 | Win/lose count 9.5/3.0 (6.5)\n",
            "Epoch 094/100 | Loss 0.0046 | Win/lose count 14.5/0 (14.5)\n",
            "Epoch 095/100 | Loss 0.0045 | Win/lose count 21.5/3.0 (18.5)\n",
            "Epoch 096/100 | Loss 0.0036 | Win/lose count 12.0/5.0 (7.0)\n",
            "Epoch 097/100 | Loss 0.0040 | Win/lose count 9.0/3.0 (6.0)\n",
            "Epoch 098/100 | Loss 0.0027 | Win/lose count 9.0/3.0 (6.0)\n",
            "Epoch 099/100 | Loss 0.0622 | Win/lose count 8.5/2.0 (6.5)\n"
          ],
          "name": "stdout"
        },
        {
          "output_type": "execute_result",
          "data": {
            "text/html": [
              "<video alt=\"test\" controls>\n",
              "                <source src=\"data:video/mp4;base64,AAAAIGZ0eXBpc29tAAACAGlzb21pc28yYXZjMW1wNDEAAAAIZnJlZQAAF8NtZGF0AAACrQYF//+p3EXpvebZSLeWLNgg2SPu73gyNjQgLSBjb3JlIDE1MiByMjg1NCBlOWE1OTAzIC0gSC4yNjQvTVBFRy00IEFWQyBjb2RlYyAtIENvcHlsZWZ0IDIwMDMtMjAxNyAtIGh0dHA6Ly93d3cudmlkZW9sYW4ub3JnL3gyNjQuaHRtbCAtIG9wdGlvbnM6IGNhYmFjPTEgcmVmPTMgZGVibG9jaz0xOjA6MCBhbmFseXNlPTB4MToweDExMSBtZT1oZXggc3VibWU9NyBwc3k9MSBwc3lfcmQ9MS4wMDowLjAwIG1peGVkX3JlZj0xIG1lX3JhbmdlPTE2IGNocm9tYV9tZT0xIHRyZWxsaXM9MSA4eDhkY3Q9MCBjcW09MCBkZWFkem9uZT0yMSwxMSBmYXN0X3Bza2lwPTEgY2hyb21hX3FwX29mZnNldD00IHRocmVhZHM9MyBsb29rYWhlYWRfdGhyZWFkcz0xIHNsaWNlZF90aHJlYWRzPTAgbnI9MCBkZWNpbWF0ZT0xIGludGVybGFjZWQ9MCBibHVyYXlfY29tcGF0PTAgY29uc3RyYWluZWRfaW50cmE9MCBiZnJhbWVzPTMgYl9weXJhbWlkPTIgYl9hZGFwdD0xIGJfYmlhcz0wIGRpcmVjdD0xIHdlaWdodGI9MSBvcGVuX2dvcD0wIHdlaWdodHA9MiBrZXlpbnQ9MjUwIGtleWludF9taW49MjUgc2NlbmVjdXQ9NDAgaW50cmFfcmVmcmVzaD0wIHJjX2xvb2thaGVhZD00MCByYz1jcmYgbWJ0cmVlPTEgY3JmPTIzLjAgcWNvbXA9MC42MCBxcG1pbj0wIHFwbWF4PTY5IHFwc3RlcD00IGlwX3JhdGlvPTEuNDAgYXE9MToxLjAwAIAAAAMPZYiEADf//vaH+BTZWBP+Wb/9DX/cj9uPrP1xYyEE31qvIejAGS+1H+b/rFFs6Z6UB/fgCJQAc24ZwpIoZ/8CmWxwvgUK/HE+UwozlT/KDbJHQMPX78NsLNqtPZctabROhfvkLuSaz7hqrwsLAkTnRwdOIaAgrav9a4PxLyKd+smkTryEmHx8gYcv6RHRdAlFYV4Pb4rCk0v4I+Wp+1aCYqXb5/50zY2R3dEt9Xpsg69tbvC0qhtkx6z5I17zRgC5K+lIirrmHL5sabW8ZSJ2w7uZLS6X8LdYC83K3fIweuL3RvWQB2Gei4fSpmDthkzOMOnPBZxRhdo+88mrfSc3bxJ/RV8heirRKDYcSZ+a9eaZjMmA61rLFQhPYDxCCXVB1gRVs6qEUXDqboZ/PEKix7wOuyH/bpSM7gXuDVk78olz8xCSUaNIvDIAXa6cCGkcPLZFKtbmjBbByAvZ0kbXj3yeF7sicl9divy35ajh5ct1ExmGcIMy8I8CM0boH1oXMpL+5ItrgWci6bkZqJcAeGjlUg3MFJXNz40PvYHwnT5/ca4PIE9KhceQkmuJuJUBPDIr3yXq1HJqNISKv6Z90KiILMZv3y3pwgC8vVWCE3JHkLUsuagVR+qUy4g1GLgdFLmKy4IVyAAeHY0UOiWtmv/7pG4PrnYd82iEdd2KolU6Hg3GiuuZIvHweqIKN2q8t4xKwELQDXdw4gkFYOk72IHQI+2kiYM2sS/b51brTwHUnns3FihxJ8IBxWNCkw75M/euGO70FwAy0PSfOv2K0vb8X0b4QpF4T6DKx3HFIFIwR1q1rAeWz+T1IclXEfVsF8p0yzDRzxPt8Burxe5pS5Ka8riS1dSosg3CnkHKbYB01Y4RKSvr1wFAgAOmLExI8iDHFnTInytVHsjmGpWvUbxSUwiLXrDGE0/NCg1PwHyPAC09G0rpR87YtdGViQL8FbxiXWffP5DGzDySafCnKJtDmxu9P4AHB+oXDULQ5u9v70ShiEwpjQYiCKlWWQQ5nZVaFHMWiq6phFcBADBhAAAAFEGaIWxDf/6nhABBvjp9URQkOMqAAAAAGkGaRTwhkymEM//+nhAAqPum+wFrsmLYKpfhAAAAD0GeY2pTwv8AGcVaOdij9AAAAA8BnoJ0Qr8AIraMXAfl3MEAAAAQAZ6EakK/ACKyuRV4AoALgQAAABlBmoZJqEFomUwIZ//+nhAARb4h/bIY+sOLAAAAGUGap0nhClJlMCG//qeEAAuvup+o40JDx8EAAAAZQZrISeEOiZTAhv/+p4QAB3PYP8JwW6F/QAAAABlBmulJ4Q8mUwId//6plgACc/HnSzo6noPAAAAAGkGbDUnhDyZTAh3//qmWAAGW9tQHN+oj++dLAAAAE0GfK0URPC//AALXkt0BXIadbuAAAAAQAZ9KdEK/AAPLxZnlfkp5uAAAABABn0xqQr8AA+HOGveaVqvBAAAAE0GbUUmoQWiZTAh3//6plgAAlYEAAAAQQZ9vRREsL/8AAteS3P1yYwAAABABn450Qr8AA8vFmeV+Snm4AAAAEAGfkGpCvwAD4c4a95pWq8AAAAATQZuVSahBbJlMCHf//qmWAACVgQAAABBBn7NFFSwv/wAC15Lc/XJjAAAAEAGf0nRCvwADy8WZ5X5KebgAAAAQAZ/UakK/AAPhzhr3mlarwQAAABNBm9lJqEFsmUwId//+qZYAAJWAAAAAEEGf90UVLC//AALXktz9cmMAAAAQAZ4WdEK/AAPLxZnlfkp5uQAAABABnhhqQr8AA+HOGveaVqvAAAAAKkGaHUmoQWyZTAhv//6nhAAEu+jn5m1su3gU1fP78Cl/W74E6mnwp/JcQQAAABNBnjtFFSwv/wAC1stB+lKDffCAAAAAEAGeWnRCvwADy8WZ5X5KebkAAAAQAZ5cakK/AAKzYR5LmfMegQAAAChBmkBJqEFsmUwIb//+p4QABWveMucyyue8fgUqWz8CmdgYuLr/7HWAAAAAFEGefkUVLCv/AARXaG+XKCr9JvFqAAAAEAGen2pCvwAEV2eOV+sU/cEAAAAeQZqCSahBbJlMFEw3//6nhAAM3SMh6kdHIs+D+keAAAAAEAGeoWpCvwAKhY8cr+3EQcEAAAAZQZqjSeEKUmUwId/+qZYABqILK4zS/thAwAAAAB9BmsVJ4Q6JlMFNEw7//qmWAAbT4UfB8eVZ0QLcav3BAAAAEAGe5GpCvwALFSjeaYq2yuEAAAAdQZrpSeEPJlMCHf/+qZYABGfjz+ZoVAtFMD5twe8AAAAUQZ8HRRE8L/8ABUGWK2+Y9yWs/YEAAAAQAZ8mdEK/AAcTii4D8oAa4AAAABABnyhqQr8ABLdnjlfrFPXAAAAAE0GbLUmoQWiZTAh3//6plgAAlYEAAAAMQZ9LRREsL/8AALKAAAAAEAGfanRCvwAEqWLbp2XZ64AAAAAQAZ9sakK/AASpYt2K0fdTQQAAABNBm3FJqEFsmUwId//+qZYAAJWBAAAADEGfj0UVLC//AACygQAAABABn650Qr8ABKli26dl2euAAAAADwGfsGpCvwAEqWLbDPVopwAAABNBm7VJqEFsmUwId//+qZYAAJWBAAAADEGf00UVLC//AACygAAAABABn/J0Qr8ABKli3ZdV/E7AAAAADwGf9GpCvwAEqWLbDPVopwAAABNBm/lJqEFsmUwId//+qZYAAJWAAAAADEGeF0UVLC//AACygQAAABABnjZ0Qr8ABKli3ZdV/E7BAAAADwGeOGpCvwAEqWLbDPVopwAAABNBmj1JqEFsmUwId//+qZYAAJWBAAAADEGeW0UVLC//AACygAAAABABnnp0Qr8ABKli26dl2euBAAAADwGefGpCvwAEqWLbDPVopwAAABNBmmFJqEFsmUwId//+qZYAAJWAAAAADEGen0UVLC//AACygAAAABABnr50Qr8ABKli26dl2euBAAAADwGeoGpCvwAEqWLbDPVopwAAABNBmqVJqEFsmUwId//+qZYAAJWBAAAADEGew0UVLC//AACygAAAABABnuJ0Qr8ABKli26dl2euBAAAADwGe5GpCvwAEqWLbDPVopwAAABNBmulJqEFsmUwId//+qZYAAJWBAAAADEGfB0UVLC//AACygQAAABABnyZ0Qr8ABKli26dl2euAAAAADwGfKGpCvwAEqWLbDPVopwAAABxBmy1JqEFsmUwId//+qZYABGCjqEGaBT7MfsgrAAAAEEGfS0UVLC//AAVCgRWlG/gAAAAPAZ9qdEK/AAS20YuA/PHgAAAAEAGfbGpCvwAHFZ8xuhyQebkAAAAkQZtxSahBbJlMCHf//qmWAA+vsN8yyz59t+yDM+HOtLIno6ThAAAAFUGfj0UVLC//ABLc+6aw7+iJJfau4QAAABABn650Qr8ACs5okT4sxSzwAAAAEAGfsGpCvwAZx2o5X9uIE8AAAAAZQZu1SahBbJlMCG///qeEAB8vYP81dRPFHwAAABBBn9NFFSwv/wAS2gIN8jEwAAAAEAGf8nRCvwAZwBC4D8oACeAAAAAPAZ/0akK/ABBbWu77vitBAAAAGkGb+EmoQWyZTAhv//6nhAANP7B/hOC3QqxAAAAAEkGeFkUVLCv/AArLXznWT5QggQAAABABnjdqQr8ACoNyGH0BIO4JAAAAGUGaOUmoQWyZTAhv//6nhAAIqPmPIxP8uCcAAAAcQZpcSeEKUmUwIb/+p4QACPfI7/+Z99frFCQAeQAAABJBnnpFNEwr/wAHQVwa49718YAAAAAPAZ6bakK/AAdAH9UigSxHAAAAGkGanUmoQWiZTAh3//6plgAC3++rKrM2zEzBAAAAEkGaoUnhClJlMCHf/qmWAACVgAAAAAxBnt9FNEwv/wAAsoAAAAAQAZ7+dEK/AAbqyrur8d40IQAAABABnuBqQr8ABukrYvV2HO9AAAAAEkGa5UmoQWiZTAhv//6nhAABJwAAAAxBnwNFESwv/wAAsoAAAAAQAZ8idEK/AAbqyrur8d40IQAAABABnyRqQr8ABukrYvV2HO9BAAAAEkGbKUmoQWyZTAhv//6nhAABJwAAAAxBn0dFFSwv/wAAsoEAAAAQAZ9mdEK/AAbqyrur8d40IAAAABABn2hqQr8ABukrYvV2HO9AAAAAHUGba0moQWyZTBRMM//+nhAAIaIcq3Bedr6++4sxAAAAEAGfimpCvwAHFZ4Q8aGtD4AAAAAbQZuMSeEKUmUwIb/+p4QADX0if6rfVQY/8XpAAAAAGEGbrUnhDomUwIb//qeEAA3Lq0dVDbefgQAAABhBm85J4Q8mUwId//6plgAHHHT8UK05NKEAAAAeQZvwSeEPJlMFETw7//6plgAHHTJgO4bpfrQ1tennAAAAEAGeD2pCvwALo25FXgCghYAAAAAbQZoUSeEPJlMCHf/+qZYABMCjogWaA7vox7AaAAAAFUGeMkURPC//AAWugQTzYhu6Zy2z1QAAABABnlF0Qr8ABNXak8r8lO4wAAAAEAGeU2pCvwAHmZ4F1/biMGAAAAAaQZpXSahBaJlMCHf//qmWAATH6Offsg3FXeEAAAAPQZ51RREsK/8AB5gf837gAAAADQGelmpCvwAHmsCga6cAAAATQZqbSahBbJlMCHf//qmWAACVgQAAAAxBnrlFFSwv/wAAsoAAAAAQAZ7YdEK/AATqyjvwAfdOQQAAABABntpqQr8ABOrKO9nj7pyAAAAAE0Ga30moQWyZTAh3//6plgAAlYEAAAAMQZ79RRUsL/8AALKBAAAAEAGfHHRCvwAHmsVi8/gc5cAAAAAQAZ8eakK/AAeY1Dn+ZbxdwAAAABNBmwNJqEFsmUwId//+qZYAAJWBAAAADEGfIUUVLC//AACygAAAABABn0B0Qr8AB5rFYvP4HOXBAAAAEAGfQmpCvwAHmNQ5/mW8XcAAAAASQZtHSahBbJlMCG///qeEAAEnAAAADEGfZUUVLC//AACygQAAABABn4R0Qr8AB5rFYvP4HOXBAAAAEAGfhmpCvwAE6so72ePunIEAAAASQZuLSahBbJlMCG///qeEAAEnAAAADEGfqUUVLC//AACygAAAABABn8h0Qr8AB5rFYvP4HOXBAAAAEAGfympCvwAE6so72ePunIAAAAAZQZvOSahBbJlMCGf//p4QACSnCOfw5zfYUgAAAA9Bn+xFFSwr/wAHmB/zfuEAAAAPAZ4NakK/AAfDnDYHKi+BAAAAGUGaD0moQWyZTAhn//6eEAA4hTjn8Oc315sAAAAZQZowSeEKUmUwIb/+p4QAFq9E/1W+Y/FJwAAAABhBmlFJ4Q6JlMCG//6nhAAWz3U4/w+rbpMAAAAaQZp0SeEPJlMCGf/+nhAAVr4wTz/RUrNfICEAAAAQQZ6SRRE8K/8AEmDQvX4v9AAAAA8BnrNqQr8AEllbpRpDxpYAAAAaQZq1SahBaJlMCG///qeEAA43sH+E4LdCpMEAAAAZQZrWSeEKUmUwIb/+p4QACTfHT6jjQkPbQAAAABtBmvpJ4Q6JlMCGf/6eEAAkohyrcF52vr77iTEAAAAVQZ8YRRE8L/8ABa6BBPNiG7pnLbPVAAAAEAGfN3RCvwAE1dqTyvyU7jAAAAAQAZ85akK/AAeZngXX9uIwYQAAABlBmztJqEFomUwIZ//+nhAAOIU45/DnN9ebAAAAGkGbXEnhClJlMCGf/p4QAFh4Mc/hz4gcP8M3AAAAGEGbfUnhDomUwIb//qeEACKoAs2xihLSQQAAAB5Bm59J4Q8mUwURPDP//p4QAId85virvOJd1xH1RtIAAAAQAZ++akK/ABxQXnOtDC9VwAAAABlBm6BJ4Q8mUwIb//6nhAAWP3U/UcaEh0vBAAAAGUGbwUnhDyZTAhv//qeEAA43sH+E4LdCpMAAAAAZQZviSeEPJlMCHf/+qZYABKfjz9+yDcVe4QAAABtBmgZJ4Q8mUwId//6plgAEwKOiBZoDu+jHsBoAAAAVQZ4kRRE8L/8ABa6BBPNiG7pnLbPVAAAAEAGeQ3RCvwAE1dqTyvyU7jEAAAAQAZ5FakK/AAeZngXX9uIwYQAAABlBmkpJqEFomUwIb//+p4QACXfHT7mSsv+TAAAAFUGeaEURLC//AAhuPH0WK7ea+PISlAAAABABnod0Qr8AC/WVdyGypUHgAAAAEAGeiWpCvwALo25FXgCghYEAAAAZQZqOSahBbJlMCG///qeEAAlq2lzN7qfHKwAAABVBnqxFFSwv/wAFroEE82Ibumcts9QAAAAQAZ7LdEK/AATV2pPK/JTuMQAAABABns1qQr8AB5meBdf24jBhAAAAGkGaz0moQWyZTAhv//6nhAAOecZ/qt8x+LjhAAAAGUGa8EnhClJlMCHf/qmWAAtvyDNAHpL7FzAAAAAaQZsUSeEOiZTAhv/+p4QAFs91P3Mk41ZWs6AAAAAVQZ8yRRE8L/8AFHlY/XGrqehCrrz1AAAAEAGfUXRCvwAcWxWLY2VKWdAAAAAQAZ9TakK/ABuiW068AUApgAAAABxBm1ZJqEFomUwU8N/+p4QADjewf55BWqZCRcUZAAAAEAGfdWpCvwALo3IYfQEg7NgAAAAZQZt3SeEKUmUwId/+qZYABMfjz9+yDcVd4QAAABJBm5tJ4Q6JlMCHf/6plgAAlYEAAAAMQZ+5RRE8L/8AALKAAAAAEAGf2HRCvwAE6so78AH3TkEAAAAPAZ/aakK/AAUdRogtR5kpAAAAEkGb30moQWiZTAhv//6nhAABJwAAAAxBn/1FESwv/wAAsoEAAAAPAZ4cdEK/AAUe0d0dt8O/AAAADwGeHmpCvwAFHUaILUeZKQAAABJBmgNJqEFsmUwIb//+p4QAAScAAAAMQZ4hRRUsL/8AALKAAAAADwGeQHRCvwAFHtHdHbfDvwAAAA8BnkJqQr8ABR1GiC1HmSkAAAASQZpHSahBbJlMCGf//p4QAAR9AAAADEGeZUUVLC//AACygQAAAA8BnoR0Qr8ABR7R3R23w78AAAAPAZ6GakK/AAUdRogtR5kpAAAAG0GaiUuoQhBbJEYIKAfyAf2HgFEwr/44QAARcAAAACUBnqhqQr8Cr2PtQcTdqsNJJuWqhgcstbvNKiCaLNn8KKl6DP7AAAAL6G1vb3YAAABsbXZoZAAAAAAAAAAAAAAAAAAAA+gAAB+QAAEAAAEAAAAAAAAAAAAAAAABAAAAAAAAAAAAAAAAAAAAAQAAAAAAAAAAAAAAAAAAQAAAAAAAAAAAAAAAAAAAAAAAAAAAAAAAAAAAAAAAAAIAAAsSdHJhawAAAFx0a2hkAAAAAwAAAAAAAAAAAAAAAQAAAAAAAB+QAAAAAAAAAAAAAAAAAAAAAAABAAAAAAAAAAAAAAAAAAAAAQAAAAAAAAAAAAAAAAAAQAAAAAEQAAABEAAAAAAAJGVkdHMAAAAcZWxzdAAAAAAAAAABAAAfkAAABAAAAQAAAAAKim1kaWEAAAAgbWRoZAAAAAAAAAAAAAAAAAAAMgAAAZQAVcQAAAAAAC1oZGxyAAAAAAAAAAB2aWRlAAAAAAAAAAAAAAAAVmlkZW9IYW5kbGVyAAAACjVtaW5mAAAAFHZtaGQAAAABAAAAAAAAAAAAAAAkZGluZgAAABxkcmVmAAAAAAAAAAEAAAAMdXJsIAAAAAEAAAn1c3RibAAAAJVzdHNkAAAAAAAAAAEAAACFYXZjMQAAAAAAAAABAAAAAAAAAAAAAAAAAAAAAAEQARAASAAAAEgAAAAAAAAAAQAAAAAAAAAAAAAAAAAAAAAAAAAAAAAAAAAAAAAAAAAAABj//wAAAC9hdmNDAfQADf/hABdn9AANkZsoIhHQgAAAAwCAAAAZB4oUywEABWjr48RIAAAAGHN0dHMAAAAAAAAAAQAAAMoAAAIAAAAAFHN0c3MAAAAAAAAAAQAAAAEAAAXAY3R0cwAAAAAAAAC2AAAAAgAABAAAAAABAAAKAAAAAAEAAAQAAAAAAQAAAAAAAAABAAACAAAAAAQAAAQAAAAAAQAACgAAAAABAAAEAAAAAAEAAAAAAAAAAQAAAgAAAAABAAAKAAAAAAEAAAQAAAAAAQAAAAAAAAABAAACAAAAAAEAAAoAAAAAAQAABAAAAAABAAAAAAAAAAEAAAIAAAAAAQAACgAAAAABAAAEAAAAAAEAAAAAAAAAAQAAAgAAAAABAAAKAAAAAAEAAAQAAAAAAQAAAAAAAAABAAACAAAAAAEAAAgAAAAAAgAAAgAAAAABAAAGAAAAAAEAAAIAAAAAAQAABAAAAAABAAAGAAAAAAEAAAIAAAAAAQAACgAAAAABAAAEAAAAAAEAAAAAAAAAAQAAAgAAAAABAAAKAAAAAAEAAAQAAAAAAQAAAAAAAAABAAACAAAAAAEAAAoAAAAAAQAABAAAAAABAAAAAAAAAAEAAAIAAAAAAQAACgAAAAABAAAEAAAAAAEAAAAAAAAAAQAAAgAAAAABAAAKAAAAAAEAAAQAAAAAAQAAAAAAAAABAAACAAAAAAEAAAoAAAAAAQAABAAAAAABAAAAAAAAAAEAAAIAAAAAAQAACgAAAAABAAAEAAAAAAEAAAAAAAAAAQAAAgAAAAABAAAKAAAAAAEAAAQAAAAAAQAAAAAAAAABAAACAAAAAAEAAAoAAAAAAQAABAAAAAABAAAAAAAAAAEAAAIAAAAAAQAACgAAAAABAAAEAAAAAAEAAAAAAAAAAQAAAgAAAAABAAAKAAAAAAEAAAQAAAAAAQAAAAAAAAABAAACAAAAAAEAAAoAAAAAAQAABAAAAAABAAAAAAAAAAEAAAIAAAAAAQAACAAAAAACAAACAAAAAAEAAAQAAAAAAQAACAAAAAACAAACAAAAAAEAAAQAAAAAAQAACgAAAAABAAAEAAAAAAEAAAAAAAAAAQAAAgAAAAABAAAKAAAAAAEAAAQAAAAAAQAAAAAAAAABAAACAAAAAAEAAAoAAAAAAQAABAAAAAABAAAAAAAAAAEAAAIAAAAAAQAABgAAAAABAAACAAAAAAMAAAQAAAAAAQAABgAAAAABAAACAAAAAAEAAAoAAAAAAQAABAAAAAABAAAAAAAAAAEAAAIAAAAAAQAACAAAAAACAAACAAAAAAEAAAoAAAAAAQAABAAAAAABAAAAAAAAAAEAAAIAAAAAAQAACgAAAAABAAAEAAAAAAEAAAAAAAAAAQAAAgAAAAABAAAKAAAAAAEAAAQAAAAAAQAAAAAAAAABAAACAAAAAAEAAAoAAAAAAQAABAAAAAABAAAAAAAAAAEAAAIAAAAAAQAACgAAAAABAAAEAAAAAAEAAAAAAAAAAQAAAgAAAAABAAAIAAAAAAIAAAIAAAAAAwAABAAAAAABAAAIAAAAAAIAAAIAAAAAAgAABAAAAAABAAAKAAAAAAEAAAQAAAAAAQAAAAAAAAABAAACAAAAAAMAAAQAAAAAAQAABgAAAAABAAACAAAAAAMAAAQAAAAAAQAACgAAAAABAAAEAAAAAAEAAAAAAAAAAQAAAgAAAAABAAAKAAAAAAEAAAQAAAAAAQAAAAAAAAABAAACAAAAAAEAAAoAAAAAAQAABAAAAAABAAAAAAAAAAEAAAIAAAAAAgAABAAAAAABAAAKAAAAAAEAAAQAAAAAAQAAAAAAAAABAAACAAAAAAEAAAYAAAAAAQAAAgAAAAABAAAEAAAAAAEAAAoAAAAAAQAABAAAAAABAAAAAAAAAAEAAAIAAAAAAQAACgAAAAABAAAEAAAAAAEAAAAAAAAAAQAAAgAAAAABAAAKAAAAAAEAAAQAAAAAAQAAAAAAAAABAAACAAAAAAEAAAoAAAAAAQAABAAAAAABAAAAAAAAAAEAAAIAAAAAAQAABgAAAAABAAACAAAAABxzdHNjAAAAAAAAAAEAAAABAAAAygAAAAEAAAM8c3RzegAAAAAAAAAAAAAAygAABcQAAAAYAAAAHgAAABMAAAATAAAAFAAAAB0AAAAdAAAAHQAAAB0AAAAeAAAAFwAAABQAAAAUAAAAFwAAABQAAAAUAAAAFAAAABcAAAAUAAAAFAAAABQAAAAXAAAAFAAAABQAAAAUAAAALgAAABcAAAAUAAAAFAAAACwAAAAYAAAAFAAAACIAAAAUAAAAHQAAACMAAAAUAAAAIQAAABgAAAAUAAAAFAAAABcAAAAQAAAAFAAAABQAAAAXAAAAEAAAABQAAAATAAAAFwAAABAAAAAUAAAAEwAAABcAAAAQAAAAFAAAABMAAAAXAAAAEAAAABQAAAATAAAAFwAAABAAAAAUAAAAEwAAABcAAAAQAAAAFAAAABMAAAAXAAAAEAAAABQAAAATAAAAIAAAABQAAAATAAAAFAAAACgAAAAZAAAAFAAAABQAAAAdAAAAFAAAABQAAAATAAAAHgAAABYAAAAUAAAAHQAAACAAAAAWAAAAEwAAAB4AAAAWAAAAEAAAABQAAAAUAAAAFgAAABAAAAAUAAAAFAAAABYAAAAQAAAAFAAAABQAAAAhAAAAFAAAAB8AAAAcAAAAHAAAACIAAAAUAAAAHwAAABkAAAAUAAAAFAAAAB4AAAATAAAAEQAAABcAAAAQAAAAFAAAABQAAAAXAAAAEAAAABQAAAAUAAAAFwAAABAAAAAUAAAAFAAAABYAAAAQAAAAFAAAABQAAAAWAAAAEAAAABQAAAAUAAAAHQAAABMAAAATAAAAHQAAAB0AAAAcAAAAHgAAABQAAAATAAAAHgAAAB0AAAAfAAAAGQAAABQAAAAUAAAAHQAAAB4AAAAcAAAAIgAAABQAAAAdAAAAHQAAAB0AAAAfAAAAGQAAABQAAAAUAAAAHQAAABkAAAAUAAAAFAAAAB0AAAAZAAAAFAAAABQAAAAeAAAAHQAAAB4AAAAZAAAAFAAAABQAAAAgAAAAFAAAAB0AAAAWAAAAEAAAABQAAAATAAAAFgAAABAAAAATAAAAEwAAABYAAAAQAAAAEwAAABMAAAAWAAAAEAAAABMAAAATAAAAHwAAACkAAAAUc3RjbwAAAAAAAAABAAAAMAAAAGJ1ZHRhAAAAWm1ldGEAAAAAAAAAIWhkbHIAAAAAAAAAAG1kaXJhcHBsAAAAAAAAAAAAAAAALWlsc3QAAAAlqXRvbwAAAB1kYXRhAAAAAQAAAABMYXZmNTcuODMuMTAw\" type=\"video/mp4\" />\n",
              "             </video>"
            ],
            "text/plain": [
              "<IPython.core.display.HTML object>"
            ]
          },
          "metadata": {
            "tags": []
          },
          "execution_count": 42
        }
      ]
    },
    {
      "cell_type": "code",
      "metadata": {
        "id": "OpNgIl36ugKQ",
        "colab_type": "code",
        "outputId": "3818b088-e610-4ae7-e57b-42387a10ab75",
        "colab": {
          "base_uri": "https://localhost:8080/",
          "height": 391
        }
      },
      "source": [
        "env = Environment(grid_size=size, max_time=T,temperature=0.3)\n",
        "agent_fc = DQN_FC( lr=.1,grid_size=size, epsilon = 0.1, memory_size=2000, batch_size = 32)\n",
        "agent_cnn.load(name_weights='fc_trainmodel.h5',name_model='fc_trainmodel.json')\n",
        "print('Test of the FC')\n",
        "test(agent_fc,env,epochs_test,prefix='fc_test')\n"
      ],
      "execution_count": 0,
      "outputs": [
        {
          "output_type": "stream",
          "text": [
            "Test of the FC\n",
            "Win/lose count 3.5/4.0. Average score (-0.5)\n",
            "Win/lose count 2.0/1.0. Average score (0.25)\n",
            "Win/lose count 2.0/5.0. Average score (-0.8333333333333334)\n",
            "Win/lose count 0.5/0. Average score (-0.5)\n",
            "Win/lose count 3.5/2.0. Average score (-0.1)\n",
            "Win/lose count 2.0/1.0. Average score (0.08333333333333333)\n",
            "Win/lose count 6.0/8.0. Average score (-0.21428571428571427)\n",
            "Win/lose count 2.0/4.0. Average score (-0.4375)\n",
            "Win/lose count 3.5/7.0. Average score (-0.7777777777777778)\n",
            "Win/lose count 5.0/8.0. Average score (-1.0)\n",
            "Win/lose count 2.0/7.0. Average score (-1.3636363636363635)\n",
            "Win/lose count 3.0/6.0. Average score (-1.5)\n",
            "Win/lose count 2.5/3.0. Average score (-1.4230769230769231)\n",
            "Win/lose count 5.0/7.0. Average score (-1.4642857142857142)\n",
            "Win/lose count 7.0/11.0. Average score (-1.6333333333333333)\n",
            "Win/lose count 3.5/6.0. Average score (-1.6875)\n",
            "Win/lose count 2.0/7.0. Average score (-1.8823529411764706)\n",
            "Win/lose count 2.5/5.0. Average score (-1.9166666666666667)\n",
            "Win/lose count 7.5/3.0. Average score (-1.5789473684210527)\n",
            "Win/lose count 4.0/4.0. Average score (-1.5)\n",
            "Final score: -1.5\n"
          ],
          "name": "stdout"
        }
      ]
    },
    {
      "cell_type": "markdown",
      "metadata": {
        "id": "7F1MILVSnASX",
        "colab_type": "text"
      },
      "source": [
        "***\n",
        "***\n",
        "__Question 8__ Implement the DQN training algorithm using a CNN (for example, 2 convolutional layers and one final fully connected layer)."
      ]
    },
    {
      "cell_type": "code",
      "metadata": {
        "id": "q9_dpvRdnASY",
        "colab_type": "code",
        "colab": {}
      },
      "source": [
        "class DQN_CNN(DQN):\n",
        "    def __init__(self, lr=0.1, *args, **kwargs):\n",
        "        super(DQN_CNN, self).__init__(*args,**kwargs)\n",
        "        \n",
        "        input_model = keras.layers.Input(shape=(5, 5, self.n_state), name=\"input\")\n",
        "        cn1_1 = Conv2D(32, 3, padding=\"same\", activation=\"relu\", name=\"cn1_1\")(input_model)\n",
        "        cn1_2 = Conv2D(32, 3, padding=\"same\", activation=\"relu\", name=\"cn1_2\")(cn1_1)\n",
        "        mp1 = MaxPooling2D(name=\"mp1\")(cn1_2)\n",
        "        cn2 = Conv2D(64, 3, padding=\"same\", activation=\"relu\", name=\"cn2\")(mp1)\n",
        "        flatten = keras.layers.Flatten(name=\"flatten\")(cn2)\n",
        "        fc1= Dense(120, name=\"fc1\", activation=\"relu\")(flatten)\n",
        "        output_model = Dense(4, name=\"output\")(fc1)\n",
        "        model = keras.models.Model(input_model, output_model)\n",
        "        \n",
        "        model.compile(sgd(lr=lr, decay=1e-4, momentum=0.0), \"mse\")\n",
        "        self.model = model"
      ],
      "execution_count": 0,
      "outputs": []
    },
    {
      "cell_type": "code",
      "metadata": {
        "id": "jwCMnKcPnASa",
        "colab_type": "code",
        "outputId": "62532a96-6501-4e51-9000-af2402defd8d",
        "colab": {
          "base_uri": "https://localhost:8080/",
          "height": 1000
        }
      },
      "source": [
        "env = Environment(grid_size=size, max_time=T, temperature=0.3)\n",
        "agent = DQN_CNN(lr=.1, grid_size=size, epsilon=0.1, memory_size=2000, batch_size=32)\n",
        "train(agent,env,epochs_train,prefix='cnn_train')\n",
        "HTML(display_videos('cnn_train10.mp4'))"
      ],
      "execution_count": 0,
      "outputs": [
        {
          "output_type": "stream",
          "text": [
            "Epoch 000/100 | Loss 0.0056 | Win/lose count 2.5/4.0 (-1.5)\n",
            "Epoch 001/100 | Loss 0.0002 | Win/lose count 2.5/3.0 (-0.5)\n",
            "Epoch 002/100 | Loss 0.0029 | Win/lose count 3.5/4.0 (-0.5)\n",
            "Epoch 003/100 | Loss 0.0563 | Win/lose count 2.5/4.0 (-1.5)\n",
            "Epoch 004/100 | Loss 0.0020 | Win/lose count 2.5/5.0 (-2.5)\n",
            "Epoch 005/100 | Loss 0.0091 | Win/lose count 4.0/2.0 (2.0)\n",
            "Epoch 006/100 | Loss 0.0125 | Win/lose count 5.5/3.0 (2.5)\n",
            "Epoch 007/100 | Loss 0.0016 | Win/lose count 1.5/5.0 (-3.5)\n",
            "Epoch 008/100 | Loss 0.0060 | Win/lose count 3.0/6.0 (-3.0)\n",
            "Epoch 009/100 | Loss 0.0025 | Win/lose count 3.5/6.0 (-2.5)\n",
            "Epoch 010/100 | Loss 0.0563 | Win/lose count 3.0/3.0 (0.0)\n",
            "Epoch 011/100 | Loss 0.0034 | Win/lose count 3.5/3.0 (0.5)\n",
            "Epoch 012/100 | Loss 0.0069 | Win/lose count 2.5/4.0 (-1.5)\n",
            "Epoch 013/100 | Loss 0.0140 | Win/lose count 1.0/1.0 (0.0)\n",
            "Epoch 014/100 | Loss 0.0026 | Win/lose count 2.5/4.0 (-1.5)\n",
            "Epoch 015/100 | Loss 0.0051 | Win/lose count 6.0/0 (6.0)\n",
            "Epoch 016/100 | Loss 0.0029 | Win/lose count 6.0/0 (6.0)\n",
            "Epoch 017/100 | Loss 0.0030 | Win/lose count 3.5/3.0 (0.5)\n",
            "Epoch 018/100 | Loss 0.0486 | Win/lose count 3.0/2.0 (1.0)\n",
            "Epoch 019/100 | Loss 0.0049 | Win/lose count 3.5/4.0 (-0.5)\n",
            "Epoch 020/100 | Loss 0.0512 | Win/lose count 3.0/1.0 (2.0)\n",
            "Epoch 021/100 | Loss 0.0015 | Win/lose count 7.0/3.0 (4.0)\n",
            "Epoch 022/100 | Loss 0.0055 | Win/lose count 4.0/0 (4.0)\n",
            "Epoch 023/100 | Loss 0.0015 | Win/lose count 7.0/1.0 (6.0)\n",
            "Epoch 024/100 | Loss 0.0014 | Win/lose count 6.0/0 (6.0)\n",
            "Epoch 025/100 | Loss 0.0019 | Win/lose count 9.0/2.0 (7.0)\n",
            "Epoch 026/100 | Loss 0.0014 | Win/lose count 4.5/0 (4.5)\n",
            "Epoch 027/100 | Loss 0.0015 | Win/lose count 5.0/2.0 (3.0)\n",
            "Epoch 028/100 | Loss 0.0041 | Win/lose count 17.0/5.0 (12.0)\n",
            "Epoch 029/100 | Loss 0.0026 | Win/lose count 10.0/0 (10.0)\n",
            "Epoch 030/100 | Loss 0.0073 | Win/lose count 11.0/2.0 (9.0)\n",
            "Epoch 031/100 | Loss 0.0456 | Win/lose count 13.0/6.0 (7.0)\n",
            "Epoch 032/100 | Loss 0.0348 | Win/lose count 2.0/1.0 (1.0)\n",
            "Epoch 033/100 | Loss 0.0038 | Win/lose count 9.0/1.0 (8.0)\n",
            "Epoch 034/100 | Loss 0.0041 | Win/lose count 12.5/2.0 (10.5)\n",
            "Epoch 035/100 | Loss 0.0064 | Win/lose count 7.0/1.0 (6.0)\n",
            "Epoch 036/100 | Loss 0.0033 | Win/lose count 10.5/2.0 (8.5)\n",
            "Epoch 037/100 | Loss 0.0022 | Win/lose count 8.0/1.0 (7.0)\n",
            "Epoch 038/100 | Loss 0.0023 | Win/lose count 23.0/6.0 (17.0)\n",
            "Epoch 039/100 | Loss 0.0042 | Win/lose count 13.0/3.0 (10.0)\n",
            "Epoch 040/100 | Loss 0.0015 | Win/lose count 6.0/1.0 (5.0)\n",
            "Epoch 041/100 | Loss 0.0012 | Win/lose count 4.0/2.0 (2.0)\n",
            "Epoch 042/100 | Loss 0.0012 | Win/lose count 8.0/1.0 (7.0)\n",
            "Epoch 043/100 | Loss 0.0011 | Win/lose count 4.0/0 (4.0)\n",
            "Epoch 044/100 | Loss 0.0375 | Win/lose count 8.5/0 (8.5)\n",
            "Epoch 045/100 | Loss 0.0091 | Win/lose count 24.0/2.0 (22.0)\n",
            "Epoch 046/100 | Loss 0.0019 | Win/lose count 14.0/3.0 (11.0)\n",
            "Epoch 047/100 | Loss 0.0515 | Win/lose count 19.0/2.0 (17.0)\n",
            "Epoch 048/100 | Loss 0.0027 | Win/lose count 11.0/2.0 (9.0)\n",
            "Epoch 049/100 | Loss 0.0030 | Win/lose count 13.5/3.0 (10.5)\n",
            "Epoch 050/100 | Loss 0.0023 | Win/lose count 20.0/1.0 (19.0)\n",
            "Epoch 051/100 | Loss 0.0017 | Win/lose count 6.0/0 (6.0)\n",
            "Epoch 052/100 | Loss 0.0036 | Win/lose count 9.0/1.0 (8.0)\n",
            "Epoch 053/100 | Loss 0.0013 | Win/lose count 17.5/3.0 (14.5)\n",
            "Epoch 054/100 | Loss 0.0034 | Win/lose count 9.5/1.0 (8.5)\n",
            "Epoch 055/100 | Loss 0.0636 | Win/lose count 11.5/1.0 (10.5)\n",
            "Epoch 056/100 | Loss 0.0559 | Win/lose count 21.5/1.0 (20.5)\n",
            "Epoch 057/100 | Loss 0.0019 | Win/lose count 16.0/3.0 (13.0)\n",
            "Epoch 058/100 | Loss 0.0017 | Win/lose count 12.0/1.0 (11.0)\n",
            "Epoch 059/100 | Loss 0.0021 | Win/lose count 23.0/3.0 (20.0)\n",
            "Epoch 060/100 | Loss 0.0034 | Win/lose count 7.0/1.0 (6.0)\n",
            "Epoch 061/100 | Loss 0.0126 | Win/lose count 12.5/2.0 (10.5)\n",
            "Epoch 062/100 | Loss 0.0024 | Win/lose count 11.5/1.0 (10.5)\n",
            "Epoch 063/100 | Loss 0.0060 | Win/lose count 11.0/2.0 (9.0)\n",
            "Epoch 064/100 | Loss 0.0030 | Win/lose count 12.5/2.0 (10.5)\n",
            "Epoch 065/100 | Loss 0.0018 | Win/lose count 17.0/2.0 (15.0)\n",
            "Epoch 066/100 | Loss 0.0032 | Win/lose count 10.0/5.0 (5.0)\n",
            "Epoch 067/100 | Loss 0.0040 | Win/lose count 19.5/8.0 (11.5)\n",
            "Epoch 068/100 | Loss 0.0074 | Win/lose count 19.5/5.0 (14.5)\n",
            "Epoch 069/100 | Loss 0.0549 | Win/lose count 19.5/6.0 (13.5)\n",
            "Epoch 070/100 | Loss 0.0020 | Win/lose count 18.5/1.0 (17.5)\n",
            "Epoch 071/100 | Loss 0.0033 | Win/lose count 22.5/5.0 (17.5)\n",
            "Epoch 072/100 | Loss 0.0550 | Win/lose count 12.5/5.0 (7.5)\n",
            "Epoch 073/100 | Loss 0.0036 | Win/lose count 17.0/5.0 (12.0)\n",
            "Epoch 074/100 | Loss 0.0396 | Win/lose count 13.0/2.0 (11.0)\n",
            "Epoch 075/100 | Loss 0.0459 | Win/lose count 16.5/3.0 (13.5)\n",
            "Epoch 076/100 | Loss 0.0055 | Win/lose count 5.0/4.0 (1.0)\n",
            "Epoch 077/100 | Loss 0.0489 | Win/lose count 14.5/3.0 (11.5)\n",
            "Epoch 078/100 | Loss 0.0031 | Win/lose count 15.0/1.0 (14.0)\n",
            "Epoch 079/100 | Loss 0.0024 | Win/lose count 13.0/1.0 (12.0)\n",
            "Epoch 080/100 | Loss 0.0022 | Win/lose count 7.5/1.0 (6.5)\n",
            "Epoch 081/100 | Loss 0.0433 | Win/lose count 16.5/1.0 (15.5)\n",
            "Epoch 082/100 | Loss 0.0021 | Win/lose count 19.0/3.0 (16.0)\n",
            "Epoch 083/100 | Loss 0.0023 | Win/lose count 25.5/5.0 (20.5)\n",
            "Epoch 084/100 | Loss 0.0067 | Win/lose count 10.5/3.0 (7.5)\n",
            "Epoch 085/100 | Loss 0.0031 | Win/lose count 16.5/1.0 (15.5)\n",
            "Epoch 086/100 | Loss 0.0025 | Win/lose count 19.5/2.0 (17.5)\n",
            "Epoch 087/100 | Loss 0.0062 | Win/lose count 20.5/7.0 (13.5)\n",
            "Epoch 088/100 | Loss 0.0457 | Win/lose count 14.0/1.0 (13.0)\n",
            "Epoch 089/100 | Loss 0.0059 | Win/lose count 10.5/1.0 (9.5)\n",
            "Epoch 090/100 | Loss 0.0031 | Win/lose count 20.5/4.0 (16.5)\n",
            "Epoch 091/100 | Loss 0.0020 | Win/lose count 12.0/4.0 (8.0)\n",
            "Epoch 092/100 | Loss 0.0474 | Win/lose count 12.5/3.0 (9.5)\n",
            "Epoch 093/100 | Loss 0.0040 | Win/lose count 19.5/4.0 (15.5)\n",
            "Epoch 094/100 | Loss 0.0025 | Win/lose count 9.5/4.0 (5.5)\n",
            "Epoch 095/100 | Loss 0.0525 | Win/lose count 28.0/4.0 (24.0)\n",
            "Epoch 096/100 | Loss 0.0051 | Win/lose count 13.0/5.0 (8.0)\n",
            "Epoch 097/100 | Loss 0.0025 | Win/lose count 16.0/2.0 (14.0)\n",
            "Epoch 098/100 | Loss 0.0049 | Win/lose count 15.0/1.0 (14.0)\n",
            "Epoch 099/100 | Loss 0.0991 | Win/lose count 19.5/5.0 (14.5)\n"
          ],
          "name": "stdout"
        },
        {
          "output_type": "execute_result",
          "data": {
            "text/html": [
              "<video alt=\"test\" controls>\n",
              "                <source src=\"data:video/mp4;base64,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\" type=\"video/mp4\" />\n",
              "             </video>"
            ],
            "text/plain": [
              "<IPython.core.display.HTML object>"
            ]
          },
          "metadata": {
            "tags": []
          },
          "execution_count": 33
        }
      ]
    },
    {
      "cell_type": "markdown",
      "metadata": {
        "id": "128asnRCnASd",
        "colab_type": "text"
      },
      "source": [
        "***\n",
        "***\n",
        "__Question 9__ Test both algorithms and compare their performances. Which issue(s) do you observe? Observe also different behaviors by changing the temperature."
      ]
    },
    {
      "cell_type": "code",
      "metadata": {
        "id": "2hcrwDpHnASd",
        "colab_type": "code",
        "outputId": "d32d0b46-182f-43e6-95c8-65e5dac57ea0",
        "colab": {
          "base_uri": "https://localhost:8080/",
          "height": 391
        }
      },
      "source": [
        "env = Environment(grid_size=size, max_time=T,temperature=0.3)\n",
        "agent_cnn = DQN_CNN( lr=.1,grid_size=size,epsilon = 0.1, memory_size=2000, batch_size = 32)\n",
        "agent_cnn.load(name_weights='cnn_trainmodel.h5',name_model='cnn_trainmodel.json')\n",
        "print('Test of the CNN')\n",
        "test(agent_cnn,env,epochs_test,prefix='cnn_test')"
      ],
      "execution_count": 0,
      "outputs": [
        {
          "output_type": "stream",
          "text": [
            "Test of the CNN\n",
            "Win/lose count 5.0/2.0. Average score (3.0)\n",
            "Win/lose count 10.0/3.0. Average score (5.0)\n",
            "Win/lose count 8.0/2.0. Average score (5.333333333333333)\n",
            "Win/lose count 7.0/2.0. Average score (5.25)\n",
            "Win/lose count 5.0/3.0. Average score (4.6)\n",
            "Win/lose count 3.5/0. Average score (4.416666666666667)\n",
            "Win/lose count 7.5/1.0. Average score (4.714285714285714)\n",
            "Win/lose count 10.0/1.0. Average score (5.25)\n",
            "Win/lose count 8.0/1.0. Average score (5.444444444444445)\n",
            "Win/lose count 10.0/2.0. Average score (5.7)\n",
            "Win/lose count 7.0/2.0. Average score (5.636363636363637)\n",
            "Win/lose count 1.0/2.0. Average score (5.083333333333333)\n",
            "Win/lose count 3.0/1.0. Average score (4.846153846153846)\n",
            "Win/lose count 6.5/3.0. Average score (4.75)\n",
            "Win/lose count 6.5/0. Average score (4.866666666666666)\n",
            "Win/lose count 19.5/3.0. Average score (5.59375)\n",
            "Win/lose count 10.0/3.0. Average score (5.676470588235294)\n",
            "Win/lose count 3.5/1.0. Average score (5.5)\n",
            "Win/lose count 3.0/3.0. Average score (5.2105263157894735)\n",
            "Win/lose count 5.5/5.0. Average score (4.975)\n",
            "Final score: 4.975\n"
          ],
          "name": "stdout"
        }
      ]
    },
    {
      "cell_type": "code",
      "metadata": {
        "id": "dtym5LD0nASg",
        "colab_type": "code",
        "outputId": "c22cbd1a-396c-48a4-8d56-b6a231a3d2d0",
        "colab": {
          "base_uri": "https://localhost:8080/",
          "height": 293
        }
      },
      "source": [
        "HTML(display_videos('cnn_test10.mp4'))"
      ],
      "execution_count": 0,
      "outputs": [
        {
          "output_type": "execute_result",
          "data": {
            "text/html": [
              "<video alt=\"test\" controls>\n",
              "                <source src=\"data:video/mp4;base64,AAAAIGZ0eXBpc29tAAACAGlzb21pc28yYXZjMW1wNDEAAAAIZnJlZQAAFxptZGF0AAACrQYF//+p3EXpvebZSLeWLNgg2SPu73gyNjQgLSBjb3JlIDE1MiByMjg1NCBlOWE1OTAzIC0gSC4yNjQvTVBFRy00IEFWQyBjb2RlYyAtIENvcHlsZWZ0IDIwMDMtMjAxNyAtIGh0dHA6Ly93d3cudmlkZW9sYW4ub3JnL3gyNjQuaHRtbCAtIG9wdGlvbnM6IGNhYmFjPTEgcmVmPTMgZGVibG9jaz0xOjA6MCBhbmFseXNlPTB4MToweDExMSBtZT1oZXggc3VibWU9NyBwc3k9MSBwc3lfcmQ9MS4wMDowLjAwIG1peGVkX3JlZj0xIG1lX3JhbmdlPTE2IGNocm9tYV9tZT0xIHRyZWxsaXM9MSA4eDhkY3Q9MCBjcW09MCBkZWFkem9uZT0yMSwxMSBmYXN0X3Bza2lwPTEgY2hyb21hX3FwX29mZnNldD00IHRocmVhZHM9MyBsb29rYWhlYWRfdGhyZWFkcz0xIHNsaWNlZF90aHJlYWRzPTAgbnI9MCBkZWNpbWF0ZT0xIGludGVybGFjZWQ9MCBibHVyYXlfY29tcGF0PTAgY29uc3RyYWluZWRfaW50cmE9MCBiZnJhbWVzPTMgYl9weXJhbWlkPTIgYl9hZGFwdD0xIGJfYmlhcz0wIGRpcmVjdD0xIHdlaWdodGI9MSBvcGVuX2dvcD0wIHdlaWdodHA9MiBrZXlpbnQ9MjUwIGtleWludF9taW49MjUgc2NlbmVjdXQ9NDAgaW50cmFfcmVmcmVzaD0wIHJjX2xvb2thaGVhZD00MCByYz1jcmYgbWJ0cmVlPTEgY3JmPTIzLjAgcWNvbXA9MC42MCBxcG1pbj0wIHFwbWF4PTY5IHFwc3RlcD00IGlwX3JhdGlvPTEuNDAgYXE9MToxLjAwAIAAAAKAZYiEADf//vaH+BTZWBP+Wb/9DX/cj9uPrP1xYyEE31qvIejAGS+1H+b/rFFs6Z6UB/fgCJQAc24ZwpIoZ/8CmWxwvgUK/HE+UwozlT/KDbJHQMPKO2F9ljZpjE9bfIT4k6OsHt3BmqvfCLwkToZwdSoaAqcLVWDo0CXkcsxqPSrZ2/2hlQJZoq1zxHYMkBYRIVItFX6uk2KAdMay4vzu216X0Ca/CAWZ3g5x/OnQsFc4T42ggA2VqnLVlyBTu8YhRF4myh/UfEY7ReKOlMtdr8DL2s0IgLxI5zBrrT+4Ip9hKrJnVEn83Uph/l8OODqg7xBxycI7R4KVMYt87RZVwjc1DZhqGe03+UCGw0TZ0Y51BOFJSbogXkiFKqS9H4MWRZtOktvv9I6HeAAB+C5bTLAHeuFkeEUSFCAStw9PK9wNeKi6idAUfB6FCN9Af0IR28hlmnrL0RQVxzSp47JoD1NSdvA68s7ojdi8M+ehUUGkUDWSpoBIWTxMs1x/i3YAkD96RNhFD8dVT0W7QudwQzKXfzz5AxwwUTrA2UCh4wetbKKa7tOl1GxalRIv+2/Jk9oAxgGH5UrM0QE5XQLmggojX0EYthpxV8X3+Ht6T5SyBIzeRGkg5rmsgWxuSlsRbJPOlbBJBSr0GG2C3/m/qqLBVxZIL0AD4rzqJPN5KSYiinofEHuZZNwLWg965UFiPr9NYv94czg0p7wYVwV1GZtwu6rrWtJCkWeeja5smmk2WupNMRa5srWLJcaDrvREmK+iHBIOkwyTX6C5A0ksPO7DmGvOWnYGo21lQwesEy7pb+KRimSHkHUKK6Tb+r5g3i95FZtTSvnQz+oPZwAFVQAAACRBmiRsQ3/+p4QAI98kVzmWVz3j8ClS2fgUzsCe3c/RWH/AQc0AAAAOQZ5CeIX/ABWWNqfK3TEAAAAPAZ5hdEK/AB0IpMb1BGyBAAAADwGeY2pCvwAdCvmh1otmgQAAABJBmmZJqEFomUwU8N/+p4QAAScAAAARAZ6FakK/ABz+cQc8uk9RTlsAAAASQZqISeEKUmUwUsN//qeEAAEnAAAAEQGep2pCvwAc/nEHPLpPUU5bAAAAEkGaqknhDomUwUTDf/6nhAABJwAAABEBnslqQr8AHP5xBzy6T1FOWwAAABJBmsxJ4Q8mUwU8N//+p4QAAScAAAARAZ7rakK/ABz+cQc8uk9RTlsAAAASQZruSeEPJlMFPDf//qeEAAEnAAAAEQGfDWpCvwAc/nEHPLpPUU5bAAAAEkGbEEnhDyZTBTw3//6nhAABJwAAABEBny9qQr8AHP5xBzy6T1FOWwAAABJBmzJJ4Q8mUwU8N//+p4QAAScAAAARAZ9RakK/ABz+cQc8uk9RTlsAAAASQZtUSeEPJlMFPDf//qeEAAEnAAAAEQGfc2pCvwAc/nEHPLpPUU5bAAAAEkGbdknhDyZTBTw3//6nhAABJwAAABEBn5VqQr8AHP5xBzy6T1FOWwAAABJBm5hJ4Q8mUwU8N//+p4QAAScAAAARAZ+3akK/ABz+cQc8uk9RTlsAAAASQZu6SeEPJlMFPDf//qeEAAEnAAAAEQGf2WpCvwAc/nEHPLpPUU5bAAAAEkGb3EnhDyZTBTw3//6nhAABJwAAABEBn/tqQr8AHP5xBzy6T1FOWwAAABJBm/5J4Q8mUwU8N//+p4QAAScAAAARAZ4dakK/ABz+cQc8uk9RTlsAAAASQZoASeEPJlMFPDf//qeEAAEnAAAAEQGeP2pCvwAc/nEHPLpPUU5bAAAAEkGaIknhDyZTBTw3//6nhAABJwAAABEBnkFqQr8AHP5xBzy6T1FOWwAAABJBmkRJ4Q8mUwU8N//+p4QAAScAAAARAZ5jakK/ABz+cQc8uk9RTlsAAAAaQZplSeEPJlMCG//+p4QAI6Pmal5Yrfk1cCsAAAAaQZqGSeEPJlMCHf/+qZYAEZ+R1EOFqCf2Bj0AAAAWQZqqSeEPJlMCG//+p4QAFh9E/1XfcQAAAA5BnshFETwv/wANMIuSoAAAABABnud0Qr8AG11E8mwH2+jAAAAAEAGe6WpCvwAbXUTkDI2jcYEAAAApQZrsSahBaJlMFPDf/qeEACPfJFc5llc94/ApUtn4FM7A57YAKJ9YiZgAAAAQAZ8LakK/AB0GYPJcz5LdgAAAABJBmw5J4QpSZTBSw3/+p4QAAScAAAAPAZ8takK/AB0K+aHWi2aBAAAAE0GbMEnhDomUwUTDv/6plgAAlYEAAAARAZ9PakK/ABz+cQc8uk9RTlsAAAAaQZtTSeEPJlMCHf/+qZYAG8qQZoA+wH/dZ8AAAAARQZ9xRRE8K/8ALXY7/o5IqycAAAAOAZ+SakK/AC12PXNerJwAAAATQZuXSahBaJlMCHf//qmWAACVgAAAAAxBn7VFESwv/wAAsoEAAAAPAZ/UdEK/ACz2UcR2XZX/AAAADwGf1mpCvwAs9lG6z1Z7vQAAABNBm9tJqEFsmUwId//+qZYAAJWBAAAADEGf+UUVLC//AACygAAAAA8Bnhh0Qr8ALPZRxHZdlf8AAAAPAZ4aakK/ACz2UbrPVnu9AAAAEkGaH0moQWyZTAhv//6nhAABJwAAAAxBnj1FFSwv/wAAsoEAAAAPAZ5cdEK/ACz2UcR2XZX/AAAADwGeXmpCvwAs9lG6z1Z7vQAAABJBmkNJqEFsmUwIb//+p4QAAScAAAAMQZ5hRRUsL/8AALKAAAAADwGegHRCvwAs9lHEdl2V/wAAAA8BnoJqQr8ALPZRus9We70AAAAaQZqESahBbJlMCG///qeEAFY9E/1XAY/ETcEAAAAcQZqmSeEKUmUwUVLDf/6nhABWvdT9zJONWVoeYQAAABABnsVqQr8ARWT5zrQwvJzBAAAAGUGax0nhDomUwIb//qeEADY+wf4Tgt0JakEAAAARQZrrSeEPJlMCG//+p4QAAScAAAAMQZ8JRRE8L/8AALKAAAAADwGfKHRCvwAdBsDQ855eWwAAABABnypqQr8ALFG13WQw5NrAAAAAGUGbLEmoQWiZTAhv//6nhAAjo+Y8jE/y3F8AAAAeQZtOSeEKUmUwURLDv/6plgASH48/kXpc7SYNAUWBAAAAEAGfbWpCvwAdAIBOvAFAIYEAAAAWQZtySeEOiZTAh3/+qZYAB0h1OgtfXQAAAA5Bn5BFFTwv/wAIrQBC4AAAABABn690Qr8ADB5ycR2XZi6AAAAADwGfsWpCvwAMHnJus9WgHwAAABJBm7ZJqEFomUwIb//+p4QAAScAAAAMQZ/URREsL/8AALKAAAAAEAGf83RCvwAMHnJxHZdmLoEAAAAPAZ/1akK/AAwecm6z1aAfAAAAEkGb+kmoQWyZTAhn//6eEAAEfQAAAAxBnhhFFSwv/wAAsoEAAAAQAZ43dEK/AAwecnEdl2YugAAAAA8BnjlqQr8ADB5ybrPVoB8AAAAZQZo7SahBbJlMCG///qeEAA7nsHr2Z8EW3wAAABlBmlxJ4QpSZTAhv/6nhAAOj77PqONCQ7jhAAAAGUGaf0nhDomUwIb//qeEAAl3x0+o40JD2UEAAAASQZ6dRRE8K/8AB8VcGuPe9eCAAAAADgGevmpCvwAHxBmPRFlSAAAAHEGaoEmoQWiZTAh3//6plgADGe2oB/eFqCf2I2EAAAAaQZrESeEKUmUwIb/+p4QACWqwLNuM3up8crAAAAAQQZ7iRTRML/8ABa2WCfH4wQAAAA8BnwF0Qr8AB5ow8oaBnDEAAAAPAZ8DakK/AAfFXBsEgCtxAAAAGUGbB0moQWiZTAhv//6nhAAJqPmPIxP8uAMAAAAPQZ8lRREsK/8AB8QVw5fBAAAADQGfRmpCvwAHxr8YVL8AAAAUQZtJSahBbJlMFEw7//6plgAAlYAAAAAPAZ9oakK/AAexQ3YZ6tCBAAAAHkGbbUnhClJlMCG//qeEAAm3x0+1YPBzZxmqa3RMYQAAABBBn4tFNEwv/wAF0oBbPhxOAAAADwGfqnRCvwAHxL0Bkl1bgAAAAA8Bn6xqQr8AB8Qf1SKBLCcAAAAaQZuuSahBaJlMCHf//qmWAAMZ7S8LUE/sRsEAAAAaQZvSSeEKUmUwId/+qZYABMFqRmgO76MewGkAAAAQQZ/wRTRML/8ABa6BBShuaAAAAA8Bng90Qr8ABNbQgMku54AAAAAQAZ4RakK/AAeZnhDxoa0BgQAAABxBmhZJqEFomUwIb//+p4QACXfHT7rSzNTbouOoAAAAEEGeNEURLC//AAWtlioQbZAAAAAQAZ5TdEK/AAfFsDW0yh7lwQAAAA8BnlVqQr8AB8TUOhaN8sAAAAASQZpaSahBbJlMCG///qeEAAEnAAAADEGeeEUVLC//AACygQAAAA8Bnpd0Qr8ABQ7KOI7Ls78AAAAQAZ6ZakK/AAfE1Dn+jTrlgQAAABtBmptJqEFsmUwIb//+p4QABk/ZWBw958Ft1+8AAAAZQZq8SeEKUmUwId/+qZYAAxntLwtQT+xGwQAAABpBmsBJ4Q6JlMCHf/6plgAEwWpGaA7vox7AaQAAABBBnv5FETwv/wAFroEFKG5oAAAADwGfHXRCvwAE1tCAyS7ngAAAABABnx9qQr8AB5meEPGhrQGBAAAAGUGbBEmoQWiZTAh3//6plgAEx+PP5dozc5MAAAAVQZ8iRREsL/8ABa2WKyr0zllqa/X5AAAAEAGfQXRCvwAHxbA1tMoe5cAAAAAPAZ9DakK/AAUdrKZtmRzfAAAAGkGbSEmoQWyZTAh3//6plgAEwX7tRvjz6PGBAAAAEEGfZkUVLC//AAWugQUobmkAAAAPAZ+FdEK/AATW0IDJLueBAAAAEAGfh2pCvwAHmZ4Q8aGtAYAAAAAZQZuMSahBbJlMCHf//qmWAATH48/l2jNzkwAAABVBn6pFFSwv/wAFrZYrKvTOWWpr9fkAAAAQAZ/JdEK/AAfFsDW0yh7lwAAAAA8Bn8tqQr8ABR2spm2ZHN4AAAAZQZvQSahBbJlMCG///qeEAAlq2lzN7qfHKwAAABBBn+5FFSwv/wAFroEFKG5pAAAADwGeDXRCvwAE1tCAyS7ngQAAABABng9qQr8AB5meEPGhrQGAAAAAGUGaFEmoQWyZTAhn//6eEAAk3xD/FE9KZJgAAAAVQZ4yRRUsL/8ABa2WKyr0zllqa/X5AAAAEAGeUXRCvwAHxbA1tMoe5cAAAAAPAZ5TakK/AAUdrKZtmRzeAAAAGUGaVUmoQWyZTAhn//6eEAAXX3TYy5NlX/0AAAAZQZp2SeEKUmUwIb/+p4QACOoAs22z7PnvQAAAABhBmpdJ4Q6JlMCG//6nhAAI98dMf4fVuB8AAAAdQZq5SeEPJlMFETw3//6nhAAIt9HPjtkrdFgoA7kAAAAPAZ7YakK/AAcUFKZtmRxLAAAAGEGa2knhDyZTAhv//qeEAAg3x0x/h9W4OQAAAB9BmvxJ4Q8mUwURPDv//qmWAAQH48/LperrWcoNxEvAAAAAEAGfG2pCvwAGmI7c60MMFkEAAAAcQZsASeEPJlMCG//+p4QABUfdT7vNzk8DwbpFXwAAABBBnz5FETwv/wADJKmhaigxAAAADwGfXXRCvwAEFtCAyS8CgAAAABABn19qQr8ABDc0bzTFW5lBAAAAGUGbQkmoQWiZTBTw7/6plgAClBOkf31feR4AAAAQAZ9hakK/AAQ15omRNK1PQQAAAB1Bm2ZJ4QpSZTAh3/6plgACl++r7l+X0s5Qbi6AwAAAABBBn4RFNEwv/wADEKtSeGerAAAADwGfo3RCvwAEFtCAyS8CgQAAAA8Bn6VqQr8ABBZW6UaQ83cAAAAZQZuqSahBaJlMCG///qeEAAUcFB3b7B+x9QAAABBBn8hFESwv/wADEKu7/O+wAAAADwGf53RCvwACoRhAZJezgAAAAA8Bn+lqQr8ABBdiPJgevucAAAAaQZvrSahBbJlMCHf//qmWAAKX76sqszbMVcAAAAASQZoPSeEKUmUwId/+qZYAAJWAAAAADEGeLUU0TC//AACygQAAABABnkx0Qr8AA+6hu6dl2gaBAAAADwGeTmpCvwAD7qG7DPVo1wAAABNBmlNJqEFomUwId//+qZYAAJWAAAAADEGecUURLC//AACygAAAABABnpB0Qr8AA+6hu6dl2gaBAAAADwGekmpCvwAD7qG7DPVo1wAAABJBmpdJqEFsmUwIb//+p4QAAScAAAAMQZ61RRUsL/8AALKBAAAAEAGe1HRCvwAD7qG7p2XaBoAAAAAPAZ7WakK/AAPuobsM9WjXAAAAGUGa2kmoQWyZTAhv//6nhAAE/91OP8Pq3JsAAAARQZ74RRUsK/8ABBc0bzQsIYYAAAAOAZ8ZakK/AAQWUYyblo0AAAAaQZsbSahBbJlMCG///qeEAAdo4z/Vb5j8d6AAAAAZQZs8SeEKUmUwId/+qZYAA7/tLwtQT+w5oQAAABpBm0BJ4Q6JlMCG//6nhAALoFSs24ze6nxuEQAAABVBn35FETwv/wAG6VpjA/RYtguUlNAAAAAQAZ+ddEK/AAkwgDnbHGnM4AAAABABn59qQr8ACW7EeS5nyhGBAAAAHEGbhEmoQWiZTAhn//6eEAAtnxO/GK7kbs2FfqAAAAAQQZ+iRREsL/8ABulXjewZeQAAAA8Bn8F0Qr8ACW2jFwH5pOAAAAAQAZ/DakK/AAmuaN5pirbUwQAAABlBm8VJqEFsmUwIZ//+nhAAHk9cbe9N917PAAAAGkGb6UvhCEKUkRggoB/IB/YeAIV//jhAABFxAAAAI0GeB0U0TC//AgHc6kvbMwq5gOgatahcCUAZaJPC3zKTNJwxAAAAEAGeJnRCvwAGmeTdHbfDfoAAAAAmAZ4oakK/Aq9j7UHE3arDSSblqoYHLLW7zSogmj4doMTFLSnxVLAAAAw4bW9vdgAAAGxtdmhkAAAAAAAAAAAAAAAAAAAD6AAAH5AAAQAAAQAAAAAAAAAAAAAAAAEAAAAAAAAAAAAAAAAAAAABAAAAAAAAAAAAAAAAAABAAAAAAAAAAAAAAAAAAAAAAAAAAAAAAAAAAAAAAAAAAgAAC2J0cmFrAAAAXHRraGQAAAADAAAAAAAAAAAAAAABAAAAAAAAH5AAAAAAAAAAAAAAAAAAAAAAAAEAAAAAAAAAAAAAAAAAAAABAAAAAAAAAAAAAAAAAABAAAAAARAAAAEQAAAAAAAkZWR0cwAAABxlbHN0AAAAAAAAAAEAAB+QAAAEAAABAAAAAArabWRpYQAAACBtZGhkAAAAAAAAAAAAAAAAAAAyAAABlABVxAAAAAAALWhkbHIAAAAAAAAAAHZpZGUAAAAAAAAAAAAAAABWaWRlb0hhbmRsZXIAAAAKhW1pbmYAAAAUdm1oZAAAAAEAAAAAAAAAAAAAACRkaW5mAAAAHGRyZWYAAAAAAAAAAQAAAAx1cmwgAAAAAQAACkVzdGJsAAAAlXN0c2QAAAAAAAAAAQAAAIVhdmMxAAAAAAAAAAEAAAAAAAAAAAAAAAAAAAAAARABEABIAAAASAAAAAAAAAABAAAAAAAAAAAAAAAAAAAAAAAAAAAAAAAAAAAAAAAAAAAAGP//AAAAL2F2Y0MB9AAN/+EAF2f0AA2RmygiEdCAAAADAIAAABkHihTLAQAFaOvjxEgAAAAYc3R0cwAAAAAAAAABAAAAygAAAgAAAAAUc3RzcwAAAAAAAAABAAAAAQAABhBjdHRzAAAAAAAAAMAAAAABAAAEAAAAAAEAAAoAAAAAAQAABAAAAAABAAAAAAAAAAEAAAIAAAAAAQAABgAAAAABAAACAAAAAAEAAAYAAAAAAQAAAgAAAAABAAAGAAAAAAEAAAIAAAAAAQAABgAAAAABAAACAAAAAAEAAAYAAAAAAQAAAgAAAAABAAAGAAAAAAEAAAIAAAAAAQAABgAAAAABAAACAAAAAAEAAAYAAAAAAQAAAgAAAAABAAAGAAAAAAEAAAIAAAAAAQAABgAAAAABAAACAAAAAAEAAAYAAAAAAQAAAgAAAAABAAAGAAAAAAEAAAIAAAAAAQAABgAAAAABAAACAAAAAAEAAAYAAAAAAQAAAgAAAAABAAAGAAAAAAEAAAIAAAAAAQAABgAAAAABAAACAAAAAAIAAAQAAAAAAQAACgAAAAABAAAEAAAAAAEAAAAAAAAAAQAAAgAAAAABAAAGAAAAAAEAAAIAAAAAAQAABgAAAAABAAACAAAAAAEAAAYAAAAAAQAAAgAAAAABAAAIAAAAAAIAAAIAAAAAAQAACgAAAAABAAAEAAAAAAEAAAAAAAAAAQAAAgAAAAABAAAKAAAAAAEAAAQAAAAAAQAAAAAAAAABAAACAAAAAAEAAAoAAAAAAQAABAAAAAABAAAAAAAAAAEAAAIAAAAAAQAACgAAAAABAAAEAAAAAAEAAAAAAAAAAQAAAgAAAAABAAAEAAAAAAEAAAYAAAAAAQAAAgAAAAABAAAEAAAAAAEAAAoAAAAAAQAABAAAAAABAAAAAAAAAAEAAAIAAAAAAQAABAAAAAABAAAGAAAAAAEAAAIAAAAAAQAACgAAAAABAAAEAAAAAAEAAAAAAAAAAQAAAgAAAAABAAAKAAAAAAEAAAQAAAAAAQAAAAAAAAABAAACAAAAAAEAAAoAAAAAAQAABAAAAAABAAAAAAAAAAEAAAIAAAAAAgAABAAAAAABAAAIAAAAAAIAAAIAAAAAAQAABAAAAAABAAAKAAAAAAEAAAQAAAAAAQAAAAAAAAABAAACAAAAAAEAAAgAAAAAAgAAAgAAAAABAAAGAAAAAAEAAAIAAAAAAQAACgAAAAABAAAEAAAAAAEAAAAAAAAAAQAAAgAAAAABAAAEAAAAAAEAAAoAAAAAAQAABAAAAAABAAAAAAAAAAEAAAIAAAAAAQAACgAAAAABAAAEAAAAAAEAAAAAAAAAAQAAAgAAAAABAAAKAAAAAAEAAAQAAAAAAQAAAAAAAAABAAACAAAAAAIAAAQAAAAAAQAACgAAAAABAAAEAAAAAAEAAAAAAAAAAQAAAgAAAAABAAAKAAAAAAEAAAQAAAAAAQAAAAAAAAABAAACAAAAAAEAAAoAAAAAAQAABAAAAAABAAAAAAAAAAEAAAIAAAAAAQAACgAAAAABAAAEAAAAAAEAAAAAAAAAAQAAAgAAAAABAAAKAAAAAAEAAAQAAAAAAQAAAAAAAAABAAACAAAAAAEAAAoAAAAAAQAABAAAAAABAAAAAAAAAAEAAAIAAAAAAwAABAAAAAABAAAGAAAAAAEAAAIAAAAAAQAABAAAAAABAAAGAAAAAAEAAAIAAAAAAQAACgAAAAABAAAEAAAAAAEAAAAAAAAAAQAAAgAAAAABAAAGAAAAAAEAAAIAAAAAAQAACgAAAAABAAAEAAAAAAEAAAAAAAAAAQAAAgAAAAABAAAKAAAAAAEAAAQAAAAAAQAAAAAAAAABAAACAAAAAAEAAAQAAAAAAQAACgAAAAABAAAEAAAAAAEAAAAAAAAAAQAAAgAAAAABAAAKAAAAAAEAAAQAAAAAAQAAAAAAAAABAAACAAAAAAEAAAoAAAAAAQAABAAAAAABAAAAAAAAAAEAAAIAAAAAAQAACAAAAAACAAACAAAAAAIAAAQAAAAAAQAACgAAAAABAAAEAAAAAAEAAAAAAAAAAQAAAgAAAAABAAAKAAAAAAEAAAQAAAAAAQAAAAAAAAABAAACAAAAAAEAAAQAAAAAAQAACgAAAAABAAAEAAAAAAEAAAAAAAAAAQAAAgAAAAAcc3RzYwAAAAAAAAABAAAAAQAAAMoAAAABAAADPHN0c3oAAAAAAAAAAAAAAMoAAAU1AAAAKAAAABIAAAATAAAAEwAAABYAAAAVAAAAFgAAABUAAAAWAAAAFQAAABYAAAAVAAAAFgAAABUAAAAWAAAAFQAAABYAAAAVAAAAFgAAABUAAAAWAAAAFQAAABYAAAAVAAAAFgAAABUAAAAWAAAAFQAAABYAAAAVAAAAFgAAABUAAAAWAAAAFQAAABYAAAAVAAAAHgAAAB4AAAAaAAAAEgAAABQAAAAUAAAALQAAABQAAAAWAAAAEwAAABcAAAAVAAAAHgAAABUAAAASAAAAFwAAABAAAAATAAAAEwAAABcAAAAQAAAAEwAAABMAAAAWAAAAEAAAABMAAAATAAAAFgAAABAAAAATAAAAEwAAAB4AAAAgAAAAFAAAAB0AAAAVAAAAEAAAABMAAAAUAAAAHQAAACIAAAAUAAAAGgAAABIAAAAUAAAAEwAAABYAAAAQAAAAFAAAABMAAAAWAAAAEAAAABQAAAATAAAAHQAAAB0AAAAdAAAAFgAAABIAAAAgAAAAHgAAABQAAAATAAAAEwAAAB0AAAATAAAAEQAAABgAAAATAAAAIgAAABQAAAATAAAAEwAAAB4AAAAeAAAAFAAAABMAAAAUAAAAIAAAABQAAAAUAAAAEwAAABYAAAAQAAAAEwAAABQAAAAfAAAAHQAAAB4AAAAUAAAAEwAAABQAAAAdAAAAGQAAABQAAAATAAAAHgAAABQAAAATAAAAFAAAAB0AAAAZAAAAFAAAABMAAAAdAAAAFAAAABMAAAAUAAAAHQAAABkAAAAUAAAAEwAAAB0AAAAdAAAAHAAAACEAAAATAAAAHAAAACMAAAAUAAAAIAAAABQAAAATAAAAFAAAAB0AAAAUAAAAIQAAABQAAAATAAAAEwAAAB0AAAAUAAAAEwAAABMAAAAeAAAAFgAAABAAAAAUAAAAEwAAABcAAAAQAAAAFAAAABMAAAAWAAAAEAAAABQAAAATAAAAHQAAABUAAAASAAAAHgAAAB0AAAAeAAAAGQAAABQAAAAUAAAAIAAAABQAAAATAAAAFAAAAB0AAAAeAAAAJwAAABQAAAAqAAAAFHN0Y28AAAAAAAAAAQAAADAAAABidWR0YQAAAFptZXRhAAAAAAAAACFoZGxyAAAAAAAAAABtZGlyYXBwbAAAAAAAAAAAAAAAAC1pbHN0AAAAJal0b28AAAAdZGF0YQAAAAEAAAAATGF2ZjU3LjgzLjEwMA==\" type=\"video/mp4\" />\n",
              "             </video>"
            ],
            "text/plain": [
              "<IPython.core.display.HTML object>"
            ]
          },
          "metadata": {
            "tags": []
          },
          "execution_count": 57
        }
      ]
    },
    {
      "cell_type": "code",
      "metadata": {
        "id": "WjnwbIjTnASi",
        "colab_type": "code",
        "outputId": "9e35e744-f89d-46a6-c131-b10acfb46cf7",
        "colab": {
          "base_uri": "https://localhost:8080/",
          "height": 293
        }
      },
      "source": [
        "HTML(display_videos('fc_test10.mp4'))"
      ],
      "execution_count": 0,
      "outputs": [
        {
          "output_type": "execute_result",
          "data": {
            "text/html": [
              "<video alt=\"test\" controls>\n",
              "                <source src=\"data:video/mp4;base64,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\" type=\"video/mp4\" />\n",
              "             </video>"
            ],
            "text/plain": [
              "<IPython.core.display.HTML object>"
            ]
          },
          "metadata": {
            "tags": []
          },
          "execution_count": 58
        }
      ]
    },
    {
      "cell_type": "code",
      "metadata": {
        "id": "lD_Jx1lt12GQ",
        "colab_type": "code",
        "colab": {}
      },
      "source": [
        "env = Environment(grid_size=size, max_time=T, temperature=0.8)"
      ],
      "execution_count": 0,
      "outputs": []
    },
    {
      "cell_type": "code",
      "metadata": {
        "id": "DAFQgiNk18zs",
        "colab_type": "code",
        "outputId": "5bba8428-b663-4cfd-9c5b-9596ba90d31c",
        "colab": {
          "base_uri": "https://localhost:8080/",
          "height": 765
        }
      },
      "source": [
        "print('Test of the FC')\n",
        "test(agent_fc, env, epochs_test, prefix='fc_test')\n",
        "print('Test of the CNN')\n",
        "test(agent_cnn, env, epochs_test, prefix='cnn_test')"
      ],
      "execution_count": 0,
      "outputs": [
        {
          "output_type": "stream",
          "text": [
            "Test of the FC\n",
            "Win/lose count 22.0/5.0. Average score (17.0)\n",
            "Win/lose count 8.0/6.0. Average score (9.5)\n",
            "Win/lose count 10.0/5.0. Average score (8.0)\n",
            "Win/lose count 11.0/6.0. Average score (7.25)\n",
            "Win/lose count 11.0/6.0. Average score (6.8)\n",
            "Win/lose count 18.5/12.0. Average score (6.75)\n",
            "Win/lose count 9.0/8.0. Average score (5.928571428571429)\n",
            "Win/lose count 11.0/6.0. Average score (5.8125)\n",
            "Win/lose count 9.0/5.0. Average score (5.611111111111111)\n",
            "Win/lose count 9.0/1.0. Average score (5.85)\n",
            "Win/lose count 9.0/2.0. Average score (5.954545454545454)\n",
            "Win/lose count 10.5/3.0. Average score (6.083333333333333)\n",
            "Win/lose count 10.5/3.0. Average score (6.1923076923076925)\n",
            "Win/lose count 9.0/4.0. Average score (6.107142857142857)\n",
            "Win/lose count 12.5/6.0. Average score (6.133333333333334)\n",
            "Win/lose count 7.0/3.0. Average score (6.0)\n",
            "Win/lose count 22.0/8.0. Average score (6.470588235294118)\n",
            "Win/lose count 2.5/2.0. Average score (6.138888888888889)\n",
            "Win/lose count 7.5/4.0. Average score (6.0)\n",
            "Win/lose count 10.0/3.0. Average score (6.05)\n",
            "Final score: 6.05\n",
            "Test of the CNN\n",
            "Win/lose count 17.5/3.0. Average score (14.5)\n",
            "Win/lose count 16.0/2.0. Average score (14.25)\n",
            "Win/lose count 21.0/2.0. Average score (15.833333333333334)\n",
            "Win/lose count 15.5/1.0. Average score (15.5)\n",
            "Win/lose count 27.0/3.0. Average score (17.2)\n",
            "Win/lose count 28.5/2.0. Average score (18.75)\n",
            "Win/lose count 37.0/3.0. Average score (20.928571428571427)\n",
            "Win/lose count 27.5/7.0. Average score (20.875)\n",
            "Win/lose count 35.0/0. Average score (22.444444444444443)\n",
            "Win/lose count 23.5/4.0. Average score (22.15)\n",
            "Win/lose count 19.5/1.0. Average score (21.818181818181817)\n",
            "Win/lose count 10.0/2.0. Average score (20.666666666666668)\n",
            "Win/lose count 17.0/0. Average score (20.384615384615383)\n",
            "Win/lose count 20.5/3.0. Average score (20.178571428571427)\n",
            "Win/lose count 16.5/1.0. Average score (19.866666666666667)\n",
            "Win/lose count 45.0/7.0. Average score (21.0)\n",
            "Win/lose count 38.0/1.0. Average score (21.941176470588236)\n",
            "Win/lose count 50.5/4.0. Average score (23.305555555555557)\n",
            "Win/lose count 23.0/2.0. Average score (23.18421052631579)\n",
            "Win/lose count 27.0/3.0. Average score (23.225)\n",
            "Final score: 23.225\n"
          ],
          "name": "stdout"
        }
      ]
    },
    {
      "cell_type": "code",
      "metadata": {
        "id": "yvIj24fU4GND",
        "colab_type": "code",
        "outputId": "7d67f4b9-fe45-4f4c-a7e7-92ff5d663865",
        "colab": {
          "base_uri": "https://localhost:8080/",
          "height": 293
        }
      },
      "source": [
        "HTML(display_videos('fc_test10.mp4'))"
      ],
      "execution_count": 0,
      "outputs": [
        {
          "output_type": "execute_result",
          "data": {
            "text/html": [
              "<video alt=\"test\" controls>\n",
              "                <source src=\"data:video/mp4;base64,AAAAIGZ0eXBpc29tAAACAGlzb21pc28yYXZjMW1wNDEAAAAIZnJlZQAAFrVtZGF0AAACrQYF//+p3EXpvebZSLeWLNgg2SPu73gyNjQgLSBjb3JlIDE1MiByMjg1NCBlOWE1OTAzIC0gSC4yNjQvTVBFRy00IEFWQyBjb2RlYyAtIENvcHlsZWZ0IDIwMDMtMjAxNyAtIGh0dHA6Ly93d3cudmlkZW9sYW4ub3JnL3gyNjQuaHRtbCAtIG9wdGlvbnM6IGNhYmFjPTEgcmVmPTMgZGVibG9jaz0xOjA6MCBhbmFseXNlPTB4MToweDExMSBtZT1oZXggc3VibWU9NyBwc3k9MSBwc3lfcmQ9MS4wMDowLjAwIG1peGVkX3JlZj0xIG1lX3JhbmdlPTE2IGNocm9tYV9tZT0xIHRyZWxsaXM9MSA4eDhkY3Q9MCBjcW09MCBkZWFkem9uZT0yMSwxMSBmYXN0X3Bza2lwPTEgY2hyb21hX3FwX29mZnNldD00IHRocmVhZHM9MyBsb29rYWhlYWRfdGhyZWFkcz0xIHNsaWNlZF90aHJlYWRzPTAgbnI9MCBkZWNpbWF0ZT0xIGludGVybGFjZWQ9MCBibHVyYXlfY29tcGF0PTAgY29uc3RyYWluZWRfaW50cmE9MCBiZnJhbWVzPTMgYl9weXJhbWlkPTIgYl9hZGFwdD0xIGJfYmlhcz0wIGRpcmVjdD0xIHdlaWdodGI9MSBvcGVuX2dvcD0wIHdlaWdodHA9MiBrZXlpbnQ9MjUwIGtleWludF9taW49MjUgc2NlbmVjdXQ9NDAgaW50cmFfcmVmcmVzaD0wIHJjX2xvb2thaGVhZD00MCByYz1jcmYgbWJ0cmVlPTEgY3JmPTIzLjAgcWNvbXA9MC42MCBxcG1pbj0wIHFwbWF4PTY5IHFwc3RlcD00IGlwX3JhdGlvPTEuNDAgYXE9MToxLjAwAIAAAAFUZYiEADP//vaG+BTYUyP+T7/8I/+5H7cfWfrixkIJvrVeQ9GAMl8a/5lGYaXpyc8t7R+vTNAEZz6HlLJIofgUkwDfMsjnE4or/1JQnaI4snLZ+IlkCK/5SnZTCcLk8zSJOzNCowXsMpwAAFHPnXDnCdL7YVVcxz1w+Sur/p+smb11h6wkS9iqP/wZsz1UYGedocqSzvkwbGktwn6PBCTz38WstkmdooFuND1/rGYshIM+UaCvJr2UMiVARNMWMvNFjaRKfNWDBGoyf2myI6mGLRyIJw5FCPlIOt5ErW1W6Hisv0Q4uejTaGJ4XHSOmCpujgCYk60h8HO6Jki+Lb2RHjBKbZjhg3WiPcwI+PkX+5TQclNIUNcN5po7u1xd6wwcgo+2wwj4+RSj1hCxcXu4sTCikvNRjKvhuBARIAXNRa4CiApizPZYOJEFn3VblT8TjBgBfQAAABVBmiFsQ3/+p4QADNyCqaRkS4zw8rsAAAAbQZpDPCGTKYQz//6eEAAf319+qEdW53XEfVRbAAAAEAGeYmpCvwAGwI7c60MMFEAAAAAYQZpkSeEPJlMCGf/+nhAAFI902MuTZWCtAAAAG0GahUnhDyZTAhv//qeEAAUj4/QJ317M+CMiQQAAABtBmqZJ4Q8mUwIb//6nhAAE/+P0Cd9ezPgjJMEAAAAcQZrJSeEPJlMCG//+p4QAB2jjP9VvmPdjMo+UoQAAABFBnudFETwr/wAGIdp/0ckWUQAAAA4BnwhqQr8ABiHarmvZRAAAACBBmwtJqEFomUwU8M/+nhAALnXua45+j7g7MHwIT/GSsQAAABABnypqQr8ACa7PLcNm1buAAAAAGUGbLEnhClJlMCG//qeEAAw7q0dH3GzBclAAAAAeQZtOSeEOiZTBTRMM//6eEAAvshtb/DiHn6WPoSPhAAAADwGfbWpCvwAJ823SjSHkKwAAABhBm29J4Q8mUwIZ//6eEAAdz19/IkR9YscAAAAYQZuQSeEPJlMCG//+p4QABP/dTj/D6tybAAAAGEGbsUnhDyZTAhv//qeEAATb46Y/w+rcowAAABhBm9NJ4Q8mUwURPDf//qeEAASVL2sySvEAAAAPAZ/yakK/AAPNXzQ60iuAAAAAEkGb9UnhDyZTBTw3//6nhAABJwAAAA8BnhRqQr8AA8KwC6z1aOkAAAASQZoXSeEPJlMFPDf//qeEAAEnAAAADwGeNmpCvwADwrALrPVo6QAAABJBmjlJ4Q8mUwU8N//+p4QAAScAAAAPAZ5YakK/AAPCsAus9WjpAAAAEkGaW0nhDyZTBTw3//6nhAABJwAAAA8BnnpqQr8AA8KwC6z1aOkAAAASQZp9SeEPJlMFPDf//qeEAAEnAAAADwGenGpCvwADwrALrPVo6QAAABJBmp9J4Q8mUwU8N//+p4QAAScAAAAPAZ6+akK/AAPCsAus9WjpAAAAEkGaoUnhDyZTBTw3//6nhAABJwAAAA8BnsBqQr8AA8KwC6z1aOkAAAASQZrDSeEPJlMFPDf//qeEAAEnAAAADwGe4mpCvwADwrALrPVo6QAAABJBmuVJ4Q8mUwU8N//+p4QAAScAAAAPAZ8EakK/AAPCsAus9WjpAAAAEkGbB0nhDyZTBTw3//6nhAABJwAAAA8BnyZqQr8AA8KwC6z1aOkAAAASQZspSeEPJlMFPDf//qeEAAEnAAAADwGfSGpCvwADwrALrPVo6QAAABJBm0tJ4Q8mUwU8N//+p4QAAScAAAAPAZ9qakK/AAPCsAus9WjpAAAAEkGbbUnhDyZTBTw3//6nhAABJwAAAA8Bn4xqQr8AA8KwC6z1aOkAAAASQZuPSeEPJlMFPDf//qeEAAEnAAAADwGfrmpCvwADwrALrPVo6QAAABJBm7FJ4Q8mUwU8N//+p4QAAScAAAAPAZ/QakK/AAPCsAus9WjpAAAAEkGb00nhDyZTBTw3//6nhAABJwAAAA8Bn/JqQr8AA8KwC6z1aOkAAAASQZv1SeEPJlMFPDf//qeEAAEnAAAADwGeFGpCvwADwrALrPVo6QAAABJBmhdJ4Q8mUwU8N//+p4QAAScAAAAPAZ42akK/AAPCsAus9WjpAAAAEkGaOUnhDyZTBTw3//6nhAABJwAAAA8BnlhqQr8AA8KwC6z1aOkAAAAYQZpaSeEPJlMCG//+p4QABLvo5oK1mU59AAAAGUGae0nhDyZTAh3//qmWAAOOmQk3Dgo+gRAAAAAaQZqfSeEPJlMCHf/+qZYAA6nwo+D48uO8hfEAAAAQQZ69RRE8L/8ABFZ61Q97UQAAABABntx0Qr8ABfnk3lbKHwFAAAAADwGe3mpCvwADzV80OtIrgAAAABJBmsNJqEFomUwIb//+p4QAAScAAAAMQZ7hRREsL/8AALKAAAAAEAGfAHRCvwADwqG7p2XaEIEAAAAPAZ8CakK/AAPCobsM9WjpAAAAEkGbB0moQWyZTAhv//6nhAABJwAAAAxBnyVFFSwv/wAAsoEAAAAQAZ9EdEK/AAPCobunZdoQgQAAAA8Bn0ZqQr8AA8Khuwz1aOkAAAAbQZtISahBbJlMCG///qeEAAS75HBs9BWsynPoAAAAHEGbbEnhClJlMCGf/p4QABxE2jn82vr77ZujOLAAAAARQZ+KRTRML/8ABFc/ZuBxEjkAAAAPAZ+pdEK/AAO2X4uA/QPAAAAAEAGfq2pCvwAF+dqW4bNrMIAAAAAYQZutSahBaJlMCGf//p4QABzvXGuq4Kf9AAAAGEGbzknhClJlMCGf/p4QAC1cGOfw5zfX8QAAABlBm+9J4Q6JlMCG//6nhAAR1AFm22fZ84/BAAAAGUGaEEnhDyZTAhv//qeEABHUAWYMdmTVzVAAAAAyQZozSeEPJlMCGf/+nhAAaWQxz3FufxCUrf//ECE6s//4W2Wf/8QJWPi+qgF3/St+ZMkAAAASQZ5RRRE8K/8AFisPyjV4SVRTAAAAEAGecmpCvwAWKwjyYHr3qYAAAAAaQZp0SahBaJlMCG///qeEABuXVo6PuNmCy3AAAAAZQZqVSeEKUmUwIb/+p4QAHEB4UaioAe3LUQAAAB5BmrdJ4Q6JlMFNEw3//qeEABxDjkPVbxPQUjFYK3AAAAAPAZ7WakK/ABdG26UaQ8YrAAAAGEGa2knhDyZTAhv//qeEABucDLb5j8TugQAAABFBnvhFETwr/wAWux3/RyRWJwAAABABnxlqQr8AFrsI8mB696OBAAAAIEGbHEmoQWiZTBTwz/6eEACsV7muOY7da25VJloL9ytgAAAADwGfO2pCvwAjuxHkwPXunwAAABlBmz1J4QpSZTAhv/6nhAAtWK0dH3GzBYgRAAAAGUGbXknhDomUwIb//qeEAEVQBZtg21TpVJAAAAAbQZtiSeEPJlMCGf/+nhABpZDa3+HEP7pa54aaAAAAEUGfgEURPC//AD9/tGMtW/ipAAAADwGfv3RCvwBYugHQnJedYAAAABABn6FqQr8AOKEB8B9fwHXxAAAAGkGbo0moQWiZTAhv//6nhAAsfxp0FazKa/SAAAAAG0GbxEnhClJlMCG//qeEAEFQBZttoDAJr+6t0QAAABlBm+VJ4Q6JlMCHf/6plgAz1SDM+8TfdqNxAAAAIEGaCUnhDyZTAhv//qeEAJ6gEzQY7BqnzTllP8Fv6k7vAAAAEUGeJ0URPC//AF+D0NHSrbPhAAAAEAGeRnRCvwB/LFYtjZUpCpAAAAAQAZ5IakK/AHsWAb2ePt1+QAAAABpBmkpJqEFomUwId//+qZYATn6Offsg3FP/MQAAAB5Bmm5J4QpSZTAhv/6nhACWpe1mTv2D+reATX5wu9AAAAAQQZ6MRTRML/8AWtlioFki/wAAABABnqt0Qr8AeaMyI7FmKN1JAAAAEAGerWpCvwB8OcNfVB08t/kAAAAaQZqxSahBaJlMCG///qeEAJqPmOSdxswV29EAAAAPQZ7PRREsK/8AfEFcNb/AAAAADQGe8GpCvwB8a/GFLf4AAAAbQZrySahBbJlMCG///qeEAOwcZ/qt9VGb+v6TAAAAG0GbFUnhClJlMCG//qeEAOwccEqPMfnmBPCPgAAAABJBnzNFNEwr/wDDkdudZPk2qYAAAAAOAZ9UakK/AMPYhd71IC8AAAAcQZtWSahBaJlMCHf//qmWAE5+R0EM/fsg3FP/MAAAABtBm3pJ4QpSZTAhv/6nhABk/YP8tdLc4JonyzUAAAAQQZ+YRTRML/8AO2nNKtTj6wAAAA8Bn7d0Qr8AUeMIDJLlj4AAAAAQAZ+5akK/AFHbcirwBP76gQAAACJBm75JqEFomUwIb//+p4QAKj7qffLQY/6WlWqZCP2TvZGcAAAAFUGf3EURLC//ABkg9EQcxSR+7WI7UwAAABABn/t0Qr8AIa6tGSW/11eBAAAAEAGf/WpCvwAWuwjyXM+TDIAAAAAaQZvgSahBbJlMFEw3//6nhAAqAhl7e6n7WRoAAAAQAZ4fakK/ACKvNEyJpWc0wQAAABxBmgJJ4QpSZTBSw3/+p4QAQUfM1Nm3Gb3U+Lr0AAAAEAGeIWpCvwA2DqnkwPXuQIEAAAAYQZojSeEOiZTAhv/+p4QAZukT/UpAKo3AAAAAH0GaRUnhDyZTBRU8N//+p4QAouK1TH+q3zHubLrXtoEAAAAPAZ5kakK/AILs8tw2bU0rAAAAHkGaaEnhDyZTAhv//qeEAPycchzNGkXpE/nwfE3VQQAAABJBnoZFETwr/wDSut5WeGysjG0AAAAQAZ6nakK/ANLDS7h9s2j/8AAAABtBmqpJqEFomUwU8N/+p4QA+Hvs+5kqtJ7R0XAAAAAPAZ7JakK/AM2S0qRQJVH/AAAAHUGazEnhClJlMFLDv/6plgBQvlOf+9E1OoQbg6kEAAAAEAGe62pCvwB/AXnOtDC8Y8AAAAARQZrwSeEOiZTAhv/+p4QAAScAAAAMQZ8ORRU8L/8AALKBAAAADwGfLXRCvwBQ7KOI7LsrHwAAABABny9qQr8AfE1Dn+Zbv6fAAAAAGkGbM0moQWiZTAhv//6nhABk/YP8JwW6EnHAAAAAEUGfUUURLCv/AFQpRvNN71FXAAAADwGfcmpCvwBUG26UaQ8T1QAAABxBm3ZJqEFsmUwIZ//+nhAA+Xr79Nr1FOPrgYOAAAAAEkGflEUVLCv/ADTEdudZPk4bgQAAABABn7VqQr8AM4TJNN9JByNwAAAAGkGbt0moQWyZTAhv//6nhAAqPup+o40JDlBBAAAAGUGb2EnhClJlMCG//qeEABsfYP8JwW6E6kEAAAAbQZv8SeEOiZTAhv/+p4QAG5dWqY/1bt9g/XUsAAAAEEGeGkURPC//ABBc/ZuCFPEAAAAPAZ45dEK/AA4pegMkug+AAAAAEAGeO2pCvwAWux5bhs2qWoEAAAAaQZo9SahBaJlMCG///qeEABxAeFOs6fdcOYEAAAAcQZpfSeEKUmUwURLDf/6nhAAcb2D/OVGvW5kH4AAAAA8Bnn5qQr8AF0bbpRpDxisAAAAcQZphSeEOiZTBRMO//qmWAAkPx5/M0KgWimIc/wAAABABnoBqQr8ADoBEzTfSQdTwAAAAGUGahEnhDyZTAh3//qmWAAYL2l4WoJ/YSMEAAAASQZ6iRRE8K/8ACaygCAUwDpVAAAAAEAGew2pCvwAJbtEJuM+vV9kAAAAaQZrHSahBaJlMCHf//qmWAAXj31ZVZm2YSsEAAAAPQZ7lRREsK/8ACWybhxzBAAAAEAGfBmpCvwAOKahz/Mt4WcEAAAAcQZsKSahBbJlMCHf//qmWAAW/31e/zddiDcaw7AAAABJBnyhFFSwr/wAJLJ851k+UPoAAAAAQAZ9JakK/AAjsshh9ASDv6QAAABxBm05JqEFsmUwId//+qZYAA6ntL+v6rULIUumTAAAAEEGfbEUVLC//AARWgM11ycAAAAAPAZ+LdEK/AAX4A+KTbJZZAAAADwGfjWpCvwADy84bA5VbgQAAABNBm5JJqEFsmUwId//+qZYAAJWBAAAADEGfsEUVLC//AACygAAAAA8Bn890Qr8AA8zYGh5zzOkAAAAPAZ/RakK/AAPLzholc8zpAAAAE0Gb1kmoQWyZTAh3//6plgAAlYAAAAAMQZ/0RRUsL/8AALKAAAAADwGeE3RCvwADzNgaHnPM6QAAAA8BnhVqQr8AA8vOGiVzzOkAAAAcQZoaSahBbJlMCHf//qmWAAOkOoFok3KN8efSQwAAABBBnjhFFSwv/wAEVz9m4JJxAAAADwGeV3RCvwADzNga6+N0gAAAABABnllqQr8ABfnVPJgevomBAAAAGUGaXkmoQWyZTAh3//6plgADqe0v6/rtGg8AAAAQQZ58RRUsL/8ABFaAzXXJwQAAAA8Bnpt0Qr8ABfgD4pNsllkAAAAPAZ6dakK/AAPLzhsDlVuAAAAAEkGagkmoQWyZTAhv//6nhAABJwAAAAxBnqBFFSwv/wAAsoEAAAAPAZ7fdEK/AAPM2Boec8zpAAAADwGewWpCvwADy84aJXPM6QAAABJBmsZJqEFsmUwIZ//+nhAABHwAAAAMQZ7kRRUsL/8AALKBAAAADwGfA3RCvwADzNgaHnPM6QAAAA8BnwVqQr8AA8vOGiVzzOkAAAAaQZsJS6hCEFskRggoB/IB/YeAIV/+OEAAEXEAAAAoQZ8nRRUsK/8Cr2PtQcTdqsNJJuWqhgcstbvNKiCaLJbafFGBApK8oAAAACIBn0hqQr8Cr2PtQcTdqsNJJuWqhgcstbvNKiCaLJbvBR48AAALuG1vb3YAAABsbXZoZAAAAAAAAAAAAAAAAAAAA+gAAB+QAAEAAAEAAAAAAAAAAAAAAAABAAAAAAAAAAAAAAAAAAAAAQAAAAAAAAAAAAAAAAAAQAAAAAAAAAAAAAAAAAAAAAAAAAAAAAAAAAAAAAAAAAIAAAridHJhawAAAFx0a2hkAAAAAwAAAAAAAAAAAAAAAQAAAAAAAB+QAAAAAAAAAAAAAAAAAAAAAAABAAAAAAAAAAAAAAAAAAAAAQAAAAAAAAAAAAAAAAAAQAAAAAEQAAABEAAAAAAAJGVkdHMAAAAcZWxzdAAAAAAAAAABAAAfkAAABAAAAQAAAAAKWm1kaWEAAAAgbWRoZAAAAAAAAAAAAAAAAAAAMgAAAZQAVcQAAAAAAC1oZGxyAAAAAAAAAAB2aWRlAAAAAAAAAAAAAAAAVmlkZW9IYW5kbGVyAAAACgVtaW5mAAAAFHZtaGQAAAABAAAAAAAAAAAAAAAkZGluZgAAABxkcmVmAAAAAAAAAAEAAAAMdXJsIAAAAAEAAAnFc3RibAAAAJVzdHNkAAAAAAAAAAEAAACFYXZjMQAAAAAAAAABAAAAAAAAAAAAAAAAAAAAAAEQARAASAAAAEgAAAAAAAAAAQAAAAAAAAAAAAAAAAAAAAAAAAAAAAAAAAAAAAAAAAAAABj//wAAAC9hdmNDAfQADf/hABdn9AANkZsoIhHQgAAAAwCAAAAZB4oUywEABWjr48RIAAAAGHN0dHMAAAAAAAAAAQAAAMoAAAIAAAAAFHN0c3MAAAAAAAAAAQAAAAEAAAWQY3R0cwAAAAAAAACwAAAAAgAABAAAAAABAAAGAAAAAAEAAAIAAAAAAwAABAAAAAABAAAIAAAAAAIAAAIAAAAAAQAABgAAAAABAAACAAAAAAEAAAQAAAAAAQAABgAAAAABAAACAAAAAAMAAAQAAAAAAQAABgAAAAABAAACAAAAAAEAAAYAAAAAAQAAAgAAAAABAAAGAAAAAAEAAAIAAAAAAQAABgAAAAABAAACAAAAAAEAAAYAAAAAAQAAAgAAAAABAAAGAAAAAAEAAAIAAAAAAQAABgAAAAABAAACAAAAAAEAAAYAAAAAAQAAAgAAAAABAAAGAAAAAAEAAAIAAAAAAQAABgAAAAABAAACAAAAAAEAAAYAAAAAAQAAAgAAAAABAAAGAAAAAAEAAAIAAAAAAQAABgAAAAABAAACAAAAAAEAAAYAAAAAAQAAAgAAAAABAAAGAAAAAAEAAAIAAAAAAQAABgAAAAABAAACAAAAAAEAAAYAAAAAAQAAAgAAAAABAAAGAAAAAAEAAAIAAAAAAQAABgAAAAABAAACAAAAAAEAAAYAAAAAAQAAAgAAAAACAAAEAAAAAAEAAAoAAAAAAQAABAAAAAABAAAAAAAAAAEAAAIAAAAAAQAACgAAAAABAAAEAAAAAAEAAAAAAAAAAQAAAgAAAAABAAAKAAAAAAEAAAQAAAAAAQAAAAAAAAABAAACAAAAAAEAAAQAAAAAAQAACgAAAAABAAAEAAAAAAEAAAAAAAAAAQAAAgAAAAAEAAAEAAAAAAEAAAgAAAAAAgAAAgAAAAACAAAEAAAAAAEAAAYAAAAAAQAAAgAAAAABAAAIAAAAAAIAAAIAAAAAAQAABgAAAAABAAACAAAAAAIAAAQAAAAAAQAACgAAAAABAAAEAAAAAAEAAAAAAAAAAQAAAgAAAAADAAAEAAAAAAEAAAoAAAAAAQAABAAAAAABAAAAAAAAAAEAAAIAAAAAAQAABAAAAAABAAAKAAAAAAEAAAQAAAAAAQAAAAAAAAABAAACAAAAAAEAAAgAAAAAAgAAAgAAAAABAAAEAAAAAAEAAAgAAAAAAgAAAgAAAAABAAAEAAAAAAEAAAoAAAAAAQAABAAAAAABAAAAAAAAAAEAAAIAAAAAAQAACgAAAAABAAAEAAAAAAEAAAAAAAAAAQAAAgAAAAABAAAGAAAAAAEAAAIAAAAAAQAABgAAAAABAAACAAAAAAEAAAQAAAAAAQAABgAAAAABAAACAAAAAAEAAAgAAAAAAgAAAgAAAAABAAAGAAAAAAEAAAIAAAAAAQAABgAAAAABAAACAAAAAAEAAAoAAAAAAQAABAAAAAABAAAAAAAAAAEAAAIAAAAAAQAACAAAAAACAAACAAAAAAEAAAgAAAAAAgAAAgAAAAACAAAEAAAAAAEAAAoAAAAAAQAABAAAAAABAAAAAAAAAAEAAAIAAAAAAQAABAAAAAABAAAGAAAAAAEAAAIAAAAAAQAABgAAAAABAAACAAAAAAEAAAgAAAAAAgAAAgAAAAABAAAIAAAAAAIAAAIAAAAAAQAACAAAAAACAAACAAAAAAEAAAoAAAAAAQAABAAAAAABAAAAAAAAAAEAAAIAAAAAAQAACgAAAAABAAAEAAAAAAEAAAAAAAAAAQAAAgAAAAABAAAKAAAAAAEAAAQAAAAAAQAAAAAAAAABAAACAAAAAAEAAAoAAAAAAQAABAAAAAABAAAAAAAAAAEAAAIAAAAAAQAACgAAAAABAAAEAAAAAAEAAAAAAAAAAQAAAgAAAAABAAAKAAAAAAEAAAQAAAAAAQAAAAAAAAABAAACAAAAAAEAAAoAAAAAAQAABAAAAAABAAAAAAAAAAEAAAIAAAAAAQAACAAAAAACAAACAAAAABxzdHNjAAAAAAAAAAEAAAABAAAAygAAAAEAAAM8c3RzegAAAAAAAAAAAAAAygAABAkAAAAZAAAAHwAAABQAAAAcAAAAHwAAAB8AAAAgAAAAFQAAABIAAAAkAAAAFAAAAB0AAAAiAAAAEwAAABwAAAAcAAAAHAAAABwAAAATAAAAFgAAABMAAAAWAAAAEwAAABYAAAATAAAAFgAAABMAAAAWAAAAEwAAABYAAAATAAAAFgAAABMAAAAWAAAAEwAAABYAAAATAAAAFgAAABMAAAAWAAAAEwAAABYAAAATAAAAFgAAABMAAAAWAAAAEwAAABYAAAATAAAAFgAAABMAAAAWAAAAEwAAABYAAAATAAAAFgAAABMAAAAcAAAAHQAAAB4AAAAUAAAAFAAAABMAAAAWAAAAEAAAABQAAAATAAAAFgAAABAAAAAUAAAAEwAAAB8AAAAgAAAAFQAAABMAAAAUAAAAHAAAABwAAAAdAAAAHQAAADYAAAAWAAAAFAAAAB4AAAAdAAAAIgAAABMAAAAcAAAAFQAAABQAAAAkAAAAEwAAAB0AAAAdAAAAHwAAABUAAAATAAAAFAAAAB4AAAAfAAAAHQAAACQAAAAVAAAAFAAAABQAAAAeAAAAIgAAABQAAAAUAAAAFAAAAB4AAAATAAAAEQAAAB8AAAAfAAAAFgAAABIAAAAgAAAAHwAAABQAAAATAAAAFAAAACYAAAAZAAAAFAAAABQAAAAeAAAAFAAAACAAAAAUAAAAHAAAACMAAAATAAAAIgAAABYAAAAUAAAAHwAAABMAAAAhAAAAFAAAABUAAAAQAAAAEwAAABQAAAAeAAAAFQAAABMAAAAgAAAAFgAAABQAAAAeAAAAHQAAAB8AAAAUAAAAEwAAABQAAAAeAAAAIAAAABMAAAAgAAAAFAAAAB0AAAAWAAAAFAAAAB4AAAATAAAAFAAAACAAAAAWAAAAFAAAACAAAAAUAAAAEwAAABMAAAAXAAAAEAAAABMAAAATAAAAFwAAABAAAAATAAAAEwAAACAAAAAUAAAAEwAAABQAAAAdAAAAFAAAABMAAAATAAAAFgAAABAAAAATAAAAEwAAABYAAAAQAAAAEwAAABMAAAAeAAAALAAAACYAAAAUc3RjbwAAAAAAAAABAAAAMAAAAGJ1ZHRhAAAAWm1ldGEAAAAAAAAAIWhkbHIAAAAAAAAAAG1kaXJhcHBsAAAAAAAAAAAAAAAALWlsc3QAAAAlqXRvbwAAAB1kYXRhAAAAAQAAAABMYXZmNTcuODMuMTAw\" type=\"video/mp4\" />\n",
              "             </video>"
            ],
            "text/plain": [
              "<IPython.core.display.HTML object>"
            ]
          },
          "metadata": {
            "tags": []
          },
          "execution_count": 44
        }
      ]
    },
    {
      "cell_type": "code",
      "metadata": {
        "id": "BTNLdmyH48mr",
        "colab_type": "code",
        "outputId": "cbce7078-49ad-415f-e2ab-44ec84bf8323",
        "colab": {
          "base_uri": "https://localhost:8080/",
          "height": 293
        }
      },
      "source": [
        "HTML(display_videos('cnn_test10.mp4'))"
      ],
      "execution_count": 0,
      "outputs": [
        {
          "output_type": "execute_result",
          "data": {
            "text/html": [
              "<video alt=\"test\" controls>\n",
              "                <source src=\"data:video/mp4;base64,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\" type=\"video/mp4\" />\n",
              "             </video>"
            ],
            "text/plain": [
              "<IPython.core.display.HTML object>"
            ]
          },
          "metadata": {
            "tags": []
          },
          "execution_count": 45
        }
      ]
    },
    {
      "cell_type": "markdown",
      "metadata": {
        "id": "kErGBPtlnASk",
        "colab_type": "text"
      },
      "source": [
        "We can observe that one main issue is that the agent keeps alternating between two states (2 positions)."
      ]
    },
    {
      "cell_type": "markdown",
      "metadata": {
        "id": "ZwQI0QTfnASl",
        "colab_type": "text"
      },
      "source": [
        "***\n",
        "\n",
        "The algorithm tends to not explore the map which can be an issue. We propose two ideas in order to encourage exploration:\n",
        "1. Incorporating a decreasing $\\epsilon$-greedy exploration. You can use the method ```set_epsilon```\n",
        "2. Append via the environment a new state that describes if a cell has been visited or not\n",
        "\n",
        "***\n",
        "__Question 10__ Design a new ```train_explore``` function and environment class ```EnvironmentExploring``` to tackle the issue of exploration.\n",
        "\n"
      ]
    },
    {
      "cell_type": "code",
      "metadata": {
        "id": "U0Phab_gnASm",
        "colab_type": "code",
        "colab": {}
      },
      "source": [
        "# def train_explore(agent,env,epoch,prefix=''):\n",
        "#     pass\n",
        "def train_explore(agent,env,epoch,prefix=''):\n",
        "    # Number of won games\n",
        "    score = 0\n",
        "    loss = 0\n",
        "    decreasing_factor=0.9\n",
        "\n",
        "    for e in range(epoch):\n",
        "        # At each epoch, we restart to a fresh game and get the initial state\n",
        "        state = env.reset()\n",
        "        # This assumes that the games will terminate\n",
        "        game_over = False\n",
        "        \n",
        "        win = 0\n",
        "        lose = 0\n",
        "\n",
        "        while not game_over:\n",
        "            # The agent performs an action\n",
        "            action = agent.act(state)\n",
        "\n",
        "            # Apply an action to the environment, get the next state, the reward\n",
        "            # and if the games end\n",
        "            prev_state = state\n",
        "            state, reward, game_over = env.act(action,train=True)\n",
        "\n",
        "            # Update the counters\n",
        "            if reward > 0:\n",
        "                win = win + reward\n",
        "            if reward < 0:\n",
        "                lose = lose -reward\n",
        "\n",
        "            # Apply the reinforcement strategy\n",
        "            loss = agent.reinforce(prev_state, state,  action, reward, game_over)\n",
        "\n",
        "        # Save as a mp4\n",
        "        if e % 10 == 0:\n",
        "            env.draw(prefix+str(e))\n",
        "\n",
        "        # Update stats\n",
        "        score += win-lose\n",
        "        agent.set_epsilon(agent.epsilon * decreasing_factor)\n",
        "        print(\"Epoch {:03d}/{:03d} | Loss {:.4f} | Win/lose count {}/{} ({})\"\n",
        "              .format(e, epoch, loss, win, lose, win-lose))\n",
        "        agent.save(name_weights=prefix+'model.h5',name_model=prefix+'model.json') \n",
        "\n",
        "class EnvironmentExploring(object):\n",
        "    def __init__(self, grid_size=10, max_time=500, temperature=0.1):\n",
        "        grid_size = grid_size+4\n",
        "        self.grid_size = grid_size\n",
        "        self.max_time = max_time\n",
        "        self.temperature = temperature\n",
        "\n",
        "        #board on which one plays\n",
        "        self.board = np.zeros((grid_size,grid_size))\n",
        "        self.position = np.zeros((grid_size,grid_size))\n",
        "        self.malus_position = np.zeros((self.grid_size, self.grid_size))\n",
        "\n",
        "        # coordinate of the cat\n",
        "        self.x = 0\n",
        "        self.y = 1\n",
        "\n",
        "        # self time\n",
        "        self.t = 0\n",
        "\n",
        "        self.scale=16\n",
        "\n",
        "        self.to_draw = np.zeros((max_time+2, grid_size*self.scale, grid_size*self.scale, 3))\n",
        "\n",
        "\n",
        "    def draw(self,e):\n",
        "        skvideo.io.vwrite(str(e) + '.mp4', self.to_draw)\n",
        "\n",
        "    def get_frame(self,t):\n",
        "        b = np.zeros((self.grid_size,self.grid_size,3))+128\n",
        "        b[self.board>0,0] = 256\n",
        "        b[self.board < 0, 2] = 256\n",
        "        b[self.x,self.y,:]=256\n",
        "        b[-2:,:,:]=0\n",
        "        b[:,-2:,:]=0\n",
        "        b[:2,:,:]=0\n",
        "        b[:,:2,:]=0\n",
        "        \n",
        "        b =  cv2.resize(b, None, fx=self.scale, fy=self.scale, interpolation=cv2.INTER_NEAREST)\n",
        "\n",
        "        self.to_draw[t,:,:,:]=b\n",
        "\n",
        "\n",
        "    def act(self, action,train='False'):\n",
        "        \"\"\"This function returns the new state, reward and decides if the\n",
        "        game ends.\"\"\"\n",
        "\n",
        "        self.get_frame(int(self.t))\n",
        "        self.malus_position[self.x, self.y] = 0.1\n",
        "\n",
        "        self.position = np.zeros((self.grid_size, self.grid_size))\n",
        "\n",
        "        self.position[0:2,:]= -1\n",
        "        self.position[:,0:2] = -1\n",
        "        self.position[-2:, :] = -1\n",
        "        self.position[-2:, :] = -1\n",
        "\n",
        "        self.position[self.x, self.y] = 1\n",
        "        if action == 0:\n",
        "            if self.x == self.grid_size-3:\n",
        "                self.x = self.x-1\n",
        "            else:\n",
        "                self.x = self.x + 1\n",
        "        elif action == 1:\n",
        "            if self.x == 2:\n",
        "                self.x = self.x+1\n",
        "            else:\n",
        "                self.x = self.x-1\n",
        "        elif action == 2:\n",
        "            if self.y == self.grid_size - 3:\n",
        "                self.y = self.y - 1\n",
        "            else:\n",
        "                self.y = self.y + 1\n",
        "        elif action == 3:\n",
        "            if self.y == 2:\n",
        "                self.y = self.y + 1\n",
        "            else:\n",
        "                self.y = self.y - 1\n",
        "        else:\n",
        "            RuntimeError('Error: action not recognized')\n",
        "\n",
        "        self.t = self.t + 1\n",
        "        if train:\n",
        "          reward= self.board[self.x, self.y]-self.malus_position[self.x, self.y]\n",
        "        else: \n",
        "          reward=0\n",
        "        # reward = self.board[self.x, self.y]\n",
        "        self.board[self.x, self.y] = 0\n",
        "        game_over = self.t > self.max_time\n",
        "\n",
        "        state = np.concatenate((self.malus_position.reshape(self.grid_size, self.grid_size,1),\n",
        "                                        self.board.reshape(self.grid_size, self.grid_size,1),\n",
        "                                self.position.reshape(self.grid_size, self.grid_size,1)),axis=2)\n",
        "        state = state[self.x-2:self.x+3,self.y-2:self.y+3,:]\n",
        "\n",
        "        return state, reward, game_over\n",
        "\n",
        "    def reset(self):\n",
        "        \"\"\"This function resets the game and returns the initial state\"\"\"\n",
        "\n",
        "        self.x = np.random.randint(3, self.grid_size-3, size=1)[0]\n",
        "        self.y = np.random.randint(3, self.grid_size-3, size=1)[0]\n",
        "        # self.malus_position[self.x, self.y] = 0.1\n",
        "\n",
        "\n",
        "        bonus = 0.5*np.random.binomial(1,self.temperature,size=self.grid_size**2)\n",
        "        bonus = bonus.reshape(self.grid_size,self.grid_size)\n",
        "\n",
        "        malus = -1.0*np.random.binomial(1,self.temperature,size=self.grid_size**2)\n",
        "        malus = malus.reshape(self.grid_size, self.grid_size)\n",
        "\n",
        "        self.to_draw = np.zeros((self.max_time+2, self.grid_size*self.scale, self.grid_size*self.scale, 3))\n",
        "\n",
        "\n",
        "        malus[bonus>0]=0\n",
        "\n",
        "        self.board = bonus + malus\n",
        "        \n",
        "        self.malus_position = np.zeros((self.grid_size, self.grid_size))\n",
        "        self.malus_position[self.x, self.y] = 0.1\n",
        "\n",
        "        self.position = np.zeros((self.grid_size, self.grid_size))\n",
        "        self.position[0:2,:]= -1\n",
        "        self.position[:,0:2] = -1\n",
        "        self.position[-2:, :] = -1\n",
        "        self.position[-2:, :] = -1\n",
        "        self.board[self.x,self.y] = 0\n",
        "        self.t = 0\n",
        "\n",
        "        state = np.concatenate((self.malus_position.reshape(self.grid_size, self.grid_size,1),\n",
        "                                        self.board.reshape(self.grid_size, self.grid_size,1),\n",
        "                                self.position.reshape(self.grid_size, self.grid_size,1)),axis=2)\n",
        "\n",
        "        state = state[self.x - 2:self.x + 3, self.y - 2:self.y + 3, :]\n",
        "        return state       "
      ],
      "execution_count": 0,
      "outputs": []
    },
    {
      "cell_type": "code",
      "metadata": {
        "id": "gKq6DSiVnASr",
        "colab_type": "code",
        "outputId": "ce507237-515a-4580-aa0b-c861411c6100",
        "colab": {
          "base_uri": "https://localhost:8080/",
          "height": 1000
        }
      },
      "source": [
        "# Training\n",
        "env = EnvironmentExploring(grid_size=size, max_time=T, temperature=0.3)\n",
        "agent = DQN_CNN(lr=.1,grid_size= size, epsilon = 0.1, memory_size=2000, batch_size = 32,n_state=3)\n",
        "train_explore(agent, env, epochs_train, prefix='cnn_train_explore')\n",
        "HTML(display_videos('cnn_train_explore10.mp4'))"
      ],
      "execution_count": 0,
      "outputs": [
        {
          "output_type": "stream",
          "text": [
            "Epoch 000/100 | Loss 0.0093 | Win/lose count 5.5/25.500000000000057 (-20.000000000000057)\n",
            "Epoch 001/100 | Loss 0.0286 | Win/lose count 7.5/28.800000000000043 (-21.300000000000043)\n",
            "Epoch 002/100 | Loss 0.0074 | Win/lose count 7.0/19.70000000000002 (-12.70000000000002)\n",
            "Epoch 003/100 | Loss 0.0143 | Win/lose count 5.0/20.50000000000003 (-15.500000000000028)\n",
            "Epoch 004/100 | Loss 0.0113 | Win/lose count 10.5/16.699999999999974 (-6.199999999999974)\n",
            "Epoch 005/100 | Loss 0.0120 | Win/lose count 12.0/16.89999999999997 (-4.89999999999997)\n",
            "Epoch 006/100 | Loss 0.0068 | Win/lose count 4.0/17.899999999999984 (-13.899999999999984)\n",
            "Epoch 007/100 | Loss 0.0087 | Win/lose count 13.0/16.19999999999996 (-3.19999999999996)\n",
            "Epoch 008/100 | Loss 0.0127 | Win/lose count 2.0/19.200000000000003 (-17.200000000000003)\n",
            "Epoch 009/100 | Loss 0.0158 | Win/lose count 3.5/19.39999999999999 (-15.899999999999991)\n",
            "Epoch 010/100 | Loss 0.0079 | Win/lose count 10.0/15.69999999999996 (-5.69999999999996)\n",
            "Epoch 011/100 | Loss 0.0052 | Win/lose count 2.5/20.599999999999994 (-18.099999999999994)\n",
            "Epoch 012/100 | Loss 0.0058 | Win/lose count 7.5/18.89999999999999 (-11.399999999999991)\n",
            "Epoch 013/100 | Loss 0.0072 | Win/lose count 8.5/15.79999999999996 (-7.29999999999996)\n",
            "Epoch 014/100 | Loss 0.0082 | Win/lose count 11.0/16.19999999999996 (-5.19999999999996)\n",
            "Epoch 015/100 | Loss 0.0091 | Win/lose count 7.0/19.500000000000018 (-12.500000000000018)\n",
            "Epoch 016/100 | Loss 0.0073 | Win/lose count 14.0/16.999999999999982 (-2.9999999999999822)\n",
            "Epoch 017/100 | Loss 0.0249 | Win/lose count 11.5/17.099999999999977 (-5.5999999999999766)\n",
            "Epoch 018/100 | Loss 0.0066 | Win/lose count 12.5/15.199999999999966 (-2.6999999999999655)\n",
            "Epoch 019/100 | Loss 0.0086 | Win/lose count 14.5/17.599999999999987 (-3.099999999999987)\n",
            "Epoch 020/100 | Loss 0.0056 | Win/lose count 7.0/18.19999999999999 (-11.199999999999989)\n",
            "Epoch 021/100 | Loss 0.0137 | Win/lose count 17.0/13.799999999999967 (3.200000000000033)\n",
            "Epoch 022/100 | Loss 0.0102 | Win/lose count 14.5/16.699999999999964 (-2.1999999999999638)\n",
            "Epoch 023/100 | Loss 0.0514 | Win/lose count 16.0/18.4 (-2.3999999999999986)\n",
            "Epoch 024/100 | Loss 0.0060 | Win/lose count 15.5/15.199999999999966 (0.30000000000003446)\n",
            "Epoch 025/100 | Loss 0.0106 | Win/lose count 16.5/12.69999999999997 (3.800000000000029)\n",
            "Epoch 026/100 | Loss 0.0062 | Win/lose count 22.0/13.999999999999973 (8.000000000000027)\n",
            "Epoch 027/100 | Loss 0.0054 | Win/lose count 20.0/14.799999999999967 (5.200000000000033)\n",
            "Epoch 028/100 | Loss 0.0046 | Win/lose count 10.0/19.10000000000001 (-9.100000000000009)\n",
            "Epoch 029/100 | Loss 0.0293 | Win/lose count 19.5/18.600000000000005 (0.899999999999995)\n",
            "Epoch 030/100 | Loss 0.0131 | Win/lose count 18.0/13.299999999999969 (4.700000000000031)\n",
            "Epoch 031/100 | Loss 0.0096 | Win/lose count 24.5/13.29999999999998 (11.20000000000002)\n",
            "Epoch 032/100 | Loss 0.0208 | Win/lose count 25.5/12.499999999999972 (13.000000000000028)\n",
            "Epoch 033/100 | Loss 0.0152 | Win/lose count 21.5/13.69999999999997 (7.800000000000029)\n",
            "Epoch 034/100 | Loss 0.0110 | Win/lose count 15.0/16.499999999999968 (-1.499999999999968)\n",
            "Epoch 035/100 | Loss 0.0076 | Win/lose count 22.5/14.499999999999975 (8.000000000000025)\n",
            "Epoch 036/100 | Loss 0.0181 | Win/lose count 14.0/17.599999999999984 (-3.5999999999999837)\n",
            "Epoch 037/100 | Loss 0.0330 | Win/lose count 24.5/11.799999999999974 (12.700000000000026)\n",
            "Epoch 038/100 | Loss 0.0198 | Win/lose count 21.5/14.79999999999997 (6.7000000000000295)\n",
            "Epoch 039/100 | Loss 0.0195 | Win/lose count 25.5/14.199999999999982 (11.300000000000018)\n",
            "Epoch 040/100 | Loss 0.0121 | Win/lose count 14.5/15.499999999999961 (-0.9999999999999609)\n",
            "Epoch 041/100 | Loss 0.0270 | Win/lose count 23.0/10.199999999999982 (12.800000000000018)\n",
            "Epoch 042/100 | Loss 0.0142 | Win/lose count 22.5/11.099999999999978 (11.400000000000022)\n",
            "Epoch 043/100 | Loss 0.0141 | Win/lose count 16.5/13.399999999999968 (3.1000000000000316)\n",
            "Epoch 044/100 | Loss 0.0125 | Win/lose count 16.5/14.499999999999968 (2.000000000000032)\n",
            "Epoch 045/100 | Loss 0.0080 | Win/lose count 19.0/17.299999999999983 (1.700000000000017)\n",
            "Epoch 046/100 | Loss 0.0107 | Win/lose count 17.0/14.199999999999969 (2.800000000000031)\n",
            "Epoch 047/100 | Loss 0.0055 | Win/lose count 16.5/13.799999999999974 (2.700000000000026)\n",
            "Epoch 048/100 | Loss 0.0307 | Win/lose count 22.5/14.199999999999969 (8.300000000000031)\n",
            "Epoch 049/100 | Loss 0.0174 | Win/lose count 18.5/19.600000000000026 (-1.1000000000000263)\n",
            "Epoch 050/100 | Loss 0.0120 | Win/lose count 28.0/10.99999999999998 (17.00000000000002)\n",
            "Epoch 051/100 | Loss 0.0325 | Win/lose count 25.0/9.999999999999984 (15.000000000000016)\n",
            "Epoch 052/100 | Loss 0.0130 | Win/lose count 24.0/9.89999999999998 (14.10000000000002)\n",
            "Epoch 053/100 | Loss 0.0154 | Win/lose count 21.0/13.399999999999975 (7.6000000000000245)\n",
            "Epoch 054/100 | Loss 0.0129 | Win/lose count 25.0/10.89999999999998 (14.10000000000002)\n",
            "Epoch 055/100 | Loss 0.0091 | Win/lose count 18.5/13.69999999999997 (4.800000000000029)\n",
            "Epoch 056/100 | Loss 0.0168 | Win/lose count 25.5/10.599999999999982 (14.900000000000018)\n",
            "Epoch 057/100 | Loss 0.0151 | Win/lose count 27.0/10.499999999999982 (16.500000000000018)\n",
            "Epoch 058/100 | Loss 0.0127 | Win/lose count 18.5/14.599999999999968 (3.9000000000000323)\n",
            "Epoch 059/100 | Loss 0.0186 | Win/lose count 24.0/16.599999999999987 (7.400000000000013)\n",
            "Epoch 060/100 | Loss 0.0102 | Win/lose count 19.5/14.299999999999972 (5.200000000000028)\n",
            "Epoch 061/100 | Loss 0.0096 | Win/lose count 22.0/13.199999999999973 (8.800000000000027)\n",
            "Epoch 062/100 | Loss 0.0107 | Win/lose count 23.0/10.09999999999998 (12.90000000000002)\n",
            "Epoch 063/100 | Loss 0.0263 | Win/lose count 17.5/15.299999999999969 (2.2000000000000313)\n",
            "Epoch 064/100 | Loss 0.0163 | Win/lose count 23.5/16.799999999999986 (6.7000000000000135)\n",
            "Epoch 065/100 | Loss 0.0069 | Win/lose count 23.0/14.799999999999967 (8.200000000000033)\n",
            "Epoch 066/100 | Loss 0.0128 | Win/lose count 23.0/13.19999999999997 (9.80000000000003)\n",
            "Epoch 067/100 | Loss 0.0111 | Win/lose count 14.5/14.09999999999997 (0.40000000000003055)\n",
            "Epoch 068/100 | Loss 0.0132 | Win/lose count 25.0/14.699999999999978 (10.300000000000022)\n",
            "Epoch 069/100 | Loss 0.0135 | Win/lose count 24.5/11.999999999999977 (12.500000000000023)\n",
            "Epoch 070/100 | Loss 0.0159 | Win/lose count 27.0/10.799999999999985 (16.200000000000017)\n",
            "Epoch 071/100 | Loss 0.0162 | Win/lose count 20.0/11.599999999999978 (8.400000000000022)\n",
            "Epoch 072/100 | Loss 0.0187 | Win/lose count 21.0/13.299999999999969 (7.700000000000031)\n",
            "Epoch 073/100 | Loss 0.0194 | Win/lose count 23.5/12.299999999999972 (11.200000000000028)\n",
            "Epoch 074/100 | Loss 0.0192 | Win/lose count 12.5/14.099999999999966 (-1.599999999999966)\n",
            "Epoch 075/100 | Loss 0.0082 | Win/lose count 14.0/13.599999999999968 (0.40000000000003233)\n",
            "Epoch 076/100 | Loss 0.0076 | Win/lose count 20.0/12.89999999999997 (7.10000000000003)\n",
            "Epoch 077/100 | Loss 0.0160 | Win/lose count 18.0/11.199999999999978 (6.800000000000022)\n",
            "Epoch 078/100 | Loss 0.0089 | Win/lose count 20.5/11.299999999999976 (9.200000000000024)\n",
            "Epoch 079/100 | Loss 0.0189 | Win/lose count 15.5/14.399999999999965 (1.1000000000000352)\n",
            "Epoch 080/100 | Loss 0.0100 | Win/lose count 17.5/13.09999999999997 (4.4000000000000306)\n",
            "Epoch 081/100 | Loss 0.0124 | Win/lose count 25.0/9.599999999999982 (15.400000000000018)\n",
            "Epoch 082/100 | Loss 0.0135 | Win/lose count 22.0/13.599999999999977 (8.400000000000023)\n",
            "Epoch 083/100 | Loss 0.0190 | Win/lose count 26.0/14.099999999999978 (11.900000000000022)\n",
            "Epoch 084/100 | Loss 0.0121 | Win/lose count 11.0/14.899999999999963 (-3.899999999999963)\n",
            "Epoch 085/100 | Loss 0.0060 | Win/lose count 22.5/13.499999999999979 (9.000000000000021)\n",
            "Epoch 086/100 | Loss 0.0093 | Win/lose count 21.0/11.699999999999978 (9.300000000000022)\n",
            "Epoch 087/100 | Loss 0.0180 | Win/lose count 11.5/18.299999999999997 (-6.799999999999997)\n",
            "Epoch 088/100 | Loss 0.0274 | Win/lose count 13.5/16.899999999999963 (-3.399999999999963)\n",
            "Epoch 089/100 | Loss 0.0064 | Win/lose count 18.5/12.499999999999979 (6.000000000000021)\n",
            "Epoch 090/100 | Loss 0.0065 | Win/lose count 21.5/15.199999999999969 (6.300000000000031)\n",
            "Epoch 091/100 | Loss 0.0104 | Win/lose count 23.5/11.899999999999977 (11.600000000000023)\n",
            "Epoch 092/100 | Loss 0.0102 | Win/lose count 18.0/14.49999999999997 (3.50000000000003)\n",
            "Epoch 093/100 | Loss 0.0091 | Win/lose count 18.5/12.899999999999977 (5.600000000000023)\n",
            "Epoch 094/100 | Loss 0.0177 | Win/lose count 20.0/14.199999999999974 (5.800000000000026)\n",
            "Epoch 095/100 | Loss 0.0162 | Win/lose count 20.5/10.999999999999977 (9.500000000000023)\n",
            "Epoch 096/100 | Loss 0.0272 | Win/lose count 19.0/12.299999999999972 (6.700000000000028)\n",
            "Epoch 097/100 | Loss 0.0204 | Win/lose count 23.5/17.199999999999985 (6.300000000000015)\n",
            "Epoch 098/100 | Loss 0.0152 | Win/lose count 16.5/13.899999999999974 (2.6000000000000263)\n",
            "Epoch 099/100 | Loss 0.0199 | Win/lose count 26.0/9.699999999999982 (16.30000000000002)\n"
          ],
          "name": "stdout"
        },
        {
          "output_type": "execute_result",
          "data": {
            "text/html": [
              "<video alt=\"test\" controls>\n",
              "                <source src=\"data:video/mp4;base64,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\" type=\"video/mp4\" />\n",
              "             </video>"
            ],
            "text/plain": [
              "<IPython.core.display.HTML object>"
            ]
          },
          "metadata": {
            "tags": []
          },
          "execution_count": 49
        }
      ]
    },
    {
      "cell_type": "code",
      "metadata": {
        "id": "K0ga4IuNnASu",
        "colab_type": "code",
        "outputId": "4430ed8c-7c4f-4265-df7e-3e5f0fa30756",
        "colab": {
          "base_uri": "https://localhost:8080/",
          "height": 650
        }
      },
      "source": [
        "# Evaluation\n",
        "test(agent,env,epochs_test,prefix='cnn_test_explore')\n",
        "HTML(display_videos('cnn_test_explore10.mp4'))"
      ],
      "execution_count": 0,
      "outputs": [
        {
          "output_type": "stream",
          "text": [
            "Win/lose count 16.0/13.09999999999997. Average score (2.9000000000000306)\n",
            "Win/lose count 14.0/14.599999999999964. Average score (1.1500000000000332)\n",
            "Win/lose count 13.0/15.199999999999962. Average score (0.03333333333336815)\n",
            "Win/lose count 20.0/15.899999999999963. Average score (1.0500000000000353)\n",
            "Win/lose count 22.5/11.89999999999998. Average score (2.960000000000032)\n",
            "Win/lose count 0/20.000000000000014. Average score (-0.8666666666666423)\n",
            "Win/lose count 19.5/16.999999999999986. Average score (-0.38571428571426275)\n",
            "Win/lose count 26.5/13.99999999999997. Average score (1.2250000000000238)\n",
            "Win/lose count 8.0/17.499999999999982. Average score (0.03333333333335631)\n",
            "Win/lose count 23.0/15.399999999999963. Average score (0.7900000000000243)\n",
            "Win/lose count 14.0/14.599999999999964. Average score (0.663636363636389)\n",
            "Win/lose count 24.5/12.199999999999973. Average score (1.6333333333333588)\n",
            "Win/lose count 19.5/14.999999999999963. Average score (1.8538461538461801)\n",
            "Win/lose count 9.5/15.59999999999996. Average score (1.2857142857143131)\n",
            "Win/lose count 16.0/15.39999999999996. Average score (1.2400000000000282)\n",
            "Win/lose count 16.0/14.499999999999964. Average score (1.2562500000000285)\n",
            "Win/lose count 14.5/13.999999999999966. Average score (1.211764705882382)\n",
            "Win/lose count 19.0/18.900000000000006. Average score (1.150000000000027)\n",
            "Win/lose count 4.5/19.100000000000005. Average score (0.3210526315789727)\n",
            "Win/lose count 21.0/12.69999999999997. Average score (0.7200000000000255)\n",
            "Final score: 0.7200000000000255\n"
          ],
          "name": "stdout"
        },
        {
          "output_type": "execute_result",
          "data": {
            "text/html": [
              "<video alt=\"test\" controls>\n",
              "                <source src=\"data:video/mp4;base64,AAAAIGZ0eXBpc29tAAACAGlzb21pc28yYXZjMW1wNDEAAAAIZnJlZQAAF+htZGF0AAACrQYF//+p3EXpvebZSLeWLNgg2SPu73gyNjQgLSBjb3JlIDE1MiByMjg1NCBlOWE1OTAzIC0gSC4yNjQvTVBFRy00IEFWQyBjb2RlYyAtIENvcHlsZWZ0IDIwMDMtMjAxNyAtIGh0dHA6Ly93d3cudmlkZW9sYW4ub3JnL3gyNjQuaHRtbCAtIG9wdGlvbnM6IGNhYmFjPTEgcmVmPTMgZGVibG9jaz0xOjA6MCBhbmFseXNlPTB4MToweDExMSBtZT1oZXggc3VibWU9NyBwc3k9MSBwc3lfcmQ9MS4wMDowLjAwIG1peGVkX3JlZj0xIG1lX3JhbmdlPTE2IGNocm9tYV9tZT0xIHRyZWxsaXM9MSA4eDhkY3Q9MCBjcW09MCBkZWFkem9uZT0yMSwxMSBmYXN0X3Bza2lwPTEgY2hyb21hX3FwX29mZnNldD00IHRocmVhZHM9MyBsb29rYWhlYWRfdGhyZWFkcz0xIHNsaWNlZF90aHJlYWRzPTAgbnI9MCBkZWNpbWF0ZT0xIGludGVybGFjZWQ9MCBibHVyYXlfY29tcGF0PTAgY29uc3RyYWluZWRfaW50cmE9MCBiZnJhbWVzPTMgYl9weXJhbWlkPTIgYl9hZGFwdD0xIGJfYmlhcz0wIGRpcmVjdD0xIHdlaWdodGI9MSBvcGVuX2dvcD0wIHdlaWdodHA9MiBrZXlpbnQ9MjUwIGtleWludF9taW49MjUgc2NlbmVjdXQ9NDAgaW50cmFfcmVmcmVzaD0wIHJjX2xvb2thaGVhZD00MCByYz1jcmYgbWJ0cmVlPTEgY3JmPTIzLjAgcWNvbXA9MC42MCBxcG1pbj0wIHFwbWF4PTY5IHFwc3RlcD00IGlwX3JhdGlvPTEuNDAgYXE9MToxLjAwAIAAAALCZYiEADP//vaG+BTYUyP+T7/8I/+5H7cfWfrixkIJvrVeQ9GAMl8a/5lGYaXpyc8t7R+vTNAEZz8ZS8pY/spyzVFwWHwKXAT75llFqRAcEXsas5ioylKK3hPy1ZoYdCqZyV+uSfU2BbVHDVY+uW619xVfVMe3CMucnSaD+yxoCQlMSObd6ko7+okFZDjuwNcnPWbD0gCZNY50dMomDj43ZaNiM6IauAoZREFKs4l31Hkd00pqf4A88g0grXNJ0LHUPsgILb1CKM2wdXdImDkE0V7RB6GLhoWZsJGM4euZlFQydhXnGiuxZzLUiEkp97b0ThF3jSBCIFlwt88oRscTE1VfDAEoTsc6i3FMdO0Bgj8JchpX6kwFg5hGnI6HcwUgT7g5OCJk2D5r7fkOSxhbmHkXi5CC3C6IXeo5xuIn8A3w6Rts3JktFOwZp5BvdJ8RzIVdgAwepDGZkACBXX8teIxzKyyxZpHSpuiz3UzZaKPHP2Z+U16MczYIKLbh3sQHuy3nNYH3Zs3P/oN+1hBYB0IOUgENBf44bBwBdn4oqv603WZKX5M2xSVoJNzACI8DiixyMOGXKQOLqQhch4EIADPv3ePD20vV0hRjI89i5QpFaTjjrclyUmUwFOu8ltmFz9TAy4VurALiVT+xhIPYf0/O3L0AGoMFJCE4InkWTzmzWqoyYUGSUPlm2W/ftV16Jvt85P5VFjUd+dQnqXaWEHeoooH5CijBwZ/r+/MVUEy73FxJuOA8W1oF5iCzwkZVRWgMXtDObEB6yNCOwgLlowRquVSv02sDQ+b6a+8C8noX52BNRFSZqO3M1FdTWlsXy/WF+hU3Se9l7QAHM1I369oN4iX2opq49nbuQM+pTUjMrL2IktmvNjip5X8yh646hKZ3V5pZ7qtzjqECr4U9IVdHbUFsZB8VK3uGq2EkAABuQQAAABNBmiFsQz/+nhAAdoSDb3pvuuFMAAAAF0GaQjwhkymEM//+nhAAeT1xt7033XCPAAAAGEGaY0nhDyZTAhn//p4QAHn9/fyJEfWFvQAAABhBmoRJ4Q8mUwIZ//6eEABP/dN9FSs18jcAAAAZQZqlSeEPJlMCG//+p4QADT+wf4Tgt0KsQQAAABlBmsZJ4Q8mUwIb//6nhAAId8dPqONCQ+LBAAAAHEGa6knhDyZTAhn//p4QADN2/Wgv5Kk9dERfhD8AAAAUQZ8IRRE8L/8AB8U2Q0+mJMJYzacAAAAQAZ8ndEK/AAbCTQifFmKb6AAAABABnylqQr8ACs2EeTA9fE6BAAAAGkGbK0moQWiZTAhv//6nhAANe6tIIRP8t6WAAAAAHkGbTUnhClJlMFESw3/+p4QAFYxWqY/0cT/LZKXJHwAAAA8Bn2xqQr8AEV2I8mB69+cAAAAmQZtwSeEOiZTAhn/+nhAAVH3TfcTf9qnApr6g34FKlo/ApnYGxq8AAAASQZ+ORRU8K/8AEdzRvNO5S9tdAAAAEAGfr2pCvwASXNG80xVtZMAAAAAZQZuxSahBaJlMCGf//p4QADjevu7Tm7i6UgAAABhBm9JJ4QpSZTAhn/6eEAA3fr7u05u4umcAAAAdQZv0SeEOiZTBTRMM//6eEAA2Pr7+myhcutmrgOAAAAAQAZ4TakK/AAtbXznWhhfmwAAAABhBmhVJ4Q8mUwIZ//6eEAAh3xD+2Qx9YpUAAAAYQZo2SeEPJlMCGf/+nhAAFj9030VKzX5OAAAAGEGaV0nhDyZTAhn//p4QAA53rjb3pvuxWwAAABhBmnhJ4Q8mUwIZ//6eEAAWrgxz+HOb7NMAAAAcQZqaSeEPJlMFETwz//6eEAA18htb/KH9ffepQAAAABABnrlqQr8AC12PHK/txDrBAAAAGEGau0nhDyZTAhn//p4QAFP4Mc/hzm+uUwAAABhBmtxJ4Q8mUwIZ//6eEAB+ynHP4c5vra8AAAAbQZr9SeEPJlMCG//+p4QAM3SJ/qt9VBj/xH+BAAAAGUGbHknhDyZTAhv//qeEADSurR0fcbMFhJAAAAAeQZsiSeEPJlMCGf/+nhAB5Sna3+kdff0sAFdfpYZQAAAAFkGfQEURPC//AEtz9ymY+YiKQUor+MEAAAAPAZ9/dEK/AEN9J3Bsl45GAAAAEAGfYWpCvwBnHbhNxn16b80AAAAZQZtjSahBaJlMCGf//p4QAef393ac3cW3jgAAABhBm4RJ4QpSZTAhn/6eEAHc9/d2nN3Ft6cAAAAYQZulSeEOiZTAhn/+nhAC08GOfw5zfWWzAAAAGEGbxknhDyZTAhv//qeEALp7qcf4fVttCwAAABlBm+dJ4Q8mUwIb//6nhAC1/GnQVrMprO6BAAAAH0GaC0nhDyZTAhv//qeEAcbsH+VWeXV4UazYuz3IjpgAAAAUQZ4pRRE8L/8A+C9fwJl1LTuYOJwAAAAQAZ5IdEK/AVrMp4HTKblQgQAAABABnkpqQr8BWmvnOtDC8OfAAAAAHUGaTUmoQWiZTBTwz/6eEAP36+/VCOrc7riPqh96AAAAEAGebGpCvwDXkdudaGF4kkEAAAAYQZpuSeEKUmUwIZ/+nhACj+6bGXJsq21tAAAAGUGaj0nhDomUwIb//qeEAKP7qfqONCQ4UkEAAAAdQZqxSeEPJlMFETwz//6eEAGd9ff0K6NkxbBVCpAAAAAQAZ7QakK/AFZbcirwBP7wgAAAABlBmtJJ4Q8mUwIb//6nhAAsfup+o40JDkvBAAAAHkGa9EnhDyZTBRE8M//+nhAAbv19+m17mOc6bFTe+AAAABABnxNqQr8AF0a+c60ML2hAAAAAGEGbFUnhDyZTAhv//qeEABHvjpj/D6tu3wAAABlBmzZJ4Q8mUwIb//6nhAAa+kT/Vb5j8T0gAAAAGUGbV0nhDyZTAh3//qmWABUvkGaAPSX2FTEAAAAcQZt7SeEPJlMCG//+p4QAP77B69mqazbePN4YDwAAABBBn5lFETwv/wAms9aoe0owAAAAEAGfuHRCvwA01lXchsqUl+EAAAAPAZ+6akK/ADTAsbA5ThuAAAAAGUGbvkmoQWiZTAhn//6eEADz+vv5EiPrCb0AAAAPQZ/cRREsK/8AM4S1mo5hAAAADwGf/WpCvwAhrzRNSU5ugAAAAB9Bm+BJqEFsmUwUTDP//p4QAJ/7pvte85VuKpADTJNgAAAAEAGeH2pCvwAgsshh9ASDlukAAAAYQZoBSeEKUmUwIZ/+nhAAa9fcaF033XD8AAAAGEGaIknhDomUwIZ//p4QAG5X3GhdN91w5wAAABhBmkNJ4Q8mUwIZ//6eEABw/XG3vTfdcNIAAAAYQZpkSeEPJlMCGf/+nhAAc71xt7033XC7AAAAGUGahUnhDyZTAhv//qeEAB5QeFOs6fdcKYEAAAAZQZqmSeEPJlMCG//+p4QAHwB4U6zp91wjgQAAABpBmslJ4Q8mUwIb//6nhAAw7rh0DHJ0yAUHQwAAABJBnudFETwr/wAn2Dru7+kV+sAAAAAQAZ8IakK/ACfNfOdaGF5/QAAAABxBmwtJqEFomUwU8N/+p4QAHn9g/zlOvCjW5kF1AAAAEAGfKmpCvwAZIjtzrQwvYUAAAAAcQZstSeEKUmUwUsM//p4QAEu+If4ol5zpsVA0cAAAABABn0xqQr8AD4gvOdaGF8nBAAAAHEGbT0nhDomUwUTDP/6eEAAv/r7+myhcutmrheEAAAAQAZ9uakK/AAnzboqs4/A2sQAAABhBm3BJ4Q8mUwIZ//6eEAAdz39/IkR9YscAAAAYQZuRSeEPJlMCGf/+nhAAE2+If2yGPrHjAAAAGEGbsknhDyZTAhn//p4QAAyfr7u05u4x/QAAABlBm9NJ4Q8mUwIb//6nhAAE1QBZttn2fRlAAAAAGUGb9EnhDyZTAhv//qeEAAdo4z/Vb5j8d6AAAAAdQZoWSeEPJlMFETw3//6nhAALVitmJ/q7e6n7YYkAAAAQAZ41akK/AAlrzRMiaVocwAAAABxBmjpJ4Q8mUwIb//6nhAALZ7qftV5bPhRrdEwpAAAAEEGeWEURPC//AAbARU8bL2kAAAAQAZ53dEK/AAkrq0ZJb/Y7gAAAAA8BnnlqQr8ABfgWNgcqXYEAAAAaQZp7SahBaJlMCG///qeEAAcb2D/CcFuhhEAAAAAZQZqcSeEKUmUwId/+qZYAAmBRzrQ9X3zFwQAAABJBmqBJ4Q6JlMCHf/6plgAAlYEAAAARQZ7eRRE8L/8ABDeM+xqn5cEAAAAQAZ79dEK/AAX6yruQ2VKy4AAAABABnv9qQr8ABdG5DD6AkHvZAAAAE0Ga5EmoQWiZTAh3//6plgAAlYAAAAAQQZ8CRREsL/8ABDfQRY4DwQAAABABnyF0Qr8ABfrKu5DZUrLgAAAAEAGfI2pCvwAF0bkMPoCQe9kAAAATQZsoSahBbJlMCHf//qmWAACVgQAAABBBn0ZFFSwv/wAEN9BFjgPBAAAAEAGfZXRCvwAF+sq7kNlSsuEAAAAQAZ9nakK/AAXRuQw+gJB72AAAABNBm2xJqEFsmUwId//+qZYAAJWAAAAAEEGfikUVLC//AAQ30EWOA8EAAAAQAZ+pdEK/AAX6yruQ2VKy4AAAABABn6tqQr8ABdG5DD6AkHvYAAAAE0GbsEmoQWyZTAh3//6plgAAlYEAAAAQQZ/ORRUsL/8ABDfQRY4DwQAAABABn+10Qr8ABfrKu5DZUrLhAAAAEAGf72pCvwAF0bkMPoCQe9gAAAATQZv0SahBbJlMCHf//qmWAACVgAAAABBBnhJFFSwv/wAEN9BFjgPBAAAAEAGeMXRCvwAF+sq7kNlSsuAAAAAQAZ4zakK/AAXRuQw+gJB72AAAABNBmjhJqEFsmUwId//+qZYAAJWBAAAAEEGeVkUVLC//AAQ30EWOA8EAAAAQAZ51dEK/AAX6yruQ2VKy4QAAABABnndqQr8ABdG5DD6AkHvZAAAAE0GafEmoQWyZTAh3//6plgAAlYAAAAAQQZ6aRRUsL/8ABDfQRY4DwQAAABABnrl0Qr8ABfrKu5DZUrLgAAAAEAGeu2pCvwAF0bkMPoCQe9kAAAATQZqgSahBbJlMCHf//qmWAACVgQAAABBBnt5FFSwv/wAEN9BFjgPBAAAAEAGe/XRCvwAF+sq7kNlSsuAAAAAQAZ7/akK/AAXRuQw+gJB72QAAABNBmuRJqEFsmUwId//+qZYAAJWAAAAAEEGfAkUVLC//AAQ30EWOA8EAAAAQAZ8hdEK/AAX6yruQ2VKy4AAAABABnyNqQr8ABdG5DD6AkHvZAAAAE0GbKEmoQWyZTAh3//6plgAAlYEAAAAQQZ9GRRUsL/8ABDfQRY4DwQAAABABn2V0Qr8ABfrKu5DZUrLhAAAAEAGfZ2pCvwAF0bkMPoCQe9gAAAATQZtsSahBbJlMCHf//qmWAACVgAAAABBBn4pFFSwv/wAEN9BFjgPBAAAAEAGfqXRCvwAF+sq7kNlSsuAAAAAQAZ+rakK/AAXRuQw+gJB72AAAABNBm7BJqEFsmUwId//+qZYAAJWBAAAAEEGfzkUVLC//AAQ30EWOA8EAAAAQAZ/tdEK/AAX6yruQ2VKy4QAAABABn+9qQr8ABdG5DD6AkHvYAAAAE0Gb9EmoQWyZTAh3//6plgAAlYAAAAAQQZ4SRRUsL/8ABDfQRY4DwQAAABABnjF0Qr8ABfrKu5DZUrLgAAAAEAGeM2pCvwAF0bkMPoCQe9gAAAATQZo4SahBbJlMCHf//qmWAACVgQAAABBBnlZFFSwv/wAEN9BFjgPBAAAAEAGedXRCvwAF+sq7kNlSsuEAAAAQAZ53akK/AAXRuQw+gJB72QAAABNBmnxJqEFsmUwId//+qZYAAJWAAAAAEEGemkUVLC//AAQ30EWOA8EAAAAQAZ65dEK/AAX6yruQ2VKy4AAAABABnrtqQr8ABdG5DD6AkHvZAAAAE0GaoEmoQWyZTAh3//6plgAAlYEAAAAQQZ7eRRUsL/8ABDfQRY4DwQAAABABnv10Qr8ABfrKu5DZUrLgAAAAEAGe/2pCvwAF0bkMPoCQe9kAAAATQZrkSahBbJlMCHf//qmWAACVgAAAABBBnwJFFSwv/wAEN9BFjgPBAAAAEAGfIXRCvwAF+sq7kNlSsuAAAAAQAZ8jakK/AAXRuQw+gJB72QAAABNBmyhJqEFsmUwId//+qZYAAJWBAAAAEEGfRkUVLC//AAQ30EWOA8EAAAAQAZ9ldEK/AAX6yruQ2VKy4QAAABABn2dqQr8ABdG5DD6AkHvYAAAAE0GbbEmoQWyZTAh3//6plgAAlYAAAAAQQZ+KRRUsL/8ABDfQRY4DwQAAABABn6l0Qr8ABfrKu5DZUrLgAAAAEAGfq2pCvwAF0bkMPoCQe9gAAAATQZuwSahBbJlMCHf//qmWAACVgQAAABBBn85FFSwv/wAEN9BFjgPBAAAAEAGf7XRCvwAF+sq7kNlSsuEAAAAQAZ/vakK/AAXRuQw+gJB72AAAABNBm/RJqEFsmUwId//+qZYAAJWAAAAAEEGeEkUVLC//AAQ30EWOA8EAAAAQAZ4xdEK/AAX6yruQ2VKy4AAAABABnjNqQr8ABdG5DD6AkHvYAAAAE0GaOEmoQWyZTAh3//6plgAAlYEAAAAQQZ5WRRUsL/8ABDfQRY4DwQAAABABnnV0Qr8ABfrKu5DZUrLhAAAAEAGed2pCvwAF0bkMPoCQe9kAAAATQZp8SahBbJlMCHf//qmWAACVgAAAABBBnppFFSwv/wAEN9BFjgPBAAAAEAGeuXRCvwAF+sq7kNlSsuAAAAAQAZ67akK/AAXRuQw+gJB72QAAABJBmqBJqEFsmUwIb//+p4QAAScAAAAQQZ7eRRUsL/8ABDfQRY4DwQAAABABnv10Qr8ABfrKu5DZUrLgAAAAEAGe/2pCvwAF0bkMPoCQe9kAAAASQZrkSahBbJlMCG///qeEAAEnAAAAEEGfAkUVLC//AAQ30EWOA8EAAAAQAZ8hdEK/AAX6yruQ2VKy4AAAABABnyNqQr8ABdG5DD6AkHvZAAAAEkGbKEmoQWyZTAhf//6MsAAEjQAAABBBn0ZFFSwv/wAEN9BFjgPBAAAAEAGfZXRCvwAF+sq7kNlSsuEAAAAQAZ9nakK/AAXRuQw+gJB72AAAABpBm2lLqEIQWyRGCCgH8gH9h4AhX/44QAARcAAAC4Btb292AAAAbG12aGQAAAAAAAAAAAAAAAAAAAPoAAAfkAABAAABAAAAAAAAAAAAAAAAAQAAAAAAAAAAAAAAAAAAAAEAAAAAAAAAAAAAAAAAAEAAAAAAAAAAAAAAAAAAAAAAAAAAAAAAAAAAAAAAAAACAAAKqnRyYWsAAABcdGtoZAAAAAMAAAAAAAAAAAAAAAEAAAAAAAAfkAAAAAAAAAAAAAAAAAAAAAAAAQAAAAAAAAAAAAAAAAAAAAEAAAAAAAAAAAAAAAAAAEAAAAABEAAAARAAAAAAACRlZHRzAAAAHGVsc3QAAAAAAAAAAQAAH5AAAAQAAAEAAAAACiJtZGlhAAAAIG1kaGQAAAAAAAAAAAAAAAAAADIAAAGUAFXEAAAAAAAtaGRscgAAAAAAAAAAdmlkZQAAAAAAAAAAAAAAAFZpZGVvSGFuZGxlcgAAAAnNbWluZgAAABR2bWhkAAAAAQAAAAAAAAAAAAAAJGRpbmYAAAAcZHJlZgAAAAAAAAABAAAADHVybCAAAAABAAAJjXN0YmwAAACVc3RzZAAAAAAAAAABAAAAhWF2YzEAAAAAAAAAAQAAAAAAAAAAAAAAAAAAAAABEAEQAEgAAABIAAAAAAAAAAEAAAAAAAAAAAAAAAAAAAAAAAAAAAAAAAAAAAAAAAAAAAAY//8AAAAvYXZjQwH0AA3/4QAXZ/QADZGbKCIR0IAAAAMAgAAAGQeKFMsBAAVo6+PESAAAABhzdHRzAAAAAAAAAAEAAADKAAACAAAAABRzdHNzAAAAAAAAAAEAAAABAAAFWGN0dHMAAAAAAAAAqQAAAAcAAAQAAAAAAQAACgAAAAABAAAEAAAAAAEAAAAAAAAAAQAAAgAAAAABAAAEAAAAAAEAAAYAAAAAAQAAAgAAAAABAAAIAAAAAAIAAAIAAAAAAgAABAAAAAABAAAGAAAAAAEAAAIAAAAABAAABAAAAAABAAAGAAAAAAEAAAIAAAAABAAABAAAAAABAAAKAAAAAAEAAAQAAAAAAQAAAAAAAAABAAACAAAAAAUAAAQAAAAAAQAACgAAAAABAAAEAAAAAAEAAAAAAAAAAQAAAgAAAAABAAAGAAAAAAEAAAIAAAAAAgAABAAAAAABAAAGAAAAAAEAAAIAAAAAAQAABAAAAAABAAAGAAAAAAEAAAIAAAAAAwAABAAAAAABAAAKAAAAAAEAAAQAAAAAAQAAAAAAAAABAAACAAAAAAEAAAgAAAAAAgAAAgAAAAABAAAGAAAAAAEAAAIAAAAABgAABAAAAAABAAAIAAAAAAIAAAIAAAAAAQAABgAAAAABAAACAAAAAAEAAAYAAAAAAQAAAgAAAAABAAAGAAAAAAEAAAIAAAAABQAABAAAAAABAAAGAAAAAAEAAAIAAAAAAQAACgAAAAABAAAEAAAAAAEAAAAAAAAAAQAAAgAAAAACAAAEAAAAAAEAAAoAAAAAAQAABAAAAAABAAAAAAAAAAEAAAIAAAAAAQAACgAAAAABAAAEAAAAAAEAAAAAAAAAAQAAAgAAAAABAAAKAAAAAAEAAAQAAAAAAQAAAAAAAAABAAACAAAAAAEAAAoAAAAAAQAABAAAAAABAAAAAAAAAAEAAAIAAAAAAQAACgAAAAABAAAEAAAAAAEAAAAAAAAAAQAAAgAAAAABAAAKAAAAAAEAAAQAAAAAAQAAAAAAAAABAAACAAAAAAEAAAoAAAAAAQAABAAAAAABAAAAAAAAAAEAAAIAAAAAAQAACgAAAAABAAAEAAAAAAEAAAAAAAAAAQAAAgAAAAABAAAKAAAAAAEAAAQAAAAAAQAAAAAAAAABAAACAAAAAAEAAAoAAAAAAQAABAAAAAABAAAAAAAAAAEAAAIAAAAAAQAACgAAAAABAAAEAAAAAAEAAAAAAAAAAQAAAgAAAAABAAAKAAAAAAEAAAQAAAAAAQAAAAAAAAABAAACAAAAAAEAAAoAAAAAAQAABAAAAAABAAAAAAAAAAEAAAIAAAAAAQAACgAAAAABAAAEAAAAAAEAAAAAAAAAAQAAAgAAAAABAAAKAAAAAAEAAAQAAAAAAQAAAAAAAAABAAACAAAAAAEAAAoAAAAAAQAABAAAAAABAAAAAAAAAAEAAAIAAAAAAQAACgAAAAABAAAEAAAAAAEAAAAAAAAAAQAAAgAAAAABAAAKAAAAAAEAAAQAAAAAAQAAAAAAAAABAAACAAAAAAEAAAoAAAAAAQAABAAAAAABAAAAAAAAAAEAAAIAAAAAAQAACgAAAAABAAAEAAAAAAEAAAAAAAAAAQAAAgAAAAABAAAKAAAAAAEAAAQAAAAAAQAAAAAAAAABAAACAAAAAAEAAAoAAAAAAQAABAAAAAABAAAAAAAAAAEAAAIAAAAAAQAACgAAAAABAAAEAAAAAAEAAAAAAAAAAQAAAgAAAAABAAAKAAAAAAEAAAQAAAAAAQAAAAAAAAABAAACAAAAAAEAAAoAAAAAAQAABAAAAAABAAAAAAAAAAEAAAIAAAAAAQAACgAAAAABAAAEAAAAAAEAAAAAAAAAAQAAAgAAAAABAAAKAAAAAAEAAAQAAAAAAQAAAAAAAAABAAACAAAAAAEAAAQAAAAAHHN0c2MAAAAAAAAAAQAAAAEAAADKAAAAAQAAAzxzdHN6AAAAAAAAAAAAAADKAAAFdwAAABcAAAAbAAAAHAAAABwAAAAdAAAAHQAAACAAAAAYAAAAFAAAABQAAAAeAAAAIgAAABMAAAAqAAAAFgAAABQAAAAdAAAAHAAAACEAAAAUAAAAHAAAABwAAAAcAAAAHAAAACAAAAAUAAAAHAAAABwAAAAfAAAAHQAAACIAAAAaAAAAEwAAABQAAAAdAAAAHAAAABwAAAAcAAAAHQAAACMAAAAYAAAAFAAAABQAAAAhAAAAFAAAABwAAAAdAAAAIQAAABQAAAAdAAAAIgAAABQAAAAcAAAAHQAAAB0AAAAgAAAAFAAAABQAAAATAAAAHQAAABMAAAATAAAAIwAAABQAAAAcAAAAHAAAABwAAAAcAAAAHQAAAB0AAAAeAAAAFgAAABQAAAAgAAAAFAAAACAAAAAUAAAAIAAAABQAAAAcAAAAHAAAABwAAAAdAAAAHQAAACEAAAAUAAAAIAAAABQAAAAUAAAAEwAAAB4AAAAdAAAAFgAAABUAAAAUAAAAFAAAABcAAAAUAAAAFAAAABQAAAAXAAAAFAAAABQAAAAUAAAAFwAAABQAAAAUAAAAFAAAABcAAAAUAAAAFAAAABQAAAAXAAAAFAAAABQAAAAUAAAAFwAAABQAAAAUAAAAFAAAABcAAAAUAAAAFAAAABQAAAAXAAAAFAAAABQAAAAUAAAAFwAAABQAAAAUAAAAFAAAABcAAAAUAAAAFAAAABQAAAAXAAAAFAAAABQAAAAUAAAAFwAAABQAAAAUAAAAFAAAABcAAAAUAAAAFAAAABQAAAAXAAAAFAAAABQAAAAUAAAAFwAAABQAAAAUAAAAFAAAABcAAAAUAAAAFAAAABQAAAAXAAAAFAAAABQAAAAUAAAAFwAAABQAAAAUAAAAFAAAABcAAAAUAAAAFAAAABQAAAAXAAAAFAAAABQAAAAUAAAAFwAAABQAAAAUAAAAFAAAABcAAAAUAAAAFAAAABQAAAAXAAAAFAAAABQAAAAUAAAAFgAAABQAAAAUAAAAFAAAABYAAAAUAAAAFAAAABQAAAAWAAAAFAAAABQAAAAUAAAAHgAAABRzdGNvAAAAAAAAAAEAAAAwAAAAYnVkdGEAAABabWV0YQAAAAAAAAAhaGRscgAAAAAAAAAAbWRpcmFwcGwAAAAAAAAAAAAAAAAtaWxzdAAAACWpdG9vAAAAHWRhdGEAAAABAAAAAExhdmY1Ny44My4xMDA=\" type=\"video/mp4\" />\n",
              "             </video>"
            ],
            "text/plain": [
              "<IPython.core.display.HTML object>"
            ]
          },
          "metadata": {
            "tags": []
          },
          "execution_count": 52
        }
      ]
    },
    {
      "cell_type": "markdown",
      "metadata": {
        "id": "WNhY3EvAnASy",
        "colab_type": "text"
      },
      "source": [
        "***\n",
        "***\n",
        "__BONUS question__ Use the expert DQN from the previous question to generate some winning games. Train a model that mimicks its behavior. Compare the performances."
      ]
    },
    {
      "cell_type": "markdown",
      "metadata": {
        "id": "_d3j_WwLnASz",
        "colab_type": "text"
      },
      "source": [
        ""
      ]
    },
    {
      "cell_type": "markdown",
      "metadata": {
        "id": "IRB_VGCGnASz",
        "colab_type": "text"
      },
      "source": [
        "***"
      ]
    }
  ]
}